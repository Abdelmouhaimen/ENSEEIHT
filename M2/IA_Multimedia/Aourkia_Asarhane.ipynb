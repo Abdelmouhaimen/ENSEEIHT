{
  "nbformat": 4,
  "nbformat_minor": 0,
  "metadata": {
    "colab": {
      "provenance": [],
      "gpuType": "T4"
    },
    "kernelspec": {
      "name": "python3",
      "display_name": "Python 3"
    },
    "language_info": {
      "name": "python"
    },
    "accelerator": "GPU"
  },
  "cells": [
    {
      "cell_type": "markdown",
      "source": [
        "**Projet Traitement du Langage Naturel**\n",
        "\n",
        "*Préambule : le projet est à faire par groupe de deux personnes.*\n",
        "\n",
        "\n",
        "\n",
        "Le projet porte cette année sur le traitement du langage naturel. Je vous donne le choix entre deux sujets :\n",
        "\n",
        "\n",
        "\n",
        "*   **Génération** : vous devez implémenter un modèle permettant de générer du texte ressemblant à la base de données qui vous est fournie. En l'occurence, il s'agit ici de tweets écrits par Donald Trump.\n",
        "*   **Classification** : vous devez implémenter un modèle permettant de classifier des titres d'articles de presse, comme étant ou pas du *clickbait*.\n",
        "\n",
        "Je vous autorise à traiter un autre sujet si vous le souhaitez, mais **VOUS DEVEZ ME LE FAIRE VALIDER D'ABORD**.\n",
        "\n",
        "\n",
        "Voici une liste des tâches que je m'attends à vous voir réaliser pour mener à bien votre projet :     \n",
        "\n",
        "*   Lecture de la Base de Données et Chargement dans un notebook\n",
        "*   Mise en forme (*Tokenization*) de la base de données : ici vous pouvez opter dans un premier temps pour une solution simple (caractères ou mots), puis dans un second temps vous pouvez tester des solutions plus compliquées (voir par exemple [ici](https://huggingface.co/learn/nlp-course/chapter2/4)\n",
        "*   Implémentation du modèle, en vous inspirant du TP que nous avons fait ensemble. Attention à choisir le bon type de modèle (famille BERT ou GPT)\n",
        "*   Entraînement et évaluation du modèle.\n",
        "\n",
        "Chacune de ces étapes devra être décrite dans un rapport de 15 pages maximum, que vous me rendrez avec un Notebook correspondant.\n",
        "\n",
        "\n",
        "\n",
        "\n"
      ],
      "metadata": {
        "id": "qch4oD52mOWn"
      }
    },
    {
      "cell_type": "markdown",
      "source": [
        "**Projet GENERATION : Base de données de tweets de Trump** :"
      ],
      "metadata": {
        "id": "WVxnhwf2mVSS"
      }
    },
    {
      "cell_type": "code",
      "execution_count": 1,
      "metadata": {
        "colab": {
          "base_uri": "https://localhost:8080/"
        },
        "id": "NSn01pC0-_7l",
        "outputId": "12c22c77-8a01-47b8-854f-540c2b0d9b4d"
      },
      "outputs": [
        {
          "output_type": "stream",
          "name": "stdout",
          "text": [
            "Downloading data from https://drive.google.com/uc?export=download&id=1s1isv9TQjGiEr2gG__8bOdBFvQlmepRt\n",
            "\u001b[1m11331653/11331653\u001b[0m \u001b[32m━━━━━━━━━━━━━━━━━━━━\u001b[0m\u001b[37m\u001b[0m \u001b[1m0s\u001b[0m 0us/step\n",
            "['Be sure to tune in and watch Donald Trump on Late Night with David Letterman as he presents the Top Ten List tonight!', 'Donald Trump will be appearing on The View tomorrow morning to discuss Celebrity Apprentice and his new book Think Like A Champion!', 'Donald Trump reads Top Ten Financial Tips on Late Show with David Letterman: http://tinyurl.com/ooafwn - Very funny!', 'New Blog Post: Celebrity Apprentice Finale and Lessons Learned Along the Way: http://tinyurl.com/qlux5e', '\"My persona will never be that of a wallflower - I’d rather build walls than cling to them\" --Donald J. Trump', 'Miss USA Tara Conner will not be fired - \"I\\'ve always been a believer in second chances.\" says Donald Trump', 'Listen to an interview with Donald Trump discussing his new book, Think Like A Champion: http://tinyurl.com/qs24vl', '\"Strive for wholeness and keep your sense of wonder intact.\" --Donald J. Trump http://tinyurl.com/pqpfvm', 'Enter the \"Think Like A Champion\" signed book and keychain contest: http://www.trumpthinklikeachampion.com/contest/', '\"When the achiever achieves, it\\'s not a plateau, it’s a beginning.\" --Donald J. Trump http://tinyurl.com/pqpfvm']\n"
          ]
        }
      ],
      "source": [
        "import tensorflow as tf\n",
        "import csv\n",
        "\n",
        "path_to_file = tf.keras.utils.get_file('realdonaltrump.csv', 'https://drive.google.com/uc?export=download&id=1s1isv9TQjGiEr2gG__8bOdBFvQlmepRt')\n",
        "\n",
        "\n",
        "tweets = []\n",
        "with open(path_to_file, newline='') as csvfile:\n",
        "    reader = csv.DictReader(csvfile)\n",
        "    for row in reader:\n",
        "        tweets.append(row['content'])\n",
        "\n",
        "# Affichage des 10 premiers tweets\n",
        "print(tweets[:10])"
      ]
    },
    {
      "cell_type": "markdown",
      "source": [
        "#Projet GENERATION :\n"
      ],
      "metadata": {
        "id": "k9qXqc5zmcWF"
      }
    },
    {
      "cell_type": "code",
      "source": [
        "! pip install tiktoken\n",
        "! pip install torchinfo\n",
        "! pip install transformers datasets\n",
        "! pip install nltk"
      ],
      "metadata": {
        "colab": {
          "base_uri": "https://localhost:8080/"
        },
        "id": "8UBdVuyQ_Bp6",
        "outputId": "0073f81b-9d15-4a8c-8b43-281853acc99a"
      },
      "execution_count": 2,
      "outputs": [
        {
          "output_type": "stream",
          "name": "stdout",
          "text": [
            "Collecting tiktoken\n",
            "  Downloading tiktoken-0.8.0-cp311-cp311-manylinux_2_17_x86_64.manylinux2014_x86_64.whl.metadata (6.6 kB)\n",
            "Requirement already satisfied: regex>=2022.1.18 in /usr/local/lib/python3.11/dist-packages (from tiktoken) (2024.11.6)\n",
            "Requirement already satisfied: requests>=2.26.0 in /usr/local/lib/python3.11/dist-packages (from tiktoken) (2.32.3)\n",
            "Requirement already satisfied: charset-normalizer<4,>=2 in /usr/local/lib/python3.11/dist-packages (from requests>=2.26.0->tiktoken) (3.4.1)\n",
            "Requirement already satisfied: idna<4,>=2.5 in /usr/local/lib/python3.11/dist-packages (from requests>=2.26.0->tiktoken) (3.10)\n",
            "Requirement already satisfied: urllib3<3,>=1.21.1 in /usr/local/lib/python3.11/dist-packages (from requests>=2.26.0->tiktoken) (2.3.0)\n",
            "Requirement already satisfied: certifi>=2017.4.17 in /usr/local/lib/python3.11/dist-packages (from requests>=2.26.0->tiktoken) (2024.12.14)\n",
            "Downloading tiktoken-0.8.0-cp311-cp311-manylinux_2_17_x86_64.manylinux2014_x86_64.whl (1.2 MB)\n",
            "\u001b[?25l   \u001b[90m━━━━━━━━━━━━━━━━━━━━━━━━━━━━━━━━━━━━━━━━\u001b[0m \u001b[32m0.0/1.2 MB\u001b[0m \u001b[31m?\u001b[0m eta \u001b[36m-:--:--\u001b[0m\r\u001b[2K   \u001b[91m━━━\u001b[0m\u001b[90m╺\u001b[0m\u001b[90m━━━━━━━━━━━━━━━━━━━━━━━━━━━━━━━━━━━━\u001b[0m \u001b[32m0.1/1.2 MB\u001b[0m \u001b[31m2.7 MB/s\u001b[0m eta \u001b[36m0:00:01\u001b[0m\r\u001b[2K   \u001b[91m━━━━━━━━━━━━━━━━━━━━━━\u001b[0m\u001b[91m╸\u001b[0m\u001b[90m━━━━━━━━━━━━━━━━━\u001b[0m \u001b[32m0.7/1.2 MB\u001b[0m \u001b[31m10.0 MB/s\u001b[0m eta \u001b[36m0:00:01\u001b[0m\r\u001b[2K   \u001b[90m━━━━━━━━━━━━━━━━━━━━━━━━━━━━━━━━━━━━━━━━\u001b[0m \u001b[32m1.2/1.2 MB\u001b[0m \u001b[31m13.0 MB/s\u001b[0m eta \u001b[36m0:00:00\u001b[0m\n",
            "\u001b[?25hInstalling collected packages: tiktoken\n",
            "Successfully installed tiktoken-0.8.0\n",
            "Collecting torchinfo\n",
            "  Downloading torchinfo-1.8.0-py3-none-any.whl.metadata (21 kB)\n",
            "Downloading torchinfo-1.8.0-py3-none-any.whl (23 kB)\n",
            "Installing collected packages: torchinfo\n",
            "Successfully installed torchinfo-1.8.0\n",
            "Requirement already satisfied: transformers in /usr/local/lib/python3.11/dist-packages (4.47.1)\n",
            "Collecting datasets\n",
            "  Downloading datasets-3.2.0-py3-none-any.whl.metadata (20 kB)\n",
            "Requirement already satisfied: filelock in /usr/local/lib/python3.11/dist-packages (from transformers) (3.17.0)\n",
            "Requirement already satisfied: huggingface-hub<1.0,>=0.24.0 in /usr/local/lib/python3.11/dist-packages (from transformers) (0.27.1)\n",
            "Requirement already satisfied: numpy>=1.17 in /usr/local/lib/python3.11/dist-packages (from transformers) (1.26.4)\n",
            "Requirement already satisfied: packaging>=20.0 in /usr/local/lib/python3.11/dist-packages (from transformers) (24.2)\n",
            "Requirement already satisfied: pyyaml>=5.1 in /usr/local/lib/python3.11/dist-packages (from transformers) (6.0.2)\n",
            "Requirement already satisfied: regex!=2019.12.17 in /usr/local/lib/python3.11/dist-packages (from transformers) (2024.11.6)\n",
            "Requirement already satisfied: requests in /usr/local/lib/python3.11/dist-packages (from transformers) (2.32.3)\n",
            "Requirement already satisfied: tokenizers<0.22,>=0.21 in /usr/local/lib/python3.11/dist-packages (from transformers) (0.21.0)\n",
            "Requirement already satisfied: safetensors>=0.4.1 in /usr/local/lib/python3.11/dist-packages (from transformers) (0.5.2)\n",
            "Requirement already satisfied: tqdm>=4.27 in /usr/local/lib/python3.11/dist-packages (from transformers) (4.67.1)\n",
            "Requirement already satisfied: pyarrow>=15.0.0 in /usr/local/lib/python3.11/dist-packages (from datasets) (17.0.0)\n",
            "Collecting dill<0.3.9,>=0.3.0 (from datasets)\n",
            "  Downloading dill-0.3.8-py3-none-any.whl.metadata (10 kB)\n",
            "Requirement already satisfied: pandas in /usr/local/lib/python3.11/dist-packages (from datasets) (2.2.2)\n",
            "Collecting xxhash (from datasets)\n",
            "  Downloading xxhash-3.5.0-cp311-cp311-manylinux_2_17_x86_64.manylinux2014_x86_64.whl.metadata (12 kB)\n",
            "Collecting multiprocess<0.70.17 (from datasets)\n",
            "  Downloading multiprocess-0.70.16-py311-none-any.whl.metadata (7.2 kB)\n",
            "Collecting fsspec<=2024.9.0,>=2023.1.0 (from fsspec[http]<=2024.9.0,>=2023.1.0->datasets)\n",
            "  Downloading fsspec-2024.9.0-py3-none-any.whl.metadata (11 kB)\n",
            "Requirement already satisfied: aiohttp in /usr/local/lib/python3.11/dist-packages (from datasets) (3.11.11)\n",
            "Requirement already satisfied: aiohappyeyeballs>=2.3.0 in /usr/local/lib/python3.11/dist-packages (from aiohttp->datasets) (2.4.4)\n",
            "Requirement already satisfied: aiosignal>=1.1.2 in /usr/local/lib/python3.11/dist-packages (from aiohttp->datasets) (1.3.2)\n",
            "Requirement already satisfied: attrs>=17.3.0 in /usr/local/lib/python3.11/dist-packages (from aiohttp->datasets) (25.1.0)\n",
            "Requirement already satisfied: frozenlist>=1.1.1 in /usr/local/lib/python3.11/dist-packages (from aiohttp->datasets) (1.5.0)\n",
            "Requirement already satisfied: multidict<7.0,>=4.5 in /usr/local/lib/python3.11/dist-packages (from aiohttp->datasets) (6.1.0)\n",
            "Requirement already satisfied: propcache>=0.2.0 in /usr/local/lib/python3.11/dist-packages (from aiohttp->datasets) (0.2.1)\n",
            "Requirement already satisfied: yarl<2.0,>=1.17.0 in /usr/local/lib/python3.11/dist-packages (from aiohttp->datasets) (1.18.3)\n",
            "Requirement already satisfied: typing-extensions>=3.7.4.3 in /usr/local/lib/python3.11/dist-packages (from huggingface-hub<1.0,>=0.24.0->transformers) (4.12.2)\n",
            "Requirement already satisfied: charset-normalizer<4,>=2 in /usr/local/lib/python3.11/dist-packages (from requests->transformers) (3.4.1)\n",
            "Requirement already satisfied: idna<4,>=2.5 in /usr/local/lib/python3.11/dist-packages (from requests->transformers) (3.10)\n",
            "Requirement already satisfied: urllib3<3,>=1.21.1 in /usr/local/lib/python3.11/dist-packages (from requests->transformers) (2.3.0)\n",
            "Requirement already satisfied: certifi>=2017.4.17 in /usr/local/lib/python3.11/dist-packages (from requests->transformers) (2024.12.14)\n",
            "Requirement already satisfied: python-dateutil>=2.8.2 in /usr/local/lib/python3.11/dist-packages (from pandas->datasets) (2.8.2)\n",
            "Requirement already satisfied: pytz>=2020.1 in /usr/local/lib/python3.11/dist-packages (from pandas->datasets) (2024.2)\n",
            "Requirement already satisfied: tzdata>=2022.7 in /usr/local/lib/python3.11/dist-packages (from pandas->datasets) (2025.1)\n",
            "Requirement already satisfied: six>=1.5 in /usr/local/lib/python3.11/dist-packages (from python-dateutil>=2.8.2->pandas->datasets) (1.17.0)\n",
            "Downloading datasets-3.2.0-py3-none-any.whl (480 kB)\n",
            "\u001b[2K   \u001b[90m━━━━━━━━━━━━━━━━━━━━━━━━━━━━━━━━━━━━━━━━\u001b[0m \u001b[32m480.6/480.6 kB\u001b[0m \u001b[31m9.5 MB/s\u001b[0m eta \u001b[36m0:00:00\u001b[0m\n",
            "\u001b[?25hDownloading dill-0.3.8-py3-none-any.whl (116 kB)\n",
            "\u001b[2K   \u001b[90m━━━━━━━━━━━━━━━━━━━━━━━━━━━━━━━━━━━━━━━━\u001b[0m \u001b[32m116.3/116.3 kB\u001b[0m \u001b[31m12.0 MB/s\u001b[0m eta \u001b[36m0:00:00\u001b[0m\n",
            "\u001b[?25hDownloading fsspec-2024.9.0-py3-none-any.whl (179 kB)\n",
            "\u001b[2K   \u001b[90m━━━━━━━━━━━━━━━━━━━━━━━━━━━━━━━━━━━━━━━━\u001b[0m \u001b[32m179.3/179.3 kB\u001b[0m \u001b[31m18.9 MB/s\u001b[0m eta \u001b[36m0:00:00\u001b[0m\n",
            "\u001b[?25hDownloading multiprocess-0.70.16-py311-none-any.whl (143 kB)\n",
            "\u001b[2K   \u001b[90m━━━━━━━━━━━━━━━━━━━━━━━━━━━━━━━━━━━━━━━━\u001b[0m \u001b[32m143.5/143.5 kB\u001b[0m \u001b[31m14.5 MB/s\u001b[0m eta \u001b[36m0:00:00\u001b[0m\n",
            "\u001b[?25hDownloading xxhash-3.5.0-cp311-cp311-manylinux_2_17_x86_64.manylinux2014_x86_64.whl (194 kB)\n",
            "\u001b[2K   \u001b[90m━━━━━━━━━━━━━━━━━━━━━━━━━━━━━━━━━━━━━━━━\u001b[0m \u001b[32m194.8/194.8 kB\u001b[0m \u001b[31m18.9 MB/s\u001b[0m eta \u001b[36m0:00:00\u001b[0m\n",
            "\u001b[?25hInstalling collected packages: xxhash, fsspec, dill, multiprocess, datasets\n",
            "  Attempting uninstall: fsspec\n",
            "    Found existing installation: fsspec 2024.10.0\n",
            "    Uninstalling fsspec-2024.10.0:\n",
            "      Successfully uninstalled fsspec-2024.10.0\n",
            "\u001b[31mERROR: pip's dependency resolver does not currently take into account all the packages that are installed. This behaviour is the source of the following dependency conflicts.\n",
            "torch 2.5.1+cu124 requires nvidia-cublas-cu12==12.4.5.8; platform_system == \"Linux\" and platform_machine == \"x86_64\", but you have nvidia-cublas-cu12 12.5.3.2 which is incompatible.\n",
            "torch 2.5.1+cu124 requires nvidia-cuda-cupti-cu12==12.4.127; platform_system == \"Linux\" and platform_machine == \"x86_64\", but you have nvidia-cuda-cupti-cu12 12.5.82 which is incompatible.\n",
            "torch 2.5.1+cu124 requires nvidia-cuda-nvrtc-cu12==12.4.127; platform_system == \"Linux\" and platform_machine == \"x86_64\", but you have nvidia-cuda-nvrtc-cu12 12.5.82 which is incompatible.\n",
            "torch 2.5.1+cu124 requires nvidia-cuda-runtime-cu12==12.4.127; platform_system == \"Linux\" and platform_machine == \"x86_64\", but you have nvidia-cuda-runtime-cu12 12.5.82 which is incompatible.\n",
            "torch 2.5.1+cu124 requires nvidia-cudnn-cu12==9.1.0.70; platform_system == \"Linux\" and platform_machine == \"x86_64\", but you have nvidia-cudnn-cu12 9.3.0.75 which is incompatible.\n",
            "torch 2.5.1+cu124 requires nvidia-cufft-cu12==11.2.1.3; platform_system == \"Linux\" and platform_machine == \"x86_64\", but you have nvidia-cufft-cu12 11.2.3.61 which is incompatible.\n",
            "torch 2.5.1+cu124 requires nvidia-curand-cu12==10.3.5.147; platform_system == \"Linux\" and platform_machine == \"x86_64\", but you have nvidia-curand-cu12 10.3.6.82 which is incompatible.\n",
            "torch 2.5.1+cu124 requires nvidia-cusolver-cu12==11.6.1.9; platform_system == \"Linux\" and platform_machine == \"x86_64\", but you have nvidia-cusolver-cu12 11.6.3.83 which is incompatible.\n",
            "torch 2.5.1+cu124 requires nvidia-cusparse-cu12==12.3.1.170; platform_system == \"Linux\" and platform_machine == \"x86_64\", but you have nvidia-cusparse-cu12 12.5.1.3 which is incompatible.\n",
            "torch 2.5.1+cu124 requires nvidia-nvjitlink-cu12==12.4.127; platform_system == \"Linux\" and platform_machine == \"x86_64\", but you have nvidia-nvjitlink-cu12 12.5.82 which is incompatible.\n",
            "gcsfs 2024.10.0 requires fsspec==2024.10.0, but you have fsspec 2024.9.0 which is incompatible.\u001b[0m\u001b[31m\n",
            "\u001b[0mSuccessfully installed datasets-3.2.0 dill-0.3.8 fsspec-2024.9.0 multiprocess-0.70.16 xxhash-3.5.0\n",
            "Requirement already satisfied: nltk in /usr/local/lib/python3.11/dist-packages (3.9.1)\n",
            "Requirement already satisfied: click in /usr/local/lib/python3.11/dist-packages (from nltk) (8.1.8)\n",
            "Requirement already satisfied: joblib in /usr/local/lib/python3.11/dist-packages (from nltk) (1.4.2)\n",
            "Requirement already satisfied: regex>=2021.8.3 in /usr/local/lib/python3.11/dist-packages (from nltk) (2024.11.6)\n",
            "Requirement already satisfied: tqdm in /usr/local/lib/python3.11/dist-packages (from nltk) (4.67.1)\n"
          ]
        }
      ]
    },
    {
      "cell_type": "code",
      "source": [
        "import tiktoken\n",
        "import torch\n",
        "from torch.utils.data import DataLoader, TensorDataset\n",
        "import torch.nn as nn\n",
        "import torch.optim as optim\n",
        "import torch.nn.functional as F\n",
        "import re\n",
        "import numpy as np\n",
        "from torchinfo import summary\n",
        "from tqdm import tqdm\n",
        "import os"
      ],
      "metadata": {
        "id": "uo3odfHo_Jmd"
      },
      "execution_count": 3,
      "outputs": []
    },
    {
      "cell_type": "code",
      "source": [
        "batch_size = 30\n",
        "context_size = 512\n",
        "epochs = 150\n",
        "eval_interval = 500\n",
        "learning_rate = 1e-4\n",
        "device = 'cuda' if torch.cuda.is_available() else 'cpu'\n",
        "print(device)\n",
        "n_embd = 150\n",
        "n_head = 3\n",
        "n_layer = 3\n",
        "dropout = 0.2"
      ],
      "metadata": {
        "id": "sc7hddpt_MON",
        "colab": {
          "base_uri": "https://localhost:8080/"
        },
        "outputId": "d8c413e2-0da5-4a68-8463-512612975135"
      },
      "execution_count": 4,
      "outputs": [
        {
          "output_type": "stream",
          "name": "stdout",
          "text": [
            "cuda\n"
          ]
        }
      ]
    },
    {
      "cell_type": "code",
      "source": [
        "# Fonction de nettoyage des données\n",
        "# Cette fonction parcourt chaque tweet et filtre ceux qui ne correspondent pas à\n",
        "# un format spécifique, uniquement constitué de caractères alphanumériques et de quelques symboles autorisés.\n",
        "def datacleaning(tweets) :\n",
        "  filtered_tweets = []\n",
        "  for tweet in tweets:\n",
        "    if re.fullmatch(r'[a-zA-Z0-9\\s.,!?\\'\"-]+', tweet):\n",
        "      filtered_tweets.append(tweet)\n",
        "  return filtered_tweets\n"
      ],
      "metadata": {
        "id": "OFtemi6oH70L"
      },
      "execution_count": 129,
      "outputs": []
    },
    {
      "cell_type": "code",
      "source": [
        "tweets = datacleaning(tweets)\n",
        "print(tweets[:10])"
      ],
      "metadata": {
        "colab": {
          "base_uri": "https://localhost:8080/"
        },
        "id": "b_kAFytCJFt7",
        "outputId": "44022562-0269-4bbf-9130-784f785cdb7c"
      },
      "execution_count": 130,
      "outputs": [
        {
          "output_type": "stream",
          "name": "stdout",
          "text": [
            "['Be sure to tune in and watch Donald Trump on Late Night with David Letterman as he presents the Top Ten List tonight!', 'Donald Trump will be appearing on The View tomorrow morning to discuss Celebrity Apprentice and his new book Think Like A Champion!', 'Miss USA Tara Conner will not be fired - \"I\\'ve always been a believer in second chances.\" says Donald Trump', \"Here's to a safe and happy Independence Day for one and all - Enjoy it! --Donald J. Trump\", 'Wishing you and yours a very Happy and Bountiful Thanksgiving!', 'Superbowl Sunday is a great American tradition. The Colts and Saints are already champions, but may the best team win!', 'The Celebrity Apprentice has a two-hour premiere this Sunday, March 14th, at 9 p.m. on NBC. This will be the best season yet, see you then!', 'The new season of the Celebrity Apprentice is off to a great start-- last night it swept the 10 p.m. hour in every key demographic.', \"Olympic Gold Medalist Evan Lysacek just left my office. He is in town and wanted to meet me--he's a fanastic guy and a true champion.\", 'I am happy to announce that theoriginal Apprentice --which will offer job opportunities to those in need--is coming back.']\n"
          ]
        }
      ]
    },
    {
      "cell_type": "code",
      "source": [
        "# Fonction de création de vocabulaire\n",
        "# Cette fonction prend un jeu de données\n",
        "# et crée un vocabulaire unique de tous les caractères présents dans les données.\n",
        "# Elle ajoute également des tokens spéciaux <sot> (start of tweet) et <eot> (end of tweet).\n",
        "def vocab_creation(base) :\n",
        "  all_words = ''\n",
        "  for s in base:\n",
        "    all_words = all_words + s\n",
        "\n",
        "  vocab =  sorted(list(set(all_words)))\n",
        "  vocab.insert(0,'<sot>')\n",
        "  vocab.append('<eot>')\n",
        "  token_to_id = {char: idx for idx, char in enumerate(vocab)}\n",
        "  id_to_token = {idx: char for idx, char in enumerate(vocab)}\n",
        "  return len(vocab), token_to_id,id_to_token"
      ],
      "metadata": {
        "id": "c9Oq5QbM_fDX"
      },
      "execution_count": 7,
      "outputs": []
    },
    {
      "cell_type": "code",
      "source": [
        "VOCAB_SIZE,token_to_id,id_to_token = vocab_creation(tweets)\n",
        "print(\"\".join(token_to_id.keys()))\n",
        "print(VOCAB_SIZE)\n",
        "print(token_to_id)"
      ],
      "metadata": {
        "colab": {
          "base_uri": "https://localhost:8080/"
        },
        "id": "_qOFPGFs_ieK",
        "outputId": "aea11d8b-ce66-4325-b28a-b89a3d8d3a68"
      },
      "execution_count": 8,
      "outputs": [
        {
          "output_type": "stream",
          "name": "stdout",
          "text": [
            "<sot> !\"',-.0123456789?ABCDEFGHIJKLMNOPQRSTUVWXYZabcdefghijklmnopqrstuvwxyz<eot>\n",
            "72\n",
            "{'<sot>': 0, ' ': 1, '!': 2, '\"': 3, \"'\": 4, ',': 5, '-': 6, '.': 7, '0': 8, '1': 9, '2': 10, '3': 11, '4': 12, '5': 13, '6': 14, '7': 15, '8': 16, '9': 17, '?': 18, 'A': 19, 'B': 20, 'C': 21, 'D': 22, 'E': 23, 'F': 24, 'G': 25, 'H': 26, 'I': 27, 'J': 28, 'K': 29, 'L': 30, 'M': 31, 'N': 32, 'O': 33, 'P': 34, 'Q': 35, 'R': 36, 'S': 37, 'T': 38, 'U': 39, 'V': 40, 'W': 41, 'X': 42, 'Y': 43, 'Z': 44, 'a': 45, 'b': 46, 'c': 47, 'd': 48, 'e': 49, 'f': 50, 'g': 51, 'h': 52, 'i': 53, 'j': 54, 'k': 55, 'l': 56, 'm': 57, 'n': 58, 'o': 59, 'p': 60, 'q': 61, 'r': 62, 's': 63, 't': 64, 'u': 65, 'v': 66, 'w': 67, 'x': 68, 'y': 69, 'z': 70, '<eot>': 71}\n"
          ]
        }
      ]
    },
    {
      "cell_type": "code",
      "source": [
        "# Fonction pour encoder une chaîne de caractères en indices numériques\n",
        "encode  = lambda s :[token_to_id[c] for c in s]\n",
        "# Fonction pour décoder une liste d'indices en chaîne de caractères\n",
        "decode  = lambda l : ''.join([id_to_token[i] for i in l])"
      ],
      "metadata": {
        "id": "1EV5WSo7_oH7"
      },
      "execution_count": 9,
      "outputs": []
    },
    {
      "cell_type": "code",
      "source": [
        "encode(\"trump\")"
      ],
      "metadata": {
        "colab": {
          "base_uri": "https://localhost:8080/"
        },
        "id": "7-kLiXyrEy-j",
        "outputId": "f3e74bad-bc31-4216-aeef-df10a24f42b1"
      },
      "execution_count": 10,
      "outputs": [
        {
          "output_type": "execute_result",
          "data": {
            "text/plain": [
              "[64, 62, 65, 57, 60]"
            ]
          },
          "metadata": {},
          "execution_count": 10
        }
      ]
    },
    {
      "cell_type": "code",
      "source": [
        "# Cette fonction prend une liste de chaînes de caractères ('base') et un dictionnaire de mappage de tokens ('token_to_id'),\n",
        "# elle encode chaque chaîne en une séquence d'indices numériques correspondant à chaque token y compris les tokens de début et de fin,\n",
        "# puis retourne les données sous forme de tenseur PyTorch et les indices des positions de <sot>.\n",
        "def data_preprocessing(base,token_to_id) :\n",
        "  n = len(base)\n",
        "  code = []\n",
        "  for s in base :\n",
        "    s = [token_to_id['<sot>']] + encode(s) + [token_to_id['<eot>']]\n",
        "    code.extend(s)\n",
        "  data = np.asarray(code)\n",
        "  indices = np.where(data==0)[0]\n",
        "  return torch.from_numpy(data),indices.astype(int)\n"
      ],
      "metadata": {
        "id": "_UWR6USn_rXR"
      },
      "execution_count": 11,
      "outputs": []
    },
    {
      "cell_type": "code",
      "source": [
        "data, indices = data_preprocessing(tweets,token_to_id)\n"
      ],
      "metadata": {
        "id": "haTlj5ej_5-J"
      },
      "execution_count": 12,
      "outputs": []
    },
    {
      "cell_type": "code",
      "source": [
        "\n",
        "def build_dataloader(data,indices, batch_size,context_size, shuffle=True ,p_train = 0.8 ):\n",
        "\n",
        "  X = torch.stack([data[i:i+context_size] for i in indices if i+context_size < len(data)])\n",
        "  Y = torch.stack([data[i+1:i+context_size+1] for i in indices if i+context_size+1 < len(data)])\n",
        "\n",
        "  dataset = TensorDataset(X, Y)\n",
        "   # Calculer la taille de l'ensemble d'entraînement\n",
        "  train_size = int(p_train * len(X))\n",
        "  test_size = len(X) - train_size\n",
        "  # Séparer les données en ensembles d'entraînement et de test\n",
        "  train_dataset, test_dataset = torch.utils.data.random_split(dataset, [train_size, test_size])\n",
        "  # Créer les DataLoader pour l'entraînement et le test\n",
        "  train_dataloader = DataLoader(train_dataset, batch_size=batch_size, shuffle=True)\n",
        "  test_dataloader = DataLoader(test_dataset, batch_size=batch_size, shuffle=True)\n",
        "  return train_dataloader, test_dataloader\n"
      ],
      "metadata": {
        "id": "ZD-dSFEeAQX7"
      },
      "execution_count": 13,
      "outputs": []
    },
    {
      "cell_type": "code",
      "source": [
        "train_dataloader, test_dataloader = build_dataloader(data,indices, batch_size,context_size)\n",
        "\n",
        "(xb,yb) = next(iter(train_dataloader))\n",
        "print(xb)\n",
        "print(yb)\n"
      ],
      "metadata": {
        "id": "7cOMjjOQH_IE",
        "colab": {
          "base_uri": "https://localhost:8080/"
        },
        "outputId": "66ac7b6d-a13f-4627-e6e7-5b7f3e0a1403"
      },
      "execution_count": 14,
      "outputs": [
        {
          "output_type": "stream",
          "name": "stdout",
          "text": [
            "tensor([[ 0, 38, 52,  ..., 64, 52, 49],\n",
            "        [ 0, 41, 52,  ..., 67, 59, 65],\n",
            "        [ 0, 38, 52,  ..., 58, 53, 64],\n",
            "        ...,\n",
            "        [ 0, 19, 58,  ..., 45, 63,  1],\n",
            "        [ 0,  3, 26,  ..., 67, 53, 63],\n",
            "        [ 0,  3, 31,  ..., 63, 59,  6]])\n",
            "tensor([[38, 52, 49,  ..., 52, 49,  1],\n",
            "        [41, 52, 69,  ..., 59, 65, 56],\n",
            "        [38, 52, 49,  ..., 53, 64, 49],\n",
            "        ...,\n",
            "        [19, 58, 64,  ..., 63,  1, 45],\n",
            "        [ 3, 26, 49,  ..., 53, 63, 52],\n",
            "        [ 3, 31, 45,  ..., 59,  6, 47]])\n"
          ]
        }
      ]
    },
    {
      "cell_type": "code",
      "source": [
        "class TokenAndPositionEmbedding(nn.Module) :\n",
        "\n",
        "  def __init__(self, vocab_size, embedding_dim, context_size) :\n",
        "    super().__init__()\n",
        "    # Créer l'embedding pour les tokens\n",
        "    self.token_emb = nn.Embedding(vocab_size, embedding_dim)\n",
        "    # Créer l'embedding pour les positions\n",
        "    self.pos_emb = nn.Embedding(context_size, embedding_dim)\n",
        "\n",
        "  def forward(self ,x) :\n",
        "    # Récupérer la taille du contexte\n",
        "    context_size = x.shape[1]\n",
        "    # Créer un tensor représentant les positions de chaque token dans la séquence (de 0 à T-1)\n",
        "    positions = torch.arange(start=0, end=context_size, dtype=torch.long , device=device) # (T,C)\n",
        "    positions_emb = self.pos_emb(positions)\n",
        "    token_emb = self.token_emb(x) # (B,T,C)\n",
        "    # Ajouter l'embedding des positions à l'embedding des tokens pour inclure l'information de la position dans la séquence\n",
        "    return token_emb + positions_emb"
      ],
      "metadata": {
        "id": "kE_ER3A9SF-d"
      },
      "execution_count": 15,
      "outputs": []
    },
    {
      "cell_type": "code",
      "source": [
        "class TransformerBlock(nn.Module):\n",
        "\n",
        "    def __init__(self, embed_dim, num_heads, rate=0.1):\n",
        "        super().__init__()\n",
        "        # Multihead Attention  pour le traitement parallèle de plusieurs têtes\n",
        "        self.att = nn.MultiheadAttention(embed_dim, num_heads , batch_first=True)\n",
        "        # Feed-Forward Network (FFN)\n",
        "        self.ffn = nn.Sequential(\n",
        "            nn.Linear(embed_dim, embed_dim * 4),\n",
        "            nn.ReLU(),\n",
        "            nn.Linear(embed_dim * 4, embed_dim),\n",
        "        )\n",
        "        # LayerNorm pour normaliser les sorties\n",
        "        self.layernorm1 = nn.LayerNorm(embed_dim)\n",
        "        self.layernorm2 = nn.LayerNorm(embed_dim)\n",
        "        self.dropout1 = nn.Dropout(rate)\n",
        "        self.dropout2 = nn.Dropout(rate)\n",
        "\n",
        "    def forward(self, inputs,src_mask=None):\n",
        "        # Récupérer la longueur de la séquence d'entrée\n",
        "        sequence_length  = inputs.shape[1]\n",
        "\n",
        "        # Créer un masque d'attention (attn_mask) pour empêcher l'attention sur les positions futures\n",
        "        #attn_mask  = torch.triu(torch.ones(sequence_length, sequence_length,device=inputs.device), diagonal=1)\n",
        "        attn_mask = torch.triu(torch.full((sequence_length, sequence_length), float(\"-inf\"), device=inputs.device), diagonal=1)\n",
        "\n",
        "        attn_output, _ = self.att(inputs, inputs, inputs ,\n",
        "                                  attn_mask=attn_mask)\n",
        "\n",
        "        inputs = self.layernorm1(inputs + attn_output)\n",
        "\n",
        "        out = self.layernorm2(self.ffn(inputs) + inputs)\n",
        "\n",
        "        return  out"
      ],
      "metadata": {
        "id": "yDnnWofJSOKX"
      },
      "execution_count": 16,
      "outputs": []
    },
    {
      "cell_type": "code",
      "source": [
        "class Gpt(nn.Module) :\n",
        "\n",
        "  def __init__(self, rate=0.1):\n",
        "\n",
        "    super().__init__()\n",
        "    # Embedding des tokens et des positions\n",
        "    self.embedding  = TokenAndPositionEmbedding(VOCAB_SIZE, n_embd, context_size)\n",
        "    # Création de plusieurs blocs Transformer\n",
        "    self.blocks = nn.Sequential(*[TransformerBlock(n_embd, num_heads= n_head) for _ in range(n_layer)])\n",
        "    # Normalisation finale des sorties\n",
        "    self.ln_f = nn.LayerNorm(n_embd)\n",
        "    # La tête de sortie, qui prédit les tokens suivants dans la séquence\n",
        "    self.lm_head = nn.Linear(n_embd, VOCAB_SIZE)\n",
        "    # Initialisation des poids du modèle\n",
        "    self.apply(self._init_weights)\n",
        "\n",
        "  # Fonction pour initialiser les poids des différentes couches\n",
        "  def _init_weights(self, module):\n",
        "    if isinstance(module, nn.Linear):\n",
        "       # Initialiser les poids des couches linéaires avec une distribution normale\n",
        "        torch.nn.init.normal_(module.weight, mean=0.0, std=0.02)\n",
        "        if module.bias is not None:\n",
        "            torch.nn.init.zeros_(module.bias)\n",
        "    elif isinstance(module, nn.Embedding):\n",
        "       #Initialiser les poids des embeddings avec une distribution normale\n",
        "        torch.nn.init.normal_(module.weight, mean=0.0, std=0.02)\n",
        "\n",
        "  def forward(self, idx, targets=None) :\n",
        "    # Taille du batch (B) et longueur de la séquence (T)\n",
        "    B, T = idx.shape\n",
        "    # Appliquer l'embedding des tokens et des positions\n",
        "    tok_emb  = self.embedding(idx)\n",
        "     # Passer par les blocs Transformer\n",
        "    x = self.blocks(tok_emb)\n",
        "    x= self.ln_f(x)\n",
        "    # Calculer les prédictions avec la tête de sortie\n",
        "    logits = self.lm_head(x)\n",
        "    # Retourner les prédictions pour calculer la perte plus tard\n",
        "    return logits\n",
        "\n"
      ],
      "metadata": {
        "id": "VcjI4edCSgwG"
      },
      "execution_count": 17,
      "outputs": []
    },
    {
      "cell_type": "code",
      "source": [
        "def validation_data_loss_and_accuracy(model ,test_data_loader) :\n",
        "  model.eval()\n",
        "  test_loss = 0\n",
        "  correct_test = 0\n",
        "  total_test = 0\n",
        "\n",
        "  with torch.no_grad():\n",
        "      for xb, yb in test_dataloader:\n",
        "          xb, yb = xb.to(device), yb.to(device)\n",
        "\n",
        "          # Forward pass\n",
        "          logits = model(xb)\n",
        "          B, T, C = logits.shape\n",
        "          logits = logits.view(B*T, C)\n",
        "          yb = yb.view(B*T)\n",
        "\n",
        "          # Calcul de la loss sur test\n",
        "          loss = F.cross_entropy(logits, yb)\n",
        "          test_loss += loss.item()\n",
        "\n",
        "          # Calcul de l'accuracy sur le test set\n",
        "          logits = F.softmax(logits , dim = -1)\n",
        "          preds = torch.argmax(logits, dim=-1)\n",
        "          correct_test += (preds == yb).sum().item()\n",
        "          total_test += yb.numel()\n",
        "  # Calcul de la perte moyenne sur tout le jeu de test\n",
        "  avg_test_loss = test_loss / len(test_dataloader)\n",
        "   # Calcul de l'accuracy moyenne sur tout le jeu de test\n",
        "  test_accuracy = correct_test / total_test * 100\n",
        "\n",
        "  return avg_test_loss, test_accuracy\n"
      ],
      "metadata": {
        "id": "mwMPcJYnSwv0"
      },
      "execution_count": 18,
      "outputs": []
    },
    {
      "cell_type": "code",
      "source": [
        "import nltk\n",
        "from nltk.translate.bleu_score import sentence_bleu, SmoothingFunction\n",
        "\n",
        "def compute_bleu(references, predictions):\n",
        "    \"\"\"\n",
        "    references (list of list of str): Liste contenant les phrases de référence.\n",
        "    predictions (list of list of str): Liste contenant les phrases générées.\n",
        "    \"\"\"\n",
        "\n",
        "    smoothie = SmoothingFunction().method1\n",
        "    bleu_scores = [\n",
        "        sentence_bleu([ref], pred, smoothing_function=smoothie)\n",
        "        for ref, pred in zip(references, predictions)\n",
        "    ]\n",
        "    return sum(bleu_scores) / len(bleu_scores)  # Moyenne des scores BLEU"
      ],
      "metadata": {
        "id": "eNvbPKntqcDV"
      },
      "execution_count": 19,
      "outputs": []
    },
    {
      "cell_type": "code",
      "source": [
        "import matplotlib.pyplot as plt\n",
        "\n",
        "def plot_loss(train_losses, test_losses):\n",
        "\n",
        "    epochs = range(0, len(train_losses))\n",
        "\n",
        "    plt.figure(figsize=(8, 6))\n",
        "    plt.plot(epochs, train_losses, label=\"Train Loss\")\n",
        "    plt.plot(epochs, test_losses, label=\"Test Loss\")\n",
        "\n",
        "    plt.xlabel(\"Epochs\")\n",
        "    plt.ylabel(\"Loss\")\n",
        "    plt.title(\"Évolution de la Loss au fil des Epochs\")\n",
        "    plt.legend()\n",
        "    plt.grid(True)\n",
        "    plt.show()"
      ],
      "metadata": {
        "id": "ie8P_nNAmwL0"
      },
      "execution_count": 20,
      "outputs": []
    },
    {
      "cell_type": "code",
      "source": [
        "from logging import log\n",
        "model = Gpt()\n",
        "model= model.to(device)\n",
        "# Initialiser l'optimiseur AdamW\n",
        "optimizer = torch.optim.AdamW(model.parameters(), lr=learning_rate)\n",
        "# Afficher le nombre de paramètres et la structure du réseau\n",
        "summary(model)"
      ],
      "metadata": {
        "colab": {
          "base_uri": "https://localhost:8080/"
        },
        "id": "fpujyksxUCOB",
        "outputId": "60f7d8a5-f620-4409-8f86-aaec24a2bee1"
      },
      "execution_count": 21,
      "outputs": [
        {
          "output_type": "execute_result",
          "data": {
            "text/plain": [
              "=====================================================================================\n",
              "Layer (type:depth-idx)                                       Param #\n",
              "=====================================================================================\n",
              "Gpt                                                          --\n",
              "├─TokenAndPositionEmbedding: 1-1                             --\n",
              "│    └─Embedding: 2-1                                        10,800\n",
              "│    └─Embedding: 2-2                                        76,800\n",
              "├─Sequential: 1-2                                            --\n",
              "│    └─TransformerBlock: 2-3                                 --\n",
              "│    │    └─MultiheadAttention: 3-1                          90,600\n",
              "│    │    └─Sequential: 3-2                                  180,750\n",
              "│    │    └─LayerNorm: 3-3                                   300\n",
              "│    │    └─LayerNorm: 3-4                                   300\n",
              "│    │    └─Dropout: 3-5                                     --\n",
              "│    │    └─Dropout: 3-6                                     --\n",
              "│    └─TransformerBlock: 2-4                                 --\n",
              "│    │    └─MultiheadAttention: 3-7                          90,600\n",
              "│    │    └─Sequential: 3-8                                  180,750\n",
              "│    │    └─LayerNorm: 3-9                                   300\n",
              "│    │    └─LayerNorm: 3-10                                  300\n",
              "│    │    └─Dropout: 3-11                                    --\n",
              "│    │    └─Dropout: 3-12                                    --\n",
              "│    └─TransformerBlock: 2-5                                 --\n",
              "│    │    └─MultiheadAttention: 3-13                         90,600\n",
              "│    │    └─Sequential: 3-14                                 180,750\n",
              "│    │    └─LayerNorm: 3-15                                  300\n",
              "│    │    └─LayerNorm: 3-16                                  300\n",
              "│    │    └─Dropout: 3-17                                    --\n",
              "│    │    └─Dropout: 3-18                                    --\n",
              "├─LayerNorm: 1-3                                             300\n",
              "├─Linear: 1-4                                                10,872\n",
              "=====================================================================================\n",
              "Total params: 914,622\n",
              "Trainable params: 914,622\n",
              "Non-trainable params: 0\n",
              "====================================================================================="
            ]
          },
          "metadata": {},
          "execution_count": 21
        }
      ]
    },
    {
      "cell_type": "code",
      "source": [
        "if os.path.exists('model_weights/model.pth'):\n",
        "    model.load_state_dict(torch.load('model_weights/model.pth'))\n",
        "    print(\"Model loaded\")"
      ],
      "metadata": {
        "id": "3AtV-YgCwJMV",
        "colab": {
          "base_uri": "https://localhost:8080/"
        },
        "outputId": "1ab9f77e-25b2-47b6-e1f7-fc78e294db41"
      },
      "execution_count": 27,
      "outputs": [
        {
          "output_type": "stream",
          "name": "stdout",
          "text": [
            "Model loaded\n"
          ]
        },
        {
          "output_type": "stream",
          "name": "stderr",
          "text": [
            "<ipython-input-27-9a02df16ecb6>:2: FutureWarning: You are using `torch.load` with `weights_only=False` (the current default value), which uses the default pickle module implicitly. It is possible to construct malicious pickle data which will execute arbitrary code during unpickling (See https://github.com/pytorch/pytorch/blob/main/SECURITY.md#untrusted-models for more details). In a future release, the default value for `weights_only` will be flipped to `True`. This limits the functions that could be executed during unpickling. Arbitrary objects will no longer be allowed to be loaded via this mode unless they are explicitly allowlisted by the user via `torch.serialization.add_safe_globals`. We recommend you start setting `weights_only=True` for any use case where you don't have full control of the loaded file. Please open an issue on GitHub for any issues related to this experimental feature.\n",
            "  model.load_state_dict(torch.load('model_weights/model.pth'))\n"
          ]
        }
      ]
    },
    {
      "cell_type": "code",
      "source": [
        "train_losses = []\n",
        "test_losses = []\n",
        "\n",
        "for epoch in range(epochs):\n",
        "    model.train()\n",
        "\n",
        "    cum_loss_value = 0\n",
        "    correct_train = 0\n",
        "    total_train = 0\n",
        "\n",
        "    for xb, yb in tqdm(train_dataloader):\n",
        "        xb, yb = xb.to(device), yb.to(device)\n",
        "\n",
        "\n",
        "        # Calcul de la loss\n",
        "        logits = model(xb)\n",
        "        B, T, C = logits.shape\n",
        "        logits = logits.view(B*T, C)\n",
        "        yb = yb.view(B*T)\n",
        "        loss = F.cross_entropy(logits, yb)\n",
        "        cum_loss_value = cum_loss_value + loss.item()\n",
        "\n",
        "        # Calcul de l'accuracy sur le train set\n",
        "        probs = F.softmax(logits , dim = -1)\n",
        "        preds = torch.argmax(probs, dim=-1)\n",
        "        correct_train += (preds == yb).sum().item()\n",
        "        total_train += yb.numel()\n",
        "\n",
        "        # Backpropagation\n",
        "        optimizer.zero_grad(set_to_none=True)\n",
        "        loss.backward()\n",
        "        optimizer.step()\n",
        "\n",
        "    avg_train_loss = cum_loss_value / len(train_dataloader)\n",
        "    train_accuracy = correct_train / total_train * 100\n",
        "    train_losses.append(avg_train_loss)\n",
        "    # Calcul de la loss et de l'accuracy sur les données de test\n",
        "    avg_test_loss, test_accuracy = validation_data_loss_and_accuracy(model, test_dataloader)\n",
        "    test_losses.append(avg_test_loss)\n",
        "\n",
        "    print(f\"Epoch {epoch+1}: Train Loss = {avg_train_loss:.4f}, Train Accuracy = {train_accuracy:.2f}% | Test Loss = {avg_test_loss:.4f}, Test Accuracy = {test_accuracy:.2f}%\")"
      ],
      "metadata": {
        "colab": {
          "base_uri": "https://localhost:8080/"
        },
        "id": "vjkVD6HvUJ-8",
        "outputId": "26a2cddb-6876-4530-f339-12fb0752a4bf"
      },
      "execution_count": null,
      "outputs": [
        {
          "output_type": "stream",
          "name": "stderr",
          "text": [
            "100%|██████████| 201/201 [00:15<00:00, 13.00it/s]\n"
          ]
        },
        {
          "output_type": "stream",
          "name": "stdout",
          "text": [
            "Epoch 1: Train Loss = 3.1179, Train Accuracy = 21.68% | Test Loss = 2.7165, Test Accuracy = 25.84%\n"
          ]
        },
        {
          "output_type": "stream",
          "name": "stderr",
          "text": [
            "100%|██████████| 201/201 [00:14<00:00, 13.61it/s]\n"
          ]
        },
        {
          "output_type": "stream",
          "name": "stdout",
          "text": [
            "Epoch 2: Train Loss = 2.6319, Train Accuracy = 26.47% | Test Loss = 2.5899, Test Accuracy = 26.67%\n"
          ]
        },
        {
          "output_type": "stream",
          "name": "stderr",
          "text": [
            "100%|██████████| 201/201 [00:14<00:00, 13.51it/s]\n"
          ]
        },
        {
          "output_type": "stream",
          "name": "stdout",
          "text": [
            "Epoch 3: Train Loss = 2.5605, Train Accuracy = 26.82% | Test Loss = 2.5486, Test Accuracy = 26.87%\n"
          ]
        },
        {
          "output_type": "stream",
          "name": "stderr",
          "text": [
            "100%|██████████| 201/201 [00:15<00:00, 13.20it/s]\n"
          ]
        },
        {
          "output_type": "stream",
          "name": "stdout",
          "text": [
            "Epoch 4: Train Loss = 2.5317, Train Accuracy = 27.00% | Test Loss = 2.5285, Test Accuracy = 27.00%\n"
          ]
        },
        {
          "output_type": "stream",
          "name": "stderr",
          "text": [
            "100%|██████████| 201/201 [00:15<00:00, 12.67it/s]\n"
          ]
        },
        {
          "output_type": "stream",
          "name": "stdout",
          "text": [
            "Epoch 5: Train Loss = 2.5148, Train Accuracy = 27.19% | Test Loss = 2.5137, Test Accuracy = 27.19%\n"
          ]
        },
        {
          "output_type": "stream",
          "name": "stderr",
          "text": [
            "100%|██████████| 201/201 [00:16<00:00, 12.44it/s]\n"
          ]
        },
        {
          "output_type": "stream",
          "name": "stdout",
          "text": [
            "Epoch 6: Train Loss = 2.5020, Train Accuracy = 27.38% | Test Loss = 2.5030, Test Accuracy = 27.37%\n"
          ]
        },
        {
          "output_type": "stream",
          "name": "stderr",
          "text": [
            "100%|██████████| 201/201 [00:15<00:00, 12.85it/s]\n"
          ]
        },
        {
          "output_type": "stream",
          "name": "stdout",
          "text": [
            "Epoch 7: Train Loss = 2.4901, Train Accuracy = 27.60% | Test Loss = 2.4903, Test Accuracy = 27.63%\n"
          ]
        },
        {
          "output_type": "stream",
          "name": "stderr",
          "text": [
            "100%|██████████| 201/201 [00:15<00:00, 13.02it/s]\n"
          ]
        },
        {
          "output_type": "stream",
          "name": "stdout",
          "text": [
            "Epoch 8: Train Loss = 2.4700, Train Accuracy = 28.11% | Test Loss = 2.4612, Test Accuracy = 28.50%\n"
          ]
        },
        {
          "output_type": "stream",
          "name": "stderr",
          "text": [
            "100%|██████████| 201/201 [00:15<00:00, 12.98it/s]\n"
          ]
        },
        {
          "output_type": "stream",
          "name": "stdout",
          "text": [
            "Epoch 9: Train Loss = 2.4249, Train Accuracy = 29.47% | Test Loss = 2.3995, Test Accuracy = 30.34%\n"
          ]
        },
        {
          "output_type": "stream",
          "name": "stderr",
          "text": [
            "100%|██████████| 201/201 [00:15<00:00, 12.84it/s]\n"
          ]
        },
        {
          "output_type": "stream",
          "name": "stdout",
          "text": [
            "Epoch 10: Train Loss = 2.3626, Train Accuracy = 31.44% | Test Loss = 2.3404, Test Accuracy = 32.12%\n"
          ]
        },
        {
          "output_type": "stream",
          "name": "stderr",
          "text": [
            "100%|██████████| 201/201 [00:15<00:00, 12.76it/s]\n"
          ]
        },
        {
          "output_type": "stream",
          "name": "stdout",
          "text": [
            "Epoch 11: Train Loss = 2.3047, Train Accuracy = 33.16% | Test Loss = 2.2884, Test Accuracy = 33.73%\n"
          ]
        },
        {
          "output_type": "stream",
          "name": "stderr",
          "text": [
            "100%|██████████| 201/201 [00:15<00:00, 12.78it/s]\n"
          ]
        },
        {
          "output_type": "stream",
          "name": "stdout",
          "text": [
            "Epoch 12: Train Loss = 2.2508, Train Accuracy = 34.79% | Test Loss = 2.2374, Test Accuracy = 35.30%\n"
          ]
        },
        {
          "output_type": "stream",
          "name": "stderr",
          "text": [
            "100%|██████████| 201/201 [00:15<00:00, 12.82it/s]\n"
          ]
        },
        {
          "output_type": "stream",
          "name": "stdout",
          "text": [
            "Epoch 13: Train Loss = 2.2003, Train Accuracy = 36.23% | Test Loss = 2.1846, Test Accuracy = 36.63%\n"
          ]
        },
        {
          "output_type": "stream",
          "name": "stderr",
          "text": [
            "100%|██████████| 201/201 [00:15<00:00, 12.86it/s]\n"
          ]
        },
        {
          "output_type": "stream",
          "name": "stdout",
          "text": [
            "Epoch 14: Train Loss = 2.1538, Train Accuracy = 37.45% | Test Loss = 2.1423, Test Accuracy = 37.76%\n"
          ]
        },
        {
          "output_type": "stream",
          "name": "stderr",
          "text": [
            "100%|██████████| 201/201 [00:15<00:00, 12.88it/s]\n"
          ]
        },
        {
          "output_type": "stream",
          "name": "stdout",
          "text": [
            "Epoch 15: Train Loss = 2.1101, Train Accuracy = 38.66% | Test Loss = 2.1089, Test Accuracy = 38.61%\n"
          ]
        },
        {
          "output_type": "stream",
          "name": "stderr",
          "text": [
            "100%|██████████| 201/201 [00:15<00:00, 12.88it/s]\n"
          ]
        },
        {
          "output_type": "stream",
          "name": "stdout",
          "text": [
            "Epoch 16: Train Loss = 2.0698, Train Accuracy = 39.87% | Test Loss = 2.0599, Test Accuracy = 40.26%\n"
          ]
        },
        {
          "output_type": "stream",
          "name": "stderr",
          "text": [
            "100%|██████████| 201/201 [00:15<00:00, 12.88it/s]\n"
          ]
        },
        {
          "output_type": "stream",
          "name": "stdout",
          "text": [
            "Epoch 17: Train Loss = 2.0325, Train Accuracy = 41.06% | Test Loss = 2.0261, Test Accuracy = 41.28%\n"
          ]
        },
        {
          "output_type": "stream",
          "name": "stderr",
          "text": [
            "100%|██████████| 201/201 [00:15<00:00, 12.88it/s]\n"
          ]
        },
        {
          "output_type": "stream",
          "name": "stdout",
          "text": [
            "Epoch 18: Train Loss = 1.9991, Train Accuracy = 42.08% | Test Loss = 1.9935, Test Accuracy = 42.27%\n"
          ]
        },
        {
          "output_type": "stream",
          "name": "stderr",
          "text": [
            "100%|██████████| 201/201 [00:15<00:00, 12.86it/s]\n"
          ]
        },
        {
          "output_type": "stream",
          "name": "stdout",
          "text": [
            "Epoch 19: Train Loss = 1.9693, Train Accuracy = 42.92% | Test Loss = 1.9668, Test Accuracy = 42.98%\n"
          ]
        },
        {
          "output_type": "stream",
          "name": "stderr",
          "text": [
            "100%|██████████| 201/201 [00:15<00:00, 12.87it/s]\n"
          ]
        },
        {
          "output_type": "stream",
          "name": "stdout",
          "text": [
            "Epoch 20: Train Loss = 1.9417, Train Accuracy = 43.73% | Test Loss = 1.9427, Test Accuracy = 43.80%\n"
          ]
        },
        {
          "output_type": "stream",
          "name": "stderr",
          "text": [
            "100%|██████████| 201/201 [00:15<00:00, 12.86it/s]\n"
          ]
        },
        {
          "output_type": "stream",
          "name": "stdout",
          "text": [
            "Epoch 21: Train Loss = 1.9157, Train Accuracy = 44.45% | Test Loss = 1.9267, Test Accuracy = 44.12%\n"
          ]
        },
        {
          "output_type": "stream",
          "name": "stderr",
          "text": [
            "100%|██████████| 201/201 [00:15<00:00, 12.87it/s]\n"
          ]
        },
        {
          "output_type": "stream",
          "name": "stdout",
          "text": [
            "Epoch 22: Train Loss = 1.8926, Train Accuracy = 45.05% | Test Loss = 1.8919, Test Accuracy = 45.11%\n"
          ]
        },
        {
          "output_type": "stream",
          "name": "stderr",
          "text": [
            "100%|██████████| 201/201 [00:15<00:00, 12.86it/s]\n"
          ]
        },
        {
          "output_type": "stream",
          "name": "stdout",
          "text": [
            "Epoch 23: Train Loss = 1.8697, Train Accuracy = 45.64% | Test Loss = 1.8759, Test Accuracy = 45.48%\n"
          ]
        },
        {
          "output_type": "stream",
          "name": "stderr",
          "text": [
            "100%|██████████| 201/201 [00:15<00:00, 12.88it/s]\n"
          ]
        },
        {
          "output_type": "stream",
          "name": "stdout",
          "text": [
            "Epoch 24: Train Loss = 1.8487, Train Accuracy = 46.20% | Test Loss = 1.8527, Test Accuracy = 46.14%\n"
          ]
        },
        {
          "output_type": "stream",
          "name": "stderr",
          "text": [
            "100%|██████████| 201/201 [00:15<00:00, 12.86it/s]\n"
          ]
        },
        {
          "output_type": "stream",
          "name": "stdout",
          "text": [
            "Epoch 25: Train Loss = 1.8297, Train Accuracy = 46.70% | Test Loss = 1.8330, Test Accuracy = 46.59%\n"
          ]
        },
        {
          "output_type": "stream",
          "name": "stderr",
          "text": [
            "100%|██████████| 201/201 [00:15<00:00, 12.87it/s]\n"
          ]
        },
        {
          "output_type": "stream",
          "name": "stdout",
          "text": [
            "Epoch 26: Train Loss = 1.8103, Train Accuracy = 47.21% | Test Loss = 1.8145, Test Accuracy = 47.11%\n"
          ]
        },
        {
          "output_type": "stream",
          "name": "stderr",
          "text": [
            "100%|██████████| 201/201 [00:15<00:00, 12.89it/s]\n"
          ]
        },
        {
          "output_type": "stream",
          "name": "stdout",
          "text": [
            "Epoch 27: Train Loss = 1.7938, Train Accuracy = 47.70% | Test Loss = 1.8005, Test Accuracy = 47.51%\n"
          ]
        },
        {
          "output_type": "stream",
          "name": "stderr",
          "text": [
            "100%|██████████| 201/201 [00:15<00:00, 12.87it/s]\n"
          ]
        },
        {
          "output_type": "stream",
          "name": "stdout",
          "text": [
            "Epoch 28: Train Loss = 1.7780, Train Accuracy = 48.16% | Test Loss = 1.7822, Test Accuracy = 48.08%\n"
          ]
        },
        {
          "output_type": "stream",
          "name": "stderr",
          "text": [
            "100%|██████████| 201/201 [00:15<00:00, 12.89it/s]\n"
          ]
        },
        {
          "output_type": "stream",
          "name": "stdout",
          "text": [
            "Epoch 29: Train Loss = 1.7631, Train Accuracy = 48.60% | Test Loss = 1.7693, Test Accuracy = 48.48%\n"
          ]
        },
        {
          "output_type": "stream",
          "name": "stderr",
          "text": [
            "100%|██████████| 201/201 [00:15<00:00, 12.89it/s]\n"
          ]
        },
        {
          "output_type": "stream",
          "name": "stdout",
          "text": [
            "Epoch 30: Train Loss = 1.7485, Train Accuracy = 49.02% | Test Loss = 1.7554, Test Accuracy = 48.95%\n"
          ]
        },
        {
          "output_type": "stream",
          "name": "stderr",
          "text": [
            "100%|██████████| 201/201 [00:15<00:00, 12.88it/s]\n"
          ]
        },
        {
          "output_type": "stream",
          "name": "stdout",
          "text": [
            "Epoch 31: Train Loss = 1.7355, Train Accuracy = 49.40% | Test Loss = 1.7451, Test Accuracy = 49.11%\n"
          ]
        },
        {
          "output_type": "stream",
          "name": "stderr",
          "text": [
            "100%|██████████| 201/201 [00:15<00:00, 12.89it/s]\n"
          ]
        },
        {
          "output_type": "stream",
          "name": "stdout",
          "text": [
            "Epoch 32: Train Loss = 1.7233, Train Accuracy = 49.74% | Test Loss = 1.7333, Test Accuracy = 49.52%\n"
          ]
        },
        {
          "output_type": "stream",
          "name": "stderr",
          "text": [
            "100%|██████████| 201/201 [00:15<00:00, 12.87it/s]\n"
          ]
        },
        {
          "output_type": "stream",
          "name": "stdout",
          "text": [
            "Epoch 33: Train Loss = 1.7112, Train Accuracy = 50.08% | Test Loss = 1.7189, Test Accuracy = 49.90%\n"
          ]
        },
        {
          "output_type": "stream",
          "name": "stderr",
          "text": [
            "100%|██████████| 201/201 [00:15<00:00, 12.90it/s]\n"
          ]
        },
        {
          "output_type": "stream",
          "name": "stdout",
          "text": [
            "Epoch 34: Train Loss = 1.7007, Train Accuracy = 50.35% | Test Loss = 1.7136, Test Accuracy = 50.06%\n"
          ]
        },
        {
          "output_type": "stream",
          "name": "stderr",
          "text": [
            "100%|██████████| 201/201 [00:15<00:00, 12.90it/s]\n"
          ]
        },
        {
          "output_type": "stream",
          "name": "stdout",
          "text": [
            "Epoch 35: Train Loss = 1.6902, Train Accuracy = 50.66% | Test Loss = 1.7020, Test Accuracy = 50.40%\n"
          ]
        },
        {
          "output_type": "stream",
          "name": "stderr",
          "text": [
            "100%|██████████| 201/201 [00:15<00:00, 12.88it/s]\n"
          ]
        },
        {
          "output_type": "stream",
          "name": "stdout",
          "text": [
            "Epoch 36: Train Loss = 1.6803, Train Accuracy = 50.94% | Test Loss = 1.6949, Test Accuracy = 50.59%\n"
          ]
        },
        {
          "output_type": "stream",
          "name": "stderr",
          "text": [
            "100%|██████████| 201/201 [00:15<00:00, 12.91it/s]\n"
          ]
        },
        {
          "output_type": "stream",
          "name": "stdout",
          "text": [
            "Epoch 37: Train Loss = 1.6699, Train Accuracy = 51.21% | Test Loss = 1.6822, Test Accuracy = 50.95%\n"
          ]
        },
        {
          "output_type": "stream",
          "name": "stderr",
          "text": [
            "100%|██████████| 201/201 [00:15<00:00, 12.88it/s]\n"
          ]
        },
        {
          "output_type": "stream",
          "name": "stdout",
          "text": [
            "Epoch 38: Train Loss = 1.6616, Train Accuracy = 51.44% | Test Loss = 1.6748, Test Accuracy = 51.12%\n"
          ]
        },
        {
          "output_type": "stream",
          "name": "stderr",
          "text": [
            "100%|██████████| 201/201 [00:15<00:00, 12.90it/s]\n"
          ]
        },
        {
          "output_type": "stream",
          "name": "stdout",
          "text": [
            "Epoch 39: Train Loss = 1.6527, Train Accuracy = 51.69% | Test Loss = 1.6693, Test Accuracy = 51.26%\n"
          ]
        },
        {
          "output_type": "stream",
          "name": "stderr",
          "text": [
            "100%|██████████| 201/201 [00:15<00:00, 12.90it/s]\n"
          ]
        },
        {
          "output_type": "stream",
          "name": "stdout",
          "text": [
            "Epoch 40: Train Loss = 1.6455, Train Accuracy = 51.90% | Test Loss = 1.6579, Test Accuracy = 51.71%\n"
          ]
        },
        {
          "output_type": "stream",
          "name": "stderr",
          "text": [
            "100%|██████████| 201/201 [00:15<00:00, 12.92it/s]\n"
          ]
        },
        {
          "output_type": "stream",
          "name": "stdout",
          "text": [
            "Epoch 41: Train Loss = 1.6371, Train Accuracy = 52.13% | Test Loss = 1.6504, Test Accuracy = 51.75%\n"
          ]
        },
        {
          "output_type": "stream",
          "name": "stderr",
          "text": [
            "100%|██████████| 201/201 [00:15<00:00, 12.90it/s]\n"
          ]
        },
        {
          "output_type": "stream",
          "name": "stdout",
          "text": [
            "Epoch 42: Train Loss = 1.6301, Train Accuracy = 52.34% | Test Loss = 1.6489, Test Accuracy = 51.85%\n"
          ]
        },
        {
          "output_type": "stream",
          "name": "stderr",
          "text": [
            "100%|██████████| 201/201 [00:15<00:00, 12.89it/s]\n"
          ]
        },
        {
          "output_type": "stream",
          "name": "stdout",
          "text": [
            "Epoch 43: Train Loss = 1.6234, Train Accuracy = 52.50% | Test Loss = 1.6365, Test Accuracy = 52.22%\n"
          ]
        },
        {
          "output_type": "stream",
          "name": "stderr",
          "text": [
            "100%|██████████| 201/201 [00:15<00:00, 12.88it/s]\n"
          ]
        },
        {
          "output_type": "stream",
          "name": "stdout",
          "text": [
            "Epoch 44: Train Loss = 1.6156, Train Accuracy = 52.74% | Test Loss = 1.6269, Test Accuracy = 52.40%\n"
          ]
        },
        {
          "output_type": "stream",
          "name": "stderr",
          "text": [
            "100%|██████████| 201/201 [00:15<00:00, 12.90it/s]\n"
          ]
        },
        {
          "output_type": "stream",
          "name": "stdout",
          "text": [
            "Epoch 45: Train Loss = 1.6093, Train Accuracy = 52.92% | Test Loss = 1.6272, Test Accuracy = 52.53%\n"
          ]
        },
        {
          "output_type": "stream",
          "name": "stderr",
          "text": [
            "100%|██████████| 201/201 [00:15<00:00, 12.88it/s]\n"
          ]
        },
        {
          "output_type": "stream",
          "name": "stdout",
          "text": [
            "Epoch 46: Train Loss = 1.6024, Train Accuracy = 53.11% | Test Loss = 1.6193, Test Accuracy = 52.62%\n"
          ]
        },
        {
          "output_type": "stream",
          "name": "stderr",
          "text": [
            "100%|██████████| 201/201 [00:15<00:00, 12.90it/s]\n"
          ]
        },
        {
          "output_type": "stream",
          "name": "stdout",
          "text": [
            "Epoch 47: Train Loss = 1.5971, Train Accuracy = 53.21% | Test Loss = 1.6178, Test Accuracy = 52.71%\n"
          ]
        },
        {
          "output_type": "stream",
          "name": "stderr",
          "text": [
            "100%|██████████| 201/201 [00:15<00:00, 12.90it/s]\n"
          ]
        },
        {
          "output_type": "stream",
          "name": "stdout",
          "text": [
            "Epoch 48: Train Loss = 1.5900, Train Accuracy = 53.43% | Test Loss = 1.6058, Test Accuracy = 53.00%\n"
          ]
        },
        {
          "output_type": "stream",
          "name": "stderr",
          "text": [
            "100%|██████████| 201/201 [00:15<00:00, 12.87it/s]\n"
          ]
        },
        {
          "output_type": "stream",
          "name": "stdout",
          "text": [
            "Epoch 49: Train Loss = 1.5847, Train Accuracy = 53.59% | Test Loss = 1.5986, Test Accuracy = 53.15%\n"
          ]
        },
        {
          "output_type": "stream",
          "name": "stderr",
          "text": [
            "100%|██████████| 201/201 [00:15<00:00, 12.88it/s]\n"
          ]
        },
        {
          "output_type": "stream",
          "name": "stdout",
          "text": [
            "Epoch 50: Train Loss = 1.5797, Train Accuracy = 53.71% | Test Loss = 1.5955, Test Accuracy = 53.32%\n"
          ]
        },
        {
          "output_type": "stream",
          "name": "stderr",
          "text": [
            "100%|██████████| 201/201 [00:15<00:00, 12.90it/s]\n"
          ]
        },
        {
          "output_type": "stream",
          "name": "stdout",
          "text": [
            "Epoch 51: Train Loss = 1.5736, Train Accuracy = 53.88% | Test Loss = 1.5946, Test Accuracy = 53.30%\n"
          ]
        },
        {
          "output_type": "stream",
          "name": "stderr",
          "text": [
            "100%|██████████| 201/201 [00:15<00:00, 12.88it/s]\n"
          ]
        },
        {
          "output_type": "stream",
          "name": "stdout",
          "text": [
            "Epoch 52: Train Loss = 1.5699, Train Accuracy = 53.98% | Test Loss = 1.5895, Test Accuracy = 53.48%\n"
          ]
        },
        {
          "output_type": "stream",
          "name": "stderr",
          "text": [
            "100%|██████████| 201/201 [00:15<00:00, 12.91it/s]\n"
          ]
        },
        {
          "output_type": "stream",
          "name": "stdout",
          "text": [
            "Epoch 53: Train Loss = 1.5635, Train Accuracy = 54.14% | Test Loss = 1.5912, Test Accuracy = 53.47%\n"
          ]
        },
        {
          "output_type": "stream",
          "name": "stderr",
          "text": [
            "100%|██████████| 201/201 [00:15<00:00, 12.90it/s]\n"
          ]
        },
        {
          "output_type": "stream",
          "name": "stdout",
          "text": [
            "Epoch 54: Train Loss = 1.5594, Train Accuracy = 54.24% | Test Loss = 1.5764, Test Accuracy = 53.90%\n"
          ]
        },
        {
          "output_type": "stream",
          "name": "stderr",
          "text": [
            "100%|██████████| 201/201 [00:15<00:00, 12.91it/s]\n"
          ]
        },
        {
          "output_type": "stream",
          "name": "stdout",
          "text": [
            "Epoch 55: Train Loss = 1.5549, Train Accuracy = 54.35% | Test Loss = 1.5698, Test Accuracy = 54.07%\n"
          ]
        },
        {
          "output_type": "stream",
          "name": "stderr",
          "text": [
            "100%|██████████| 201/201 [00:15<00:00, 12.90it/s]\n"
          ]
        },
        {
          "output_type": "stream",
          "name": "stdout",
          "text": [
            "Epoch 56: Train Loss = 1.5489, Train Accuracy = 54.53% | Test Loss = 1.5725, Test Accuracy = 54.00%\n"
          ]
        },
        {
          "output_type": "stream",
          "name": "stderr",
          "text": [
            "100%|██████████| 201/201 [00:15<00:00, 12.91it/s]\n"
          ]
        },
        {
          "output_type": "stream",
          "name": "stdout",
          "text": [
            "Epoch 57: Train Loss = 1.5456, Train Accuracy = 54.60% | Test Loss = 1.5704, Test Accuracy = 54.09%\n"
          ]
        },
        {
          "output_type": "stream",
          "name": "stderr",
          "text": [
            "100%|██████████| 201/201 [00:15<00:00, 12.88it/s]\n"
          ]
        },
        {
          "output_type": "stream",
          "name": "stdout",
          "text": [
            "Epoch 58: Train Loss = 1.5419, Train Accuracy = 54.71% | Test Loss = 1.5584, Test Accuracy = 54.35%\n"
          ]
        },
        {
          "output_type": "stream",
          "name": "stderr",
          "text": [
            "100%|██████████| 201/201 [00:15<00:00, 12.92it/s]\n"
          ]
        },
        {
          "output_type": "stream",
          "name": "stdout",
          "text": [
            "Epoch 59: Train Loss = 1.5358, Train Accuracy = 54.87% | Test Loss = 1.5558, Test Accuracy = 54.43%\n"
          ]
        },
        {
          "output_type": "stream",
          "name": "stderr",
          "text": [
            "100%|██████████| 201/201 [00:15<00:00, 12.91it/s]\n"
          ]
        },
        {
          "output_type": "stream",
          "name": "stdout",
          "text": [
            "Epoch 60: Train Loss = 1.5327, Train Accuracy = 54.95% | Test Loss = 1.5504, Test Accuracy = 54.52%\n"
          ]
        },
        {
          "output_type": "stream",
          "name": "stderr",
          "text": [
            "100%|██████████| 201/201 [00:15<00:00, 12.90it/s]\n"
          ]
        },
        {
          "output_type": "stream",
          "name": "stdout",
          "text": [
            "Epoch 61: Train Loss = 1.5284, Train Accuracy = 55.06% | Test Loss = 1.5502, Test Accuracy = 54.58%\n"
          ]
        },
        {
          "output_type": "stream",
          "name": "stderr",
          "text": [
            "100%|██████████| 201/201 [00:15<00:00, 12.91it/s]\n"
          ]
        },
        {
          "output_type": "stream",
          "name": "stdout",
          "text": [
            "Epoch 62: Train Loss = 1.5244, Train Accuracy = 55.17% | Test Loss = 1.5444, Test Accuracy = 54.71%\n"
          ]
        },
        {
          "output_type": "stream",
          "name": "stderr",
          "text": [
            "100%|██████████| 201/201 [00:15<00:00, 12.91it/s]\n"
          ]
        },
        {
          "output_type": "stream",
          "name": "stdout",
          "text": [
            "Epoch 63: Train Loss = 1.5210, Train Accuracy = 55.26% | Test Loss = 1.5422, Test Accuracy = 54.84%\n"
          ]
        },
        {
          "output_type": "stream",
          "name": "stderr",
          "text": [
            "100%|██████████| 201/201 [00:15<00:00, 12.90it/s]\n"
          ]
        },
        {
          "output_type": "stream",
          "name": "stdout",
          "text": [
            "Epoch 64: Train Loss = 1.5166, Train Accuracy = 55.41% | Test Loss = 1.5450, Test Accuracy = 54.64%\n"
          ]
        },
        {
          "output_type": "stream",
          "name": "stderr",
          "text": [
            "100%|██████████| 201/201 [00:15<00:00, 12.91it/s]\n"
          ]
        },
        {
          "output_type": "stream",
          "name": "stdout",
          "text": [
            "Epoch 65: Train Loss = 1.5126, Train Accuracy = 55.52% | Test Loss = 1.5349, Test Accuracy = 54.99%\n"
          ]
        },
        {
          "output_type": "stream",
          "name": "stderr",
          "text": [
            "100%|██████████| 201/201 [00:15<00:00, 12.89it/s]\n"
          ]
        },
        {
          "output_type": "stream",
          "name": "stdout",
          "text": [
            "Epoch 66: Train Loss = 1.5096, Train Accuracy = 55.60% | Test Loss = 1.5328, Test Accuracy = 55.03%\n"
          ]
        },
        {
          "output_type": "stream",
          "name": "stderr",
          "text": [
            "100%|██████████| 201/201 [00:15<00:00, 12.90it/s]\n"
          ]
        },
        {
          "output_type": "stream",
          "name": "stdout",
          "text": [
            "Epoch 67: Train Loss = 1.5056, Train Accuracy = 55.69% | Test Loss = 1.5292, Test Accuracy = 55.14%\n"
          ]
        },
        {
          "output_type": "stream",
          "name": "stderr",
          "text": [
            "100%|██████████| 201/201 [00:15<00:00, 12.89it/s]\n"
          ]
        },
        {
          "output_type": "stream",
          "name": "stdout",
          "text": [
            "Epoch 68: Train Loss = 1.5022, Train Accuracy = 55.80% | Test Loss = 1.5267, Test Accuracy = 55.22%\n"
          ]
        },
        {
          "output_type": "stream",
          "name": "stderr",
          "text": [
            "100%|██████████| 201/201 [00:15<00:00, 12.90it/s]\n"
          ]
        },
        {
          "output_type": "stream",
          "name": "stdout",
          "text": [
            "Epoch 69: Train Loss = 1.4997, Train Accuracy = 55.86% | Test Loss = 1.5303, Test Accuracy = 55.02%\n"
          ]
        },
        {
          "output_type": "stream",
          "name": "stderr",
          "text": [
            "100%|██████████| 201/201 [00:15<00:00, 12.91it/s]\n"
          ]
        },
        {
          "output_type": "stream",
          "name": "stdout",
          "text": [
            "Epoch 70: Train Loss = 1.4956, Train Accuracy = 55.98% | Test Loss = 1.5175, Test Accuracy = 55.49%\n"
          ]
        },
        {
          "output_type": "stream",
          "name": "stderr",
          "text": [
            "100%|██████████| 201/201 [00:15<00:00, 12.91it/s]\n"
          ]
        },
        {
          "output_type": "stream",
          "name": "stdout",
          "text": [
            "Epoch 71: Train Loss = 1.4930, Train Accuracy = 56.04% | Test Loss = 1.5176, Test Accuracy = 55.43%\n"
          ]
        },
        {
          "output_type": "stream",
          "name": "stderr",
          "text": [
            "100%|██████████| 201/201 [00:15<00:00, 12.89it/s]\n"
          ]
        },
        {
          "output_type": "stream",
          "name": "stdout",
          "text": [
            "Epoch 72: Train Loss = 1.4896, Train Accuracy = 56.11% | Test Loss = 1.5136, Test Accuracy = 55.63%\n"
          ]
        },
        {
          "output_type": "stream",
          "name": "stderr",
          "text": [
            "100%|██████████| 201/201 [00:15<00:00, 12.89it/s]\n"
          ]
        },
        {
          "output_type": "stream",
          "name": "stdout",
          "text": [
            "Epoch 73: Train Loss = 1.4863, Train Accuracy = 56.22% | Test Loss = 1.5135, Test Accuracy = 55.52%\n"
          ]
        },
        {
          "output_type": "stream",
          "name": "stderr",
          "text": [
            "100%|██████████| 201/201 [00:15<00:00, 12.89it/s]\n"
          ]
        },
        {
          "output_type": "stream",
          "name": "stdout",
          "text": [
            "Epoch 74: Train Loss = 1.4828, Train Accuracy = 56.31% | Test Loss = 1.5064, Test Accuracy = 55.82%\n"
          ]
        },
        {
          "output_type": "stream",
          "name": "stderr",
          "text": [
            "100%|██████████| 201/201 [00:15<00:00, 12.91it/s]\n"
          ]
        },
        {
          "output_type": "stream",
          "name": "stdout",
          "text": [
            "Epoch 75: Train Loss = 1.4797, Train Accuracy = 56.43% | Test Loss = 1.5043, Test Accuracy = 55.87%\n"
          ]
        },
        {
          "output_type": "stream",
          "name": "stderr",
          "text": [
            "100%|██████████| 201/201 [00:15<00:00, 12.91it/s]\n"
          ]
        },
        {
          "output_type": "stream",
          "name": "stdout",
          "text": [
            "Epoch 76: Train Loss = 1.4780, Train Accuracy = 56.44% | Test Loss = 1.5031, Test Accuracy = 55.82%\n"
          ]
        },
        {
          "output_type": "stream",
          "name": "stderr",
          "text": [
            "100%|██████████| 201/201 [00:15<00:00, 12.89it/s]\n"
          ]
        },
        {
          "output_type": "stream",
          "name": "stdout",
          "text": [
            "Epoch 77: Train Loss = 1.4750, Train Accuracy = 56.53% | Test Loss = 1.5021, Test Accuracy = 55.87%\n"
          ]
        },
        {
          "output_type": "stream",
          "name": "stderr",
          "text": [
            "100%|██████████| 201/201 [00:15<00:00, 12.92it/s]\n"
          ]
        },
        {
          "output_type": "stream",
          "name": "stdout",
          "text": [
            "Epoch 78: Train Loss = 1.4712, Train Accuracy = 56.62% | Test Loss = 1.5007, Test Accuracy = 55.81%\n"
          ]
        },
        {
          "output_type": "stream",
          "name": "stderr",
          "text": [
            "100%|██████████| 201/201 [00:15<00:00, 12.89it/s]\n"
          ]
        },
        {
          "output_type": "stream",
          "name": "stdout",
          "text": [
            "Epoch 79: Train Loss = 1.4684, Train Accuracy = 56.73% | Test Loss = 1.4974, Test Accuracy = 55.95%\n"
          ]
        },
        {
          "output_type": "stream",
          "name": "stderr",
          "text": [
            "100%|██████████| 201/201 [00:15<00:00, 12.89it/s]\n"
          ]
        },
        {
          "output_type": "stream",
          "name": "stdout",
          "text": [
            "Epoch 80: Train Loss = 1.4662, Train Accuracy = 56.75% | Test Loss = 1.4903, Test Accuracy = 56.22%\n"
          ]
        },
        {
          "output_type": "stream",
          "name": "stderr",
          "text": [
            "100%|██████████| 201/201 [00:15<00:00, 12.91it/s]\n"
          ]
        },
        {
          "output_type": "stream",
          "name": "stdout",
          "text": [
            "Epoch 81: Train Loss = 1.4637, Train Accuracy = 56.85% | Test Loss = 1.4899, Test Accuracy = 56.14%\n"
          ]
        },
        {
          "output_type": "stream",
          "name": "stderr",
          "text": [
            "100%|██████████| 201/201 [00:15<00:00, 12.91it/s]\n"
          ]
        },
        {
          "output_type": "stream",
          "name": "stdout",
          "text": [
            "Epoch 82: Train Loss = 1.4598, Train Accuracy = 56.95% | Test Loss = 1.4860, Test Accuracy = 56.31%\n"
          ]
        },
        {
          "output_type": "stream",
          "name": "stderr",
          "text": [
            "100%|██████████| 201/201 [00:15<00:00, 12.89it/s]\n"
          ]
        },
        {
          "output_type": "stream",
          "name": "stdout",
          "text": [
            "Epoch 83: Train Loss = 1.4575, Train Accuracy = 57.01% | Test Loss = 1.4902, Test Accuracy = 56.25%\n"
          ]
        },
        {
          "output_type": "stream",
          "name": "stderr",
          "text": [
            "100%|██████████| 201/201 [00:15<00:00, 12.90it/s]\n"
          ]
        },
        {
          "output_type": "stream",
          "name": "stdout",
          "text": [
            "Epoch 84: Train Loss = 1.4554, Train Accuracy = 57.06% | Test Loss = 1.4759, Test Accuracy = 56.61%\n"
          ]
        },
        {
          "output_type": "stream",
          "name": "stderr",
          "text": [
            "100%|██████████| 201/201 [00:15<00:00, 12.89it/s]\n"
          ]
        },
        {
          "output_type": "stream",
          "name": "stdout",
          "text": [
            "Epoch 85: Train Loss = 1.4523, Train Accuracy = 57.14% | Test Loss = 1.4797, Test Accuracy = 56.51%\n"
          ]
        },
        {
          "output_type": "stream",
          "name": "stderr",
          "text": [
            "100%|██████████| 201/201 [00:15<00:00, 12.91it/s]\n"
          ]
        },
        {
          "output_type": "stream",
          "name": "stdout",
          "text": [
            "Epoch 86: Train Loss = 1.4504, Train Accuracy = 57.21% | Test Loss = 1.4760, Test Accuracy = 56.56%\n"
          ]
        },
        {
          "output_type": "stream",
          "name": "stderr",
          "text": [
            "100%|██████████| 201/201 [00:15<00:00, 12.89it/s]\n"
          ]
        },
        {
          "output_type": "stream",
          "name": "stdout",
          "text": [
            "Epoch 87: Train Loss = 1.4477, Train Accuracy = 57.28% | Test Loss = 1.4757, Test Accuracy = 56.67%\n"
          ]
        },
        {
          "output_type": "stream",
          "name": "stderr",
          "text": [
            "100%|██████████| 201/201 [00:15<00:00, 12.91it/s]\n"
          ]
        },
        {
          "output_type": "stream",
          "name": "stdout",
          "text": [
            "Epoch 88: Train Loss = 1.4461, Train Accuracy = 57.31% | Test Loss = 1.4722, Test Accuracy = 56.72%\n"
          ]
        },
        {
          "output_type": "stream",
          "name": "stderr",
          "text": [
            "100%|██████████| 201/201 [00:15<00:00, 12.90it/s]\n"
          ]
        },
        {
          "output_type": "stream",
          "name": "stdout",
          "text": [
            "Epoch 89: Train Loss = 1.4432, Train Accuracy = 57.36% | Test Loss = 1.4652, Test Accuracy = 56.83%\n"
          ]
        },
        {
          "output_type": "stream",
          "name": "stderr",
          "text": [
            "100%|██████████| 201/201 [00:15<00:00, 12.91it/s]\n"
          ]
        },
        {
          "output_type": "stream",
          "name": "stdout",
          "text": [
            "Epoch 90: Train Loss = 1.4404, Train Accuracy = 57.46% | Test Loss = 1.4657, Test Accuracy = 56.89%\n"
          ]
        },
        {
          "output_type": "stream",
          "name": "stderr",
          "text": [
            "100%|██████████| 201/201 [00:15<00:00, 12.92it/s]\n"
          ]
        },
        {
          "output_type": "stream",
          "name": "stdout",
          "text": [
            "Epoch 91: Train Loss = 1.4385, Train Accuracy = 57.51% | Test Loss = 1.4686, Test Accuracy = 56.81%\n"
          ]
        },
        {
          "output_type": "stream",
          "name": "stderr",
          "text": [
            "100%|██████████| 201/201 [00:15<00:00, 12.90it/s]\n"
          ]
        },
        {
          "output_type": "stream",
          "name": "stdout",
          "text": [
            "Epoch 92: Train Loss = 1.4359, Train Accuracy = 57.59% | Test Loss = 1.4675, Test Accuracy = 56.82%\n"
          ]
        },
        {
          "output_type": "stream",
          "name": "stderr",
          "text": [
            "100%|██████████| 201/201 [00:15<00:00, 12.91it/s]\n"
          ]
        },
        {
          "output_type": "stream",
          "name": "stdout",
          "text": [
            "Epoch 93: Train Loss = 1.4340, Train Accuracy = 57.63% | Test Loss = 1.4615, Test Accuracy = 56.99%\n"
          ]
        },
        {
          "output_type": "stream",
          "name": "stderr",
          "text": [
            "100%|██████████| 201/201 [00:15<00:00, 12.92it/s]\n"
          ]
        },
        {
          "output_type": "stream",
          "name": "stdout",
          "text": [
            "Epoch 94: Train Loss = 1.4315, Train Accuracy = 57.69% | Test Loss = 1.4588, Test Accuracy = 57.15%\n"
          ]
        },
        {
          "output_type": "stream",
          "name": "stderr",
          "text": [
            "100%|██████████| 201/201 [00:15<00:00, 12.91it/s]\n"
          ]
        },
        {
          "output_type": "stream",
          "name": "stdout",
          "text": [
            "Epoch 95: Train Loss = 1.4289, Train Accuracy = 57.77% | Test Loss = 1.4570, Test Accuracy = 57.14%\n"
          ]
        },
        {
          "output_type": "stream",
          "name": "stderr",
          "text": [
            "100%|██████████| 201/201 [00:15<00:00, 12.91it/s]\n"
          ]
        },
        {
          "output_type": "stream",
          "name": "stdout",
          "text": [
            "Epoch 96: Train Loss = 1.4278, Train Accuracy = 57.79% | Test Loss = 1.4551, Test Accuracy = 57.17%\n"
          ]
        },
        {
          "output_type": "stream",
          "name": "stderr",
          "text": [
            "100%|██████████| 201/201 [00:15<00:00, 12.93it/s]\n"
          ]
        },
        {
          "output_type": "stream",
          "name": "stdout",
          "text": [
            "Epoch 97: Train Loss = 1.4254, Train Accuracy = 57.87% | Test Loss = 1.4574, Test Accuracy = 57.04%\n"
          ]
        },
        {
          "output_type": "stream",
          "name": "stderr",
          "text": [
            "100%|██████████| 201/201 [00:15<00:00, 12.92it/s]\n"
          ]
        },
        {
          "output_type": "stream",
          "name": "stdout",
          "text": [
            "Epoch 98: Train Loss = 1.4226, Train Accuracy = 57.93% | Test Loss = 1.4579, Test Accuracy = 57.12%\n"
          ]
        },
        {
          "output_type": "stream",
          "name": "stderr",
          "text": [
            "100%|██████████| 201/201 [00:15<00:00, 12.91it/s]\n"
          ]
        },
        {
          "output_type": "stream",
          "name": "stdout",
          "text": [
            "Epoch 99: Train Loss = 1.4210, Train Accuracy = 57.98% | Test Loss = 1.4511, Test Accuracy = 57.31%\n"
          ]
        },
        {
          "output_type": "stream",
          "name": "stderr",
          "text": [
            "100%|██████████| 201/201 [00:15<00:00, 12.92it/s]\n"
          ]
        },
        {
          "output_type": "stream",
          "name": "stdout",
          "text": [
            "Epoch 100: Train Loss = 1.4185, Train Accuracy = 58.06% | Test Loss = 1.4528, Test Accuracy = 57.31%\n"
          ]
        },
        {
          "output_type": "stream",
          "name": "stderr",
          "text": [
            "100%|██████████| 201/201 [00:15<00:00, 12.93it/s]\n"
          ]
        },
        {
          "output_type": "stream",
          "name": "stdout",
          "text": [
            "Epoch 101: Train Loss = 1.4172, Train Accuracy = 58.08% | Test Loss = 1.4440, Test Accuracy = 57.43%\n"
          ]
        },
        {
          "output_type": "stream",
          "name": "stderr",
          "text": [
            "100%|██████████| 201/201 [00:15<00:00, 12.90it/s]\n"
          ]
        },
        {
          "output_type": "stream",
          "name": "stdout",
          "text": [
            "Epoch 102: Train Loss = 1.4162, Train Accuracy = 58.09% | Test Loss = 1.4451, Test Accuracy = 57.48%\n"
          ]
        },
        {
          "output_type": "stream",
          "name": "stderr",
          "text": [
            "100%|██████████| 201/201 [00:15<00:00, 12.90it/s]\n"
          ]
        },
        {
          "output_type": "stream",
          "name": "stdout",
          "text": [
            "Epoch 103: Train Loss = 1.4125, Train Accuracy = 58.20% | Test Loss = 1.4426, Test Accuracy = 57.48%\n"
          ]
        },
        {
          "output_type": "stream",
          "name": "stderr",
          "text": [
            "100%|██████████| 201/201 [00:15<00:00, 12.90it/s]\n"
          ]
        },
        {
          "output_type": "stream",
          "name": "stdout",
          "text": [
            "Epoch 104: Train Loss = 1.4112, Train Accuracy = 58.27% | Test Loss = 1.4428, Test Accuracy = 57.54%\n"
          ]
        },
        {
          "output_type": "stream",
          "name": "stderr",
          "text": [
            "100%|██████████| 201/201 [00:15<00:00, 12.91it/s]\n"
          ]
        },
        {
          "output_type": "stream",
          "name": "stdout",
          "text": [
            "Epoch 105: Train Loss = 1.4083, Train Accuracy = 58.33% | Test Loss = 1.4405, Test Accuracy = 57.57%\n"
          ]
        },
        {
          "output_type": "stream",
          "name": "stderr",
          "text": [
            "100%|██████████| 201/201 [00:15<00:00, 12.92it/s]\n"
          ]
        },
        {
          "output_type": "stream",
          "name": "stdout",
          "text": [
            "Epoch 106: Train Loss = 1.4068, Train Accuracy = 58.37% | Test Loss = 1.4367, Test Accuracy = 57.67%\n"
          ]
        },
        {
          "output_type": "stream",
          "name": "stderr",
          "text": [
            "100%|██████████| 201/201 [00:15<00:00, 12.91it/s]\n"
          ]
        },
        {
          "output_type": "stream",
          "name": "stdout",
          "text": [
            "Epoch 107: Train Loss = 1.4044, Train Accuracy = 58.44% | Test Loss = 1.4322, Test Accuracy = 57.85%\n"
          ]
        },
        {
          "output_type": "stream",
          "name": "stderr",
          "text": [
            "100%|██████████| 201/201 [00:15<00:00, 12.91it/s]\n"
          ]
        },
        {
          "output_type": "stream",
          "name": "stdout",
          "text": [
            "Epoch 108: Train Loss = 1.4025, Train Accuracy = 58.48% | Test Loss = 1.4323, Test Accuracy = 57.78%\n"
          ]
        },
        {
          "output_type": "stream",
          "name": "stderr",
          "text": [
            "100%|██████████| 201/201 [00:15<00:00, 12.90it/s]\n"
          ]
        },
        {
          "output_type": "stream",
          "name": "stdout",
          "text": [
            "Epoch 109: Train Loss = 1.4017, Train Accuracy = 58.49% | Test Loss = 1.4296, Test Accuracy = 57.88%\n"
          ]
        },
        {
          "output_type": "stream",
          "name": "stderr",
          "text": [
            "100%|██████████| 201/201 [00:15<00:00, 12.93it/s]\n"
          ]
        },
        {
          "output_type": "stream",
          "name": "stdout",
          "text": [
            "Epoch 110: Train Loss = 1.4004, Train Accuracy = 58.51% | Test Loss = 1.4293, Test Accuracy = 57.78%\n"
          ]
        },
        {
          "output_type": "stream",
          "name": "stderr",
          "text": [
            "100%|██████████| 201/201 [00:15<00:00, 12.92it/s]\n"
          ]
        },
        {
          "output_type": "stream",
          "name": "stdout",
          "text": [
            "Epoch 111: Train Loss = 1.3971, Train Accuracy = 58.61% | Test Loss = 1.4314, Test Accuracy = 57.73%\n"
          ]
        },
        {
          "output_type": "stream",
          "name": "stderr",
          "text": [
            "100%|██████████| 201/201 [00:15<00:00, 12.92it/s]\n"
          ]
        },
        {
          "output_type": "stream",
          "name": "stdout",
          "text": [
            "Epoch 112: Train Loss = 1.3954, Train Accuracy = 58.68% | Test Loss = 1.4259, Test Accuracy = 57.96%\n"
          ]
        },
        {
          "output_type": "stream",
          "name": "stderr",
          "text": [
            "100%|██████████| 201/201 [00:15<00:00, 12.92it/s]\n"
          ]
        },
        {
          "output_type": "stream",
          "name": "stdout",
          "text": [
            "Epoch 113: Train Loss = 1.3934, Train Accuracy = 58.73% | Test Loss = 1.4286, Test Accuracy = 57.88%\n"
          ]
        },
        {
          "output_type": "stream",
          "name": "stderr",
          "text": [
            "100%|██████████| 201/201 [00:15<00:00, 12.92it/s]\n"
          ]
        },
        {
          "output_type": "stream",
          "name": "stdout",
          "text": [
            "Epoch 114: Train Loss = 1.3917, Train Accuracy = 58.76% | Test Loss = 1.4240, Test Accuracy = 57.98%\n"
          ]
        },
        {
          "output_type": "stream",
          "name": "stderr",
          "text": [
            "100%|██████████| 201/201 [00:15<00:00, 12.92it/s]\n"
          ]
        },
        {
          "output_type": "stream",
          "name": "stdout",
          "text": [
            "Epoch 115: Train Loss = 1.3901, Train Accuracy = 58.80% | Test Loss = 1.4258, Test Accuracy = 57.99%\n"
          ]
        },
        {
          "output_type": "stream",
          "name": "stderr",
          "text": [
            "100%|██████████| 201/201 [00:15<00:00, 12.92it/s]\n"
          ]
        },
        {
          "output_type": "stream",
          "name": "stdout",
          "text": [
            "Epoch 116: Train Loss = 1.3884, Train Accuracy = 58.86% | Test Loss = 1.4218, Test Accuracy = 58.08%\n"
          ]
        },
        {
          "output_type": "stream",
          "name": "stderr",
          "text": [
            "100%|██████████| 201/201 [00:15<00:00, 12.90it/s]\n"
          ]
        },
        {
          "output_type": "stream",
          "name": "stdout",
          "text": [
            "Epoch 117: Train Loss = 1.3863, Train Accuracy = 58.91% | Test Loss = 1.4199, Test Accuracy = 58.07%\n"
          ]
        },
        {
          "output_type": "stream",
          "name": "stderr",
          "text": [
            "100%|██████████| 201/201 [00:15<00:00, 12.91it/s]\n"
          ]
        },
        {
          "output_type": "stream",
          "name": "stdout",
          "text": [
            "Epoch 118: Train Loss = 1.3857, Train Accuracy = 58.92% | Test Loss = 1.4209, Test Accuracy = 58.11%\n"
          ]
        },
        {
          "output_type": "stream",
          "name": "stderr",
          "text": [
            "100%|██████████| 201/201 [00:15<00:00, 12.90it/s]\n"
          ]
        },
        {
          "output_type": "stream",
          "name": "stdout",
          "text": [
            "Epoch 119: Train Loss = 1.3834, Train Accuracy = 58.98% | Test Loss = 1.4158, Test Accuracy = 58.19%\n"
          ]
        },
        {
          "output_type": "stream",
          "name": "stderr",
          "text": [
            "100%|██████████| 201/201 [00:15<00:00, 12.89it/s]\n"
          ]
        },
        {
          "output_type": "stream",
          "name": "stdout",
          "text": [
            "Epoch 120: Train Loss = 1.3817, Train Accuracy = 59.01% | Test Loss = 1.4163, Test Accuracy = 58.19%\n"
          ]
        },
        {
          "output_type": "stream",
          "name": "stderr",
          "text": [
            "100%|██████████| 201/201 [00:15<00:00, 12.91it/s]\n"
          ]
        },
        {
          "output_type": "stream",
          "name": "stdout",
          "text": [
            "Epoch 121: Train Loss = 1.3799, Train Accuracy = 59.06% | Test Loss = 1.4147, Test Accuracy = 58.29%\n"
          ]
        },
        {
          "output_type": "stream",
          "name": "stderr",
          "text": [
            "100%|██████████| 201/201 [00:15<00:00, 12.92it/s]\n"
          ]
        },
        {
          "output_type": "stream",
          "name": "stdout",
          "text": [
            "Epoch 122: Train Loss = 1.3790, Train Accuracy = 59.09% | Test Loss = 1.4122, Test Accuracy = 58.38%\n"
          ]
        },
        {
          "output_type": "stream",
          "name": "stderr",
          "text": [
            "100%|██████████| 201/201 [00:15<00:00, 12.93it/s]\n"
          ]
        },
        {
          "output_type": "stream",
          "name": "stdout",
          "text": [
            "Epoch 123: Train Loss = 1.3765, Train Accuracy = 59.18% | Test Loss = 1.4102, Test Accuracy = 58.38%\n"
          ]
        },
        {
          "output_type": "stream",
          "name": "stderr",
          "text": [
            "100%|██████████| 201/201 [00:15<00:00, 12.94it/s]\n"
          ]
        },
        {
          "output_type": "stream",
          "name": "stdout",
          "text": [
            "Epoch 124: Train Loss = 1.3758, Train Accuracy = 59.19% | Test Loss = 1.4085, Test Accuracy = 58.41%\n"
          ]
        },
        {
          "output_type": "stream",
          "name": "stderr",
          "text": [
            "100%|██████████| 201/201 [00:15<00:00, 12.94it/s]\n"
          ]
        },
        {
          "output_type": "stream",
          "name": "stdout",
          "text": [
            "Epoch 125: Train Loss = 1.3742, Train Accuracy = 59.24% | Test Loss = 1.4146, Test Accuracy = 58.19%\n"
          ]
        },
        {
          "output_type": "stream",
          "name": "stderr",
          "text": [
            "100%|██████████| 201/201 [00:15<00:00, 12.92it/s]\n"
          ]
        },
        {
          "output_type": "stream",
          "name": "stdout",
          "text": [
            "Epoch 126: Train Loss = 1.3712, Train Accuracy = 59.32% | Test Loss = 1.4052, Test Accuracy = 58.56%\n"
          ]
        },
        {
          "output_type": "stream",
          "name": "stderr",
          "text": [
            "100%|██████████| 201/201 [00:15<00:00, 12.93it/s]\n"
          ]
        },
        {
          "output_type": "stream",
          "name": "stdout",
          "text": [
            "Epoch 127: Train Loss = 1.3707, Train Accuracy = 59.32% | Test Loss = 1.4033, Test Accuracy = 58.58%\n"
          ]
        },
        {
          "output_type": "stream",
          "name": "stderr",
          "text": [
            "100%|██████████| 201/201 [00:15<00:00, 12.95it/s]\n"
          ]
        },
        {
          "output_type": "stream",
          "name": "stdout",
          "text": [
            "Epoch 128: Train Loss = 1.3694, Train Accuracy = 59.34% | Test Loss = 1.4047, Test Accuracy = 58.62%\n"
          ]
        },
        {
          "output_type": "stream",
          "name": "stderr",
          "text": [
            "100%|██████████| 201/201 [00:15<00:00, 12.94it/s]\n"
          ]
        },
        {
          "output_type": "stream",
          "name": "stdout",
          "text": [
            "Epoch 129: Train Loss = 1.3678, Train Accuracy = 59.40% | Test Loss = 1.4000, Test Accuracy = 58.64%\n"
          ]
        },
        {
          "output_type": "stream",
          "name": "stderr",
          "text": [
            "100%|██████████| 201/201 [00:15<00:00, 12.94it/s]\n"
          ]
        },
        {
          "output_type": "stream",
          "name": "stdout",
          "text": [
            "Epoch 130: Train Loss = 1.3656, Train Accuracy = 59.46% | Test Loss = 1.4057, Test Accuracy = 58.40%\n"
          ]
        },
        {
          "output_type": "stream",
          "name": "stderr",
          "text": [
            "100%|██████████| 201/201 [00:15<00:00, 12.94it/s]\n"
          ]
        },
        {
          "output_type": "stream",
          "name": "stdout",
          "text": [
            "Epoch 131: Train Loss = 1.3639, Train Accuracy = 59.51% | Test Loss = 1.3957, Test Accuracy = 58.78%\n"
          ]
        },
        {
          "output_type": "stream",
          "name": "stderr",
          "text": [
            "100%|██████████| 201/201 [00:15<00:00, 12.94it/s]\n"
          ]
        },
        {
          "output_type": "stream",
          "name": "stdout",
          "text": [
            "Epoch 132: Train Loss = 1.3631, Train Accuracy = 59.53% | Test Loss = 1.4049, Test Accuracy = 58.42%\n"
          ]
        },
        {
          "output_type": "stream",
          "name": "stderr",
          "text": [
            "100%|██████████| 201/201 [00:15<00:00, 12.94it/s]\n"
          ]
        },
        {
          "output_type": "stream",
          "name": "stdout",
          "text": [
            "Epoch 133: Train Loss = 1.3612, Train Accuracy = 59.59% | Test Loss = 1.3949, Test Accuracy = 58.88%\n"
          ]
        },
        {
          "output_type": "stream",
          "name": "stderr",
          "text": [
            "100%|██████████| 201/201 [00:15<00:00, 12.95it/s]\n"
          ]
        },
        {
          "output_type": "stream",
          "name": "stdout",
          "text": [
            "Epoch 134: Train Loss = 1.3590, Train Accuracy = 59.66% | Test Loss = 1.3924, Test Accuracy = 58.81%\n"
          ]
        },
        {
          "output_type": "stream",
          "name": "stderr",
          "text": [
            "100%|██████████| 201/201 [00:15<00:00, 12.94it/s]\n"
          ]
        },
        {
          "output_type": "stream",
          "name": "stdout",
          "text": [
            "Epoch 135: Train Loss = 1.3584, Train Accuracy = 59.63% | Test Loss = 1.3938, Test Accuracy = 58.84%\n"
          ]
        },
        {
          "output_type": "stream",
          "name": "stderr",
          "text": [
            "100%|██████████| 201/201 [00:15<00:00, 12.94it/s]\n"
          ]
        },
        {
          "output_type": "stream",
          "name": "stdout",
          "text": [
            "Epoch 136: Train Loss = 1.3568, Train Accuracy = 59.70% | Test Loss = 1.3913, Test Accuracy = 58.91%\n"
          ]
        },
        {
          "output_type": "stream",
          "name": "stderr",
          "text": [
            "100%|██████████| 201/201 [00:15<00:00, 12.94it/s]\n"
          ]
        },
        {
          "output_type": "stream",
          "name": "stdout",
          "text": [
            "Epoch 137: Train Loss = 1.3553, Train Accuracy = 59.75% | Test Loss = 1.3893, Test Accuracy = 58.99%\n"
          ]
        },
        {
          "output_type": "stream",
          "name": "stderr",
          "text": [
            "100%|██████████| 201/201 [00:15<00:00, 12.93it/s]\n"
          ]
        },
        {
          "output_type": "stream",
          "name": "stdout",
          "text": [
            "Epoch 138: Train Loss = 1.3546, Train Accuracy = 59.77% | Test Loss = 1.3911, Test Accuracy = 58.92%\n"
          ]
        },
        {
          "output_type": "stream",
          "name": "stderr",
          "text": [
            "100%|██████████| 201/201 [00:15<00:00, 12.95it/s]\n"
          ]
        },
        {
          "output_type": "stream",
          "name": "stdout",
          "text": [
            "Epoch 139: Train Loss = 1.3519, Train Accuracy = 59.85% | Test Loss = 1.3842, Test Accuracy = 59.14%\n"
          ]
        },
        {
          "output_type": "stream",
          "name": "stderr",
          "text": [
            "100%|██████████| 201/201 [00:15<00:00, 12.96it/s]\n"
          ]
        },
        {
          "output_type": "stream",
          "name": "stdout",
          "text": [
            "Epoch 140: Train Loss = 1.3517, Train Accuracy = 59.84% | Test Loss = 1.3863, Test Accuracy = 59.01%\n"
          ]
        },
        {
          "output_type": "stream",
          "name": "stderr",
          "text": [
            "100%|██████████| 201/201 [00:15<00:00, 12.93it/s]\n"
          ]
        },
        {
          "output_type": "stream",
          "name": "stdout",
          "text": [
            "Epoch 141: Train Loss = 1.3502, Train Accuracy = 59.88% | Test Loss = 1.3927, Test Accuracy = 58.85%\n"
          ]
        },
        {
          "output_type": "stream",
          "name": "stderr",
          "text": [
            "100%|██████████| 201/201 [00:15<00:00, 12.93it/s]\n"
          ]
        },
        {
          "output_type": "stream",
          "name": "stdout",
          "text": [
            "Epoch 142: Train Loss = 1.3486, Train Accuracy = 59.92% | Test Loss = 1.3840, Test Accuracy = 59.09%\n"
          ]
        },
        {
          "output_type": "stream",
          "name": "stderr",
          "text": [
            "100%|██████████| 201/201 [00:15<00:00, 12.94it/s]\n"
          ]
        },
        {
          "output_type": "stream",
          "name": "stdout",
          "text": [
            "Epoch 143: Train Loss = 1.3476, Train Accuracy = 59.95% | Test Loss = 1.3799, Test Accuracy = 59.23%\n"
          ]
        },
        {
          "output_type": "stream",
          "name": "stderr",
          "text": [
            "100%|██████████| 201/201 [00:15<00:00, 12.94it/s]\n"
          ]
        },
        {
          "output_type": "stream",
          "name": "stdout",
          "text": [
            "Epoch 144: Train Loss = 1.3446, Train Accuracy = 60.06% | Test Loss = 1.3813, Test Accuracy = 59.18%\n"
          ]
        },
        {
          "output_type": "stream",
          "name": "stderr",
          "text": [
            "100%|██████████| 201/201 [00:15<00:00, 12.95it/s]\n"
          ]
        },
        {
          "output_type": "stream",
          "name": "stdout",
          "text": [
            "Epoch 145: Train Loss = 1.3440, Train Accuracy = 60.05% | Test Loss = 1.3821, Test Accuracy = 59.11%\n"
          ]
        },
        {
          "output_type": "stream",
          "name": "stderr",
          "text": [
            "100%|██████████| 201/201 [00:15<00:00, 12.96it/s]\n"
          ]
        },
        {
          "output_type": "stream",
          "name": "stdout",
          "text": [
            "Epoch 146: Train Loss = 1.3425, Train Accuracy = 60.12% | Test Loss = 1.3804, Test Accuracy = 59.17%\n"
          ]
        },
        {
          "output_type": "stream",
          "name": "stderr",
          "text": [
            "100%|██████████| 201/201 [00:15<00:00, 12.95it/s]\n"
          ]
        },
        {
          "output_type": "stream",
          "name": "stdout",
          "text": [
            "Epoch 147: Train Loss = 1.3418, Train Accuracy = 60.13% | Test Loss = 1.3770, Test Accuracy = 59.38%\n"
          ]
        },
        {
          "output_type": "stream",
          "name": "stderr",
          "text": [
            "100%|██████████| 201/201 [00:15<00:00, 12.96it/s]\n"
          ]
        },
        {
          "output_type": "stream",
          "name": "stdout",
          "text": [
            "Epoch 148: Train Loss = 1.3395, Train Accuracy = 60.20% | Test Loss = 1.3770, Test Accuracy = 59.34%\n"
          ]
        },
        {
          "output_type": "stream",
          "name": "stderr",
          "text": [
            "100%|██████████| 201/201 [00:15<00:00, 12.96it/s]\n"
          ]
        },
        {
          "output_type": "stream",
          "name": "stdout",
          "text": [
            "Epoch 149: Train Loss = 1.3385, Train Accuracy = 60.22% | Test Loss = 1.3780, Test Accuracy = 59.30%\n"
          ]
        },
        {
          "output_type": "stream",
          "name": "stderr",
          "text": [
            "100%|██████████| 201/201 [00:15<00:00, 12.94it/s]\n"
          ]
        },
        {
          "output_type": "stream",
          "name": "stdout",
          "text": [
            "Epoch 150: Train Loss = 1.3390, Train Accuracy = 60.17% | Test Loss = 1.3729, Test Accuracy = 59.40%\n"
          ]
        }
      ]
    },
    {
      "cell_type": "code",
      "source": [
        "os.makedirs('model_weights', exist_ok=True)\n",
        "torch.save(model.state_dict(), 'model_weights/model.pth')"
      ],
      "metadata": {
        "id": "_7ECOpE4Gfm0"
      },
      "execution_count": null,
      "outputs": []
    },
    {
      "cell_type": "code",
      "source": [
        "#Évolution de la Loss au fil des Epochs\n",
        "plot_loss(train_losses, test_losses)"
      ],
      "metadata": {
        "colab": {
          "base_uri": "https://localhost:8080/",
          "height": 567
        },
        "id": "b7JksEKCnHw5",
        "outputId": "22005075-bd70-4c09-9420-46c646b5a2f9"
      },
      "execution_count": null,
      "outputs": [
        {
          "output_type": "display_data",
          "data": {
            "text/plain": [
              "<Figure size 800x600 with 1 Axes>"
            ],
            "image/png": "[encoded data removed]"
          },
          "metadata": {}
        }
      ]
    },
    {
      "cell_type": "code",
      "source": [
        "def generate(model, idx, max_new_tokens):\n",
        "  # Initialisation de la variable pour stocker l'index du prochain token à prédire\n",
        "  idx_next = -1\n",
        "  # Compteur pour limiter le nombre de tokens générés\n",
        "  i = 0\n",
        "  while idx_next != token_to_id['<eot>'] and i < max_new_tokens :\n",
        "    # Récupérer l'index du dernier token dans la séquence d'input\n",
        "    last_index = idx.shape[1] -1\n",
        "     # Compléter la séquence d'entrée avec des zéros (padding) pour atteindre la taille de contexte\n",
        "    idx_cond = torch.cat((idx , torch.zeros(1,(context_size - idx.shape[1]),device=device,dtype=torch.long) ), dim=1)\n",
        "\n",
        "    logits = model(idx_cond)\n",
        "    # Récupérer les logits pour le dernier token généré\n",
        "    logits = logits[:,last_index,:] #(1,Vocab_size)\n",
        "    # Appliquer softmax pour obtenir les probabilités des tokens suivants\n",
        "    probs = F.softmax(logits , dim = -1)\n",
        "     # Sélectionner le prochain token\n",
        "    idx_next = torch.multinomial(probs, num_samples=1)\n",
        "    # Ajouter le token prédit à la séquence d'entrée pour la prochaine itération\n",
        "    idx = torch.cat((idx,idx_next) , dim = 1)\n",
        "\n",
        "    yield decode([idx_next.item()])\n",
        "\n",
        "    i+=1\n",
        "  #return idx"
      ],
      "metadata": {
        "id": "p3F0wZPyd5hT"
      },
      "execution_count": 23,
      "outputs": []
    },
    {
      "cell_type": "code",
      "source": [
        "\n",
        "from time import sleep\n",
        "def tester_le_model(test):\n",
        "  model.eval()\n",
        "  # Créer l'ID de la séquence de test en ajoutant le token de début de séquence (<sot>)\n",
        "  s_id = [token_to_id['<sot>']]  +[token_to_id[char] for char in test]\n",
        "  s_id = torch.tensor(s_id , dtype=torch.long , device=device)\n",
        "  # Ajouter une dimension supplémentair\n",
        "  s_id = s_id.unsqueeze(0)\n",
        "  print(test,end='')\n",
        "  #generated_chars = decode(generate(m,s_id, max_new_tokens= context_size - s_id.shape[1] )[0].tolist())\n",
        "  # Générer les caractères un par un avec la fonction `generate` jusqu'à ce que la longueur maximale soit atteinte\n",
        "  Prediction = test\n",
        "  for char in generate(model,s_id, max_new_tokens= context_size - s_id.shape[1] ):\n",
        "    print(char, end='')\n",
        "    Prediction = Prediction + char\n",
        "  return Prediction\n",
        "\n",
        "\n",
        "  #"
      ],
      "metadata": {
        "id": "Kf5TDgA4eK0p"
      },
      "execution_count": 32,
      "outputs": []
    },
    {
      "cell_type": "code",
      "source": [
        "test = \"Trump\"\n",
        "# tester le model\n",
        "tester_le_model(test)"
      ],
      "metadata": {
        "colab": {
          "base_uri": "https://localhost:8080/",
          "height": 35
        },
        "id": "myjoL6Md5Hbx",
        "outputId": "0505bc33-4285-44d1-fed0-731ef1870107"
      },
      "execution_count": 33,
      "outputs": [
        {
          "output_type": "execute_result",
          "data": {
            "text/plain": [
              "'Trump just was today control, like ad many success? Only sink for extrapidaters deadly anyone.<eot>'"
            ],
            "application/vnd.google.colaboratory.intrinsic+json": {
              "type": "string"
            }
          },
          "metadata": {},
          "execution_count": 33
        }
      ]
    },
    {
      "cell_type": "code",
      "source": [
        "predictions = [\n",
        "    tester_le_model(R[:len(R)//2]) for R in tweets[:10]\n",
        "]\n",
        "print(\"\\n\\n\")\n",
        "for p in predictions:\n",
        "  print(p)\n",
        "\n",
        "# Calcul des scores\n",
        "bleu_score = compute_bleu(tweets[:10], predictions)\n",
        "\n",
        "print(f\"Score BLEU : {bleu_score:.4f}\")"
      ],
      "metadata": {
        "id": "naIMDPkU6gkL",
        "colab": {
          "base_uri": "https://localhost:8080/"
        },
        "outputId": "3410ca03-59a9-4f2d-c258-212144d71733"
      },
      "execution_count": 35,
      "outputs": [
        {
          "output_type": "stream",
          "name": "stdout",
          "text": [
            "\n",
            "\n",
            "\n",
            "Be sure to tune in and watch Donald Trump on Late Night with Hassamick Amerod. We want handling that Suprement! Kenton pay!<eot>\n",
            "Donald Trump will be appearing on The View tomorrow morning to disaster. Phill such riquoin or introngest over with apres of every consecials ased bling the spieng about me!<eot>\n",
            "Miss USA Tara Conner will not be fired - \"I've always the reached Granger successasting to some, now, and hold make of for a man!<eot>\n",
            "Here's to a safe and happy Independence Day and Peting to says of Korea is board football ways share. The are appeale high militarians economically good at NYC, Armendon. Our potest with three economic on debatedy hits as conflict ev Liberama - any very when hit a great and which necesslowed immigrant as actuality in 208 the life.<eot>\n",
            "Wishing you and yours a very Happy and very able other execut, despite us. Get bleased, have sanced speech can better phony comebablowi Endorsement left, endoval fied D.C. thank EVES!<eot>\n",
            "Superbowl Sunday is a great American tradition. The Colts are negotiation at plange.but On Korea Palmant. Very going if bloosand when being commendous in West - fleasurant him.<eot>\n",
            "The Celebrity Apprentice has a two-hour premiere this Sunday, March 10 Pres - and concervily-then have 16. Will need vote best at it will be seecuring against for the U.S. posing become wants struction.<eot>\n",
            "The new season of the Celebrity Apprentice is off to a great started!<eot>\n",
            "Olympic Gold Medalist Evan Lysacek just left my office. He is in the would to no final.<eot>\n",
            "I am happy to announce that theoriginal Apprentice --which will a being ObamaCare just soural could not much 5 jobs get about 12 Admining only--they problem signaily and into for the would be miss that ISH usisited!<eot>\n",
            "Score BLEU : 0.4200\n"
          ]
        }
      ]
    },
    {
      "cell_type": "code",
      "source": [
        "for tweet in tweets[:10]:\n",
        "  print(tweet[:len(tweet)//2] + \"        \"+tweet[len(tweet)//2:])"
      ],
      "metadata": {
        "colab": {
          "base_uri": "https://localhost:8080/"
        },
        "id": "oxcGgkGZMHNP",
        "outputId": "6de7a6ee-e454-4703-999f-bcdcbb22053b"
      },
      "execution_count": 36,
      "outputs": [
        {
          "output_type": "stream",
          "name": "stdout",
          "text": [
            "Be sure to tune in and watch Donald Trump on Late Night wi        th David Letterman as he presents the Top Ten List tonight!\n",
            "Donald Trump will be appearing on The View tomorrow morning to di        scuss Celebrity Apprentice and his new book Think Like A Champion!\n",
            "Miss USA Tara Conner will not be fired - \"I've always         been a believer in second chances.\" says Donald Trump\n",
            "Here's to a safe and happy Independence Day         for one and all - Enjoy it! --Donald J. Trump\n",
            "Wishing you and yours a very Ha        ppy and Bountiful Thanksgiving!\n",
            "Superbowl Sunday is a great American tradition. The Colts a        nd Saints are already champions, but may the best team win!\n",
            "The Celebrity Apprentice has a two-hour premiere this Sunday, March 1        4th, at 9 p.m. on NBC. This will be the best season yet, see you then!\n",
            "The new season of the Celebrity Apprentice is off to a great star        t-- last night it swept the 10 p.m. hour in every key demographic.\n",
            "Olympic Gold Medalist Evan Lysacek just left my office. He is in t        own and wanted to meet me--he's a fanastic guy and a true champion.\n",
            "I am happy to announce that theoriginal Apprentice --which w        ill offer job opportunities to those in need--is coming back.\n"
          ]
        }
      ]
    },
    {
      "cell_type": "markdown",
      "source": [
        "#Utilisation de SentencePiece comme tokenizer\n"
      ],
      "metadata": {
        "id": "uHsLEwWywBgF"
      }
    },
    {
      "cell_type": "markdown",
      "source": [
        "Dans cette étape, nous utilisons SentencePiece pour tokeniser le texte\n",
        "à la place des tokenizers classiques basés sur les caractères.\n",
        "SentencePiece applique un algorithme BPE (Byte-Pair Encoding) pour\n",
        "segmenter les mots en sous-mots (ou \"tokens\").\n",
        "Ce modèle de tokenizer est entraîné sur un corpus de tweets et permet de mieux gérer les mots rares et les nouvelles expressions.\n"
      ],
      "metadata": {
        "id": "IuXRxaT_pTbI"
      }
    },
    {
      "cell_type": "code",
      "source": [
        "context_size = 512\n",
        "epochs = 150"
      ],
      "metadata": {
        "id": "gYh1Rm1Ofoac"
      },
      "execution_count": 37,
      "outputs": []
    },
    {
      "cell_type": "code",
      "source": [
        "!pip install sentencepiece"
      ],
      "metadata": {
        "id": "1GrT5i29wEKT",
        "colab": {
          "base_uri": "https://localhost:8080/"
        },
        "outputId": "34e1c695-501f-492e-c88d-51a9d5184be9"
      },
      "execution_count": 38,
      "outputs": [
        {
          "output_type": "stream",
          "name": "stdout",
          "text": [
            "Requirement already satisfied: sentencepiece in /usr/local/lib/python3.11/dist-packages (0.2.0)\n"
          ]
        }
      ]
    },
    {
      "cell_type": "code",
      "source": [
        "with open(\"tweets_corpus.txt\", \"w\", encoding=\"utf-8\") as f:\n",
        "    for tweet in tweets:\n",
        "      # Écrire chaque tweet dans le fichier, suivi d'un saut de ligne\n",
        "        f.write(tweet + \"\\n\")"
      ],
      "metadata": {
        "id": "OBd18JBrwONw"
      },
      "execution_count": 39,
      "outputs": []
    },
    {
      "cell_type": "code",
      "source": [
        "import sentencepiece as spm\n",
        "\n",
        "# Entraînement du modèle SentencePiece\n",
        "spm.SentencePieceTrainer.Train(\n",
        "    \"--input=tweets_corpus.txt --model_prefix=spm --vocab_size=8000 --character_coverage=0.9995 --model_type=bpe\"\n",
        ")"
      ],
      "metadata": {
        "id": "i97-q8L_wQHb"
      },
      "execution_count": 40,
      "outputs": []
    },
    {
      "cell_type": "code",
      "source": [
        "sp = spm.SentencePieceProcessor(model_file=\"spm.model\")\n",
        "\n",
        "# Exemple de tokenization\n",
        "text = \"This is an example tweet.\"\n",
        "tokens = sp.encode(text, out_type=str)  # Liste des tokens sous forme de string\n",
        "print(\"Tokens:\", tokens)\n",
        "\n",
        "# Convertir les tokens en IDs\n",
        "token_ids = sp.encode(text)  # Liste des IDs\n",
        "print(\"Token IDs:\", token_ids)\n",
        "\n",
        "# Décoder les tokens en texte\n",
        "decoded_text = sp.decode(token_ids)\n",
        "print(\"Texte décodé:\", decoded_text)"
      ],
      "metadata": {
        "id": "4gnl8hB2wgxH",
        "colab": {
          "base_uri": "https://localhost:8080/"
        },
        "outputId": "77113444-f180-45a3-fbef-76ee0ee3d07a"
      },
      "execution_count": 41,
      "outputs": [
        {
          "output_type": "stream",
          "name": "stdout",
          "text": [
            "Tokens: ['▁This', '▁is', '▁an', '▁example', '▁tweet', '.']\n",
            "Token IDs: [518, 48, 24, 5668, 6806, 7953]\n",
            "Texte décodé: This is an example tweet.\n"
          ]
        }
      ]
    },
    {
      "cell_type": "code",
      "source": [
        "for i in range(10):  # Afficher les 10 premiers tokens du vocab\n",
        "    print(f\"{i}: {sp.id_to_piece(i)}\")\n"
      ],
      "metadata": {
        "id": "h_wqVnZ3xN81",
        "colab": {
          "base_uri": "https://localhost:8080/"
        },
        "outputId": "8b97b0fa-b498-4667-c1a5-21ffa7991af1"
      },
      "execution_count": 42,
      "outputs": [
        {
          "output_type": "stream",
          "name": "stdout",
          "text": [
            "0: <unk>\n",
            "1: <s>\n",
            "2: </s>\n",
            "3: ▁t\n",
            "4: ▁a\n",
            "5: in\n",
            "6: he\n",
            "7: re\n",
            "8: ▁w\n",
            "9: on\n"
          ]
        }
      ]
    },
    {
      "cell_type": "code",
      "source": [
        "sp.piece_to_id(\"<s>\")\n",
        "# récupèrer la taille du vocabulaire du modèle SentencePiece\n",
        "VOCAB_SIZE = sp.get_piece_size()"
      ],
      "metadata": {
        "id": "T9u5ab4-MIiz"
      },
      "execution_count": 43,
      "outputs": []
    },
    {
      "cell_type": "code",
      "source": [
        "def data_preprocessing(base) :\n",
        "  n = len(base)\n",
        "\n",
        "  code = []\n",
        "  for s in base :\n",
        "    # Utiliser SentencePiece pour encoder chaque tweet en ajoutant les tokens de début et de fin de séquence\n",
        "    # \"<s>\" pour le début et \"</s>\" pour la fin de séquence\n",
        "    s = [sp.piece_to_id(\"<s>\")] + sp.encode(s)  + [sp.piece_to_id(\"</s>\")]\n",
        "    code.extend(s)\n",
        "  data = np.asarray(code)\n",
        "  indices = np.where(data==1)[0]\n",
        "  return torch.from_numpy(data),indices.astype(int)"
      ],
      "metadata": {
        "id": "pxqPLB10wj0-"
      },
      "execution_count": 44,
      "outputs": []
    },
    {
      "cell_type": "code",
      "source": [
        "data, indices = data_preprocessing(tweets)\n",
        "print(data)\n",
        "print(indices)"
      ],
      "metadata": {
        "colab": {
          "base_uri": "https://localhost:8080/"
        },
        "id": "3JMH7VX5NV-x",
        "outputId": "8b29ef43-664a-4000-ac0d-58bf977860f5"
      },
      "execution_count": 45,
      "outputs": [
        {
          "output_type": "stream",
          "name": "stdout",
          "text": [
            "tensor([   1,  771, 1671,  ..., 4565, 7963,    2])\n",
            "[     0     31     56 ... 241061 241078 241100]\n"
          ]
        }
      ]
    },
    {
      "cell_type": "code",
      "source": [
        "train_dataloader, test_dataloader = build_dataloader(data,indices, batch_size,context_size)\n",
        "\n",
        "(xb,yb) = next(iter(train_dataloader))\n",
        "print(xb)\n",
        "print(yb)"
      ],
      "metadata": {
        "colab": {
          "base_uri": "https://localhost:8080/"
        },
        "id": "H6-PkPX_NECW",
        "outputId": "7b859457-bb4d-48e9-fdc1-3525a404fdef"
      },
      "execution_count": 46,
      "outputs": [
        {
          "output_type": "stream",
          "name": "stdout",
          "text": [
            "tensor([[   1, 1966,  151,  ...,   84, 1595,   69],\n",
            "        [   1,  896, 2430,  ..., 2318,   38, 1079],\n",
            "        [   1,  289,  856,  ..., 7953, 3634, 7061],\n",
            "        ...,\n",
            "        [   1,  909, 7958,  ...,  272,  293, 3447],\n",
            "        [   1,  569,  673,  ...,   55, 4328, 3453],\n",
            "        [   1,   40, 3384,  ..., 1396,   32, 7981]])\n",
            "tensor([[1966,  151,   66,  ..., 1595,   69, 1080],\n",
            "        [ 896, 2430, 7958,  ...,   38, 1079, 1109],\n",
            "        [ 289,  856, 2498,  ..., 3634, 7061,   48],\n",
            "        ...,\n",
            "        [ 909, 7958,  179,  ...,  293, 3447,   45],\n",
            "        [ 569,  673, 2147,  ..., 4328, 3453, 7953],\n",
            "        [  40, 3384, 2636,  ...,   32, 7981, 2685]])\n"
          ]
        }
      ]
    },
    {
      "cell_type": "code",
      "source": [
        "from logging import log\n",
        "\n",
        "model = Gpt()\n",
        "model= model.to(device)\n",
        "optimizer = torch.optim.AdamW(model.parameters(), lr=learning_rate)\n",
        "# Afficher le nombre de paramètres et la structure du réseau\n",
        "summary(model)"
      ],
      "metadata": {
        "colab": {
          "base_uri": "https://localhost:8080/"
        },
        "id": "YSpkW89iTeXl",
        "outputId": "4e73331d-f90c-4464-fd5c-0ac22d68ee2f"
      },
      "execution_count": 47,
      "outputs": [
        {
          "output_type": "execute_result",
          "data": {
            "text/plain": [
              "=====================================================================================\n",
              "Layer (type:depth-idx)                                       Param #\n",
              "=====================================================================================\n",
              "Gpt                                                          --\n",
              "├─TokenAndPositionEmbedding: 1-1                             --\n",
              "│    └─Embedding: 2-1                                        1,200,000\n",
              "│    └─Embedding: 2-2                                        76,800\n",
              "├─Sequential: 1-2                                            --\n",
              "│    └─TransformerBlock: 2-3                                 --\n",
              "│    │    └─MultiheadAttention: 3-1                          90,600\n",
              "│    │    └─Sequential: 3-2                                  180,750\n",
              "│    │    └─LayerNorm: 3-3                                   300\n",
              "│    │    └─LayerNorm: 3-4                                   300\n",
              "│    │    └─Dropout: 3-5                                     --\n",
              "│    │    └─Dropout: 3-6                                     --\n",
              "│    └─TransformerBlock: 2-4                                 --\n",
              "│    │    └─MultiheadAttention: 3-7                          90,600\n",
              "│    │    └─Sequential: 3-8                                  180,750\n",
              "│    │    └─LayerNorm: 3-9                                   300\n",
              "│    │    └─LayerNorm: 3-10                                  300\n",
              "│    │    └─Dropout: 3-11                                    --\n",
              "│    │    └─Dropout: 3-12                                    --\n",
              "│    └─TransformerBlock: 2-5                                 --\n",
              "│    │    └─MultiheadAttention: 3-13                         90,600\n",
              "│    │    └─Sequential: 3-14                                 180,750\n",
              "│    │    └─LayerNorm: 3-15                                  300\n",
              "│    │    └─LayerNorm: 3-16                                  300\n",
              "│    │    └─Dropout: 3-17                                    --\n",
              "│    │    └─Dropout: 3-18                                    --\n",
              "├─LayerNorm: 1-3                                             300\n",
              "├─Linear: 1-4                                                1,208,000\n",
              "=====================================================================================\n",
              "Total params: 3,300,950\n",
              "Trainable params: 3,300,950\n",
              "Non-trainable params: 0\n",
              "====================================================================================="
            ]
          },
          "metadata": {},
          "execution_count": 47
        }
      ]
    },
    {
      "cell_type": "code",
      "source": [
        "if os.path.exists('model_weights/model_with_tokenizer.pth'):\n",
        "    model.load_state_dict(torch.load('model_weights/model_with_tokenizer.pth'))"
      ],
      "metadata": {
        "id": "Ke6ohotcEZrd",
        "colab": {
          "base_uri": "https://localhost:8080/"
        },
        "outputId": "6a5bcf1c-eed4-444f-c44c-d32bb8cf2f16"
      },
      "execution_count": 111,
      "outputs": [
        {
          "output_type": "stream",
          "name": "stderr",
          "text": [
            "<ipython-input-111-0a85ff37465d>:2: FutureWarning: You are using `torch.load` with `weights_only=False` (the current default value), which uses the default pickle module implicitly. It is possible to construct malicious pickle data which will execute arbitrary code during unpickling (See https://github.com/pytorch/pytorch/blob/main/SECURITY.md#untrusted-models for more details). In a future release, the default value for `weights_only` will be flipped to `True`. This limits the functions that could be executed during unpickling. Arbitrary objects will no longer be allowed to be loaded via this mode unless they are explicitly allowlisted by the user via `torch.serialization.add_safe_globals`. We recommend you start setting `weights_only=True` for any use case where you don't have full control of the loaded file. Please open an issue on GitHub for any issues related to this experimental feature.\n",
            "  model.load_state_dict(torch.load('model_weights/model_with_tokenizer.pth'))\n"
          ]
        }
      ]
    },
    {
      "cell_type": "code",
      "source": [
        "train_losses = []\n",
        "test_losses = []\n",
        "\n",
        "for epoch in range(epochs):\n",
        "    model.train()\n",
        "\n",
        "    cum_loss_value = 0\n",
        "    correct_train = 0\n",
        "    total_train = 0\n",
        "\n",
        "    for xb, yb in tqdm(train_dataloader):\n",
        "        xb, yb = xb.to(device), yb.to(device)\n",
        "\n",
        "\n",
        "        # Calcul de la loss\n",
        "        logits = model(xb)\n",
        "        B, T, C = logits.shape\n",
        "        logits = logits.view(B*T, C)\n",
        "        yb = yb.view(B*T)\n",
        "        loss = F.cross_entropy(logits, yb)\n",
        "        cum_loss_value = cum_loss_value + loss.item()\n",
        "\n",
        "        # Calcul de l'accuracy sur le train set\n",
        "        probs = F.softmax(logits , dim = -1)\n",
        "        preds = torch.argmax(probs, dim=-1)\n",
        "        correct_train += (preds == yb).sum().item()\n",
        "        total_train += yb.numel()\n",
        "\n",
        "        # Backpropagation\n",
        "        optimizer.zero_grad(set_to_none=True)\n",
        "        loss.backward()\n",
        "        optimizer.step()\n",
        "\n",
        "    avg_train_loss = cum_loss_value / len(train_dataloader)\n",
        "    train_accuracy = correct_train / total_train * 100\n",
        "    train_losses.append(avg_train_loss)\n",
        "    # Calcul de la loss et de l'accuracy sur les données de test\n",
        "    avg_test_loss, test_accuracy = validation_data_loss_and_accuracy(model, test_dataloader)\n",
        "    test_losses.append(avg_test_loss)\n",
        "\n",
        "    print(f\"Epoch {epoch+1}: Train Loss = {avg_train_loss:.4f}, Train Accuracy = {train_accuracy:.2f}% | Test Loss = {avg_test_loss:.4f}, Test Accuracy = {test_accuracy:.2f}%\")"
      ],
      "metadata": {
        "id": "UWOn42v2NeEd",
        "colab": {
          "base_uri": "https://localhost:8080/"
        },
        "outputId": "7b06bfea-654a-4a7d-af5b-f6c3f761bbca"
      },
      "execution_count": 48,
      "outputs": [
        {
          "output_type": "stream",
          "name": "stderr",
          "text": [
            "100%|██████████| 201/201 [00:28<00:00,  6.98it/s]\n"
          ]
        },
        {
          "output_type": "stream",
          "name": "stdout",
          "text": [
            "Epoch 1: Train Loss = 7.5093, Train Accuracy = 7.55% | Test Loss = 6.6425, Test Accuracy = 11.54%\n"
          ]
        },
        {
          "output_type": "stream",
          "name": "stderr",
          "text": [
            "100%|██████████| 201/201 [00:29<00:00,  6.91it/s]\n"
          ]
        },
        {
          "output_type": "stream",
          "name": "stdout",
          "text": [
            "Epoch 2: Train Loss = 6.1908, Train Accuracy = 14.88% | Test Loss = 5.7812, Test Accuracy = 18.18%\n"
          ]
        },
        {
          "output_type": "stream",
          "name": "stderr",
          "text": [
            "100%|██████████| 201/201 [00:28<00:00,  7.09it/s]\n"
          ]
        },
        {
          "output_type": "stream",
          "name": "stdout",
          "text": [
            "Epoch 3: Train Loss = 5.5025, Train Accuracy = 20.08% | Test Loss = 5.2800, Test Accuracy = 21.40%\n"
          ]
        },
        {
          "output_type": "stream",
          "name": "stderr",
          "text": [
            "100%|██████████| 201/201 [00:28<00:00,  7.05it/s]\n"
          ]
        },
        {
          "output_type": "stream",
          "name": "stdout",
          "text": [
            "Epoch 4: Train Loss = 5.1119, Train Accuracy = 22.43% | Test Loss = 4.9858, Test Accuracy = 22.95%\n"
          ]
        },
        {
          "output_type": "stream",
          "name": "stderr",
          "text": [
            "100%|██████████| 201/201 [00:28<00:00,  7.07it/s]\n"
          ]
        },
        {
          "output_type": "stream",
          "name": "stdout",
          "text": [
            "Epoch 5: Train Loss = 4.8567, Train Accuracy = 23.60% | Test Loss = 4.7708, Test Accuracy = 23.77%\n"
          ]
        },
        {
          "output_type": "stream",
          "name": "stderr",
          "text": [
            "100%|██████████| 201/201 [00:28<00:00,  7.07it/s]\n"
          ]
        },
        {
          "output_type": "stream",
          "name": "stdout",
          "text": [
            "Epoch 6: Train Loss = 4.6610, Train Accuracy = 24.27% | Test Loss = 4.5992, Test Accuracy = 24.38%\n"
          ]
        },
        {
          "output_type": "stream",
          "name": "stderr",
          "text": [
            "100%|██████████| 201/201 [00:28<00:00,  7.08it/s]\n"
          ]
        },
        {
          "output_type": "stream",
          "name": "stdout",
          "text": [
            "Epoch 7: Train Loss = 4.4990, Train Accuracy = 24.75% | Test Loss = 4.4516, Test Accuracy = 24.74%\n"
          ]
        },
        {
          "output_type": "stream",
          "name": "stderr",
          "text": [
            "100%|██████████| 201/201 [00:28<00:00,  7.07it/s]\n"
          ]
        },
        {
          "output_type": "stream",
          "name": "stdout",
          "text": [
            "Epoch 8: Train Loss = 4.3596, Train Accuracy = 25.23% | Test Loss = 4.3246, Test Accuracy = 25.22%\n"
          ]
        },
        {
          "output_type": "stream",
          "name": "stderr",
          "text": [
            "100%|██████████| 201/201 [00:28<00:00,  7.05it/s]\n"
          ]
        },
        {
          "output_type": "stream",
          "name": "stdout",
          "text": [
            "Epoch 9: Train Loss = 4.2342, Train Accuracy = 25.71% | Test Loss = 4.2090, Test Accuracy = 25.69%\n"
          ]
        },
        {
          "output_type": "stream",
          "name": "stderr",
          "text": [
            "100%|██████████| 201/201 [00:28<00:00,  7.06it/s]\n"
          ]
        },
        {
          "output_type": "stream",
          "name": "stdout",
          "text": [
            "Epoch 10: Train Loss = 4.1183, Train Accuracy = 26.28% | Test Loss = 4.1045, Test Accuracy = 26.27%\n"
          ]
        },
        {
          "output_type": "stream",
          "name": "stderr",
          "text": [
            "100%|██████████| 201/201 [00:28<00:00,  7.06it/s]\n"
          ]
        },
        {
          "output_type": "stream",
          "name": "stdout",
          "text": [
            "Epoch 11: Train Loss = 4.0071, Train Accuracy = 27.01% | Test Loss = 3.9943, Test Accuracy = 27.02%\n"
          ]
        },
        {
          "output_type": "stream",
          "name": "stderr",
          "text": [
            "100%|██████████| 201/201 [00:28<00:00,  7.07it/s]\n"
          ]
        },
        {
          "output_type": "stream",
          "name": "stdout",
          "text": [
            "Epoch 12: Train Loss = 3.8949, Train Accuracy = 27.93% | Test Loss = 3.8844, Test Accuracy = 28.00%\n"
          ]
        },
        {
          "output_type": "stream",
          "name": "stderr",
          "text": [
            "100%|██████████| 201/201 [00:28<00:00,  7.05it/s]\n"
          ]
        },
        {
          "output_type": "stream",
          "name": "stdout",
          "text": [
            "Epoch 13: Train Loss = 3.7783, Train Accuracy = 29.16% | Test Loss = 3.7770, Test Accuracy = 29.02%\n"
          ]
        },
        {
          "output_type": "stream",
          "name": "stderr",
          "text": [
            "100%|██████████| 201/201 [00:28<00:00,  7.07it/s]\n"
          ]
        },
        {
          "output_type": "stream",
          "name": "stdout",
          "text": [
            "Epoch 14: Train Loss = 3.6580, Train Accuracy = 30.57% | Test Loss = 3.6641, Test Accuracy = 30.72%\n"
          ]
        },
        {
          "output_type": "stream",
          "name": "stderr",
          "text": [
            "100%|██████████| 201/201 [00:28<00:00,  7.05it/s]\n"
          ]
        },
        {
          "output_type": "stream",
          "name": "stdout",
          "text": [
            "Epoch 15: Train Loss = 3.5340, Train Accuracy = 32.21% | Test Loss = 3.5399, Test Accuracy = 32.06%\n"
          ]
        },
        {
          "output_type": "stream",
          "name": "stderr",
          "text": [
            "100%|██████████| 201/201 [00:28<00:00,  7.06it/s]\n"
          ]
        },
        {
          "output_type": "stream",
          "name": "stdout",
          "text": [
            "Epoch 16: Train Loss = 3.4056, Train Accuracy = 33.99% | Test Loss = 3.4214, Test Accuracy = 34.01%\n"
          ]
        },
        {
          "output_type": "stream",
          "name": "stderr",
          "text": [
            "100%|██████████| 201/201 [00:28<00:00,  7.08it/s]\n"
          ]
        },
        {
          "output_type": "stream",
          "name": "stdout",
          "text": [
            "Epoch 17: Train Loss = 3.2748, Train Accuracy = 35.95% | Test Loss = 3.2956, Test Accuracy = 35.88%\n"
          ]
        },
        {
          "output_type": "stream",
          "name": "stderr",
          "text": [
            "100%|██████████| 201/201 [00:28<00:00,  7.07it/s]\n"
          ]
        },
        {
          "output_type": "stream",
          "name": "stdout",
          "text": [
            "Epoch 18: Train Loss = 3.1426, Train Accuracy = 38.02% | Test Loss = 3.1732, Test Accuracy = 37.75%\n"
          ]
        },
        {
          "output_type": "stream",
          "name": "stderr",
          "text": [
            "100%|██████████| 201/201 [00:28<00:00,  7.07it/s]\n"
          ]
        },
        {
          "output_type": "stream",
          "name": "stdout",
          "text": [
            "Epoch 19: Train Loss = 3.0103, Train Accuracy = 40.18% | Test Loss = 3.0439, Test Accuracy = 39.72%\n"
          ]
        },
        {
          "output_type": "stream",
          "name": "stderr",
          "text": [
            "100%|██████████| 201/201 [00:28<00:00,  7.08it/s]\n"
          ]
        },
        {
          "output_type": "stream",
          "name": "stdout",
          "text": [
            "Epoch 20: Train Loss = 2.8746, Train Accuracy = 42.49% | Test Loss = 2.9178, Test Accuracy = 42.04%\n"
          ]
        },
        {
          "output_type": "stream",
          "name": "stderr",
          "text": [
            "100%|██████████| 201/201 [00:28<00:00,  7.07it/s]\n"
          ]
        },
        {
          "output_type": "stream",
          "name": "stdout",
          "text": [
            "Epoch 21: Train Loss = 2.7434, Train Accuracy = 44.73% | Test Loss = 2.7907, Test Accuracy = 43.80%\n"
          ]
        },
        {
          "output_type": "stream",
          "name": "stderr",
          "text": [
            "100%|██████████| 201/201 [00:28<00:00,  7.07it/s]\n"
          ]
        },
        {
          "output_type": "stream",
          "name": "stdout",
          "text": [
            "Epoch 22: Train Loss = 2.6117, Train Accuracy = 47.07% | Test Loss = 2.6725, Test Accuracy = 46.06%\n"
          ]
        },
        {
          "output_type": "stream",
          "name": "stderr",
          "text": [
            "100%|██████████| 201/201 [00:28<00:00,  7.07it/s]\n"
          ]
        },
        {
          "output_type": "stream",
          "name": "stdout",
          "text": [
            "Epoch 23: Train Loss = 2.4802, Train Accuracy = 49.49% | Test Loss = 2.5434, Test Accuracy = 48.46%\n"
          ]
        },
        {
          "output_type": "stream",
          "name": "stderr",
          "text": [
            "100%|██████████| 201/201 [00:28<00:00,  7.06it/s]\n"
          ]
        },
        {
          "output_type": "stream",
          "name": "stdout",
          "text": [
            "Epoch 24: Train Loss = 2.3565, Train Accuracy = 51.77% | Test Loss = 2.4206, Test Accuracy = 50.73%\n"
          ]
        },
        {
          "output_type": "stream",
          "name": "stderr",
          "text": [
            "100%|██████████| 201/201 [00:28<00:00,  7.06it/s]\n"
          ]
        },
        {
          "output_type": "stream",
          "name": "stdout",
          "text": [
            "Epoch 25: Train Loss = 2.2303, Train Accuracy = 54.19% | Test Loss = 2.3191, Test Accuracy = 52.52%\n"
          ]
        },
        {
          "output_type": "stream",
          "name": "stderr",
          "text": [
            "100%|██████████| 201/201 [00:28<00:00,  7.04it/s]\n"
          ]
        },
        {
          "output_type": "stream",
          "name": "stdout",
          "text": [
            "Epoch 26: Train Loss = 2.1100, Train Accuracy = 56.50% | Test Loss = 2.1991, Test Accuracy = 55.04%\n"
          ]
        },
        {
          "output_type": "stream",
          "name": "stderr",
          "text": [
            "100%|██████████| 201/201 [00:28<00:00,  7.06it/s]\n"
          ]
        },
        {
          "output_type": "stream",
          "name": "stdout",
          "text": [
            "Epoch 27: Train Loss = 1.9946, Train Accuracy = 58.81% | Test Loss = 2.0984, Test Accuracy = 56.71%\n"
          ]
        },
        {
          "output_type": "stream",
          "name": "stderr",
          "text": [
            "100%|██████████| 201/201 [00:28<00:00,  7.06it/s]\n"
          ]
        },
        {
          "output_type": "stream",
          "name": "stdout",
          "text": [
            "Epoch 28: Train Loss = 1.8827, Train Accuracy = 61.10% | Test Loss = 1.9793, Test Accuracy = 59.20%\n"
          ]
        },
        {
          "output_type": "stream",
          "name": "stderr",
          "text": [
            "100%|██████████| 201/201 [00:28<00:00,  7.05it/s]\n"
          ]
        },
        {
          "output_type": "stream",
          "name": "stdout",
          "text": [
            "Epoch 29: Train Loss = 1.7747, Train Accuracy = 63.37% | Test Loss = 1.8777, Test Accuracy = 61.20%\n"
          ]
        },
        {
          "output_type": "stream",
          "name": "stderr",
          "text": [
            "100%|██████████| 201/201 [00:28<00:00,  7.04it/s]\n"
          ]
        },
        {
          "output_type": "stream",
          "name": "stdout",
          "text": [
            "Epoch 30: Train Loss = 1.6725, Train Accuracy = 65.56% | Test Loss = 1.7922, Test Accuracy = 63.28%\n"
          ]
        },
        {
          "output_type": "stream",
          "name": "stderr",
          "text": [
            "100%|██████████| 201/201 [00:28<00:00,  7.04it/s]\n"
          ]
        },
        {
          "output_type": "stream",
          "name": "stdout",
          "text": [
            "Epoch 31: Train Loss = 1.5739, Train Accuracy = 67.66% | Test Loss = 1.6918, Test Accuracy = 65.40%\n"
          ]
        },
        {
          "output_type": "stream",
          "name": "stderr",
          "text": [
            "100%|██████████| 201/201 [00:28<00:00,  7.04it/s]\n"
          ]
        },
        {
          "output_type": "stream",
          "name": "stdout",
          "text": [
            "Epoch 32: Train Loss = 1.4819, Train Accuracy = 69.66% | Test Loss = 1.6070, Test Accuracy = 67.36%\n"
          ]
        },
        {
          "output_type": "stream",
          "name": "stderr",
          "text": [
            "100%|██████████| 201/201 [00:28<00:00,  7.02it/s]\n"
          ]
        },
        {
          "output_type": "stream",
          "name": "stdout",
          "text": [
            "Epoch 33: Train Loss = 1.3913, Train Accuracy = 71.61% | Test Loss = 1.5281, Test Accuracy = 69.17%\n"
          ]
        },
        {
          "output_type": "stream",
          "name": "stderr",
          "text": [
            "100%|██████████| 201/201 [00:28<00:00,  7.04it/s]\n"
          ]
        },
        {
          "output_type": "stream",
          "name": "stdout",
          "text": [
            "Epoch 34: Train Loss = 1.3073, Train Accuracy = 73.51% | Test Loss = 1.4396, Test Accuracy = 70.72%\n"
          ]
        },
        {
          "output_type": "stream",
          "name": "stderr",
          "text": [
            "100%|██████████| 201/201 [00:28<00:00,  7.05it/s]\n"
          ]
        },
        {
          "output_type": "stream",
          "name": "stdout",
          "text": [
            "Epoch 35: Train Loss = 1.2295, Train Accuracy = 75.22% | Test Loss = 1.3709, Test Accuracy = 72.25%\n"
          ]
        },
        {
          "output_type": "stream",
          "name": "stderr",
          "text": [
            "100%|██████████| 201/201 [00:28<00:00,  7.05it/s]\n"
          ]
        },
        {
          "output_type": "stream",
          "name": "stdout",
          "text": [
            "Epoch 36: Train Loss = 1.1545, Train Accuracy = 76.85% | Test Loss = 1.2953, Test Accuracy = 74.08%\n"
          ]
        },
        {
          "output_type": "stream",
          "name": "stderr",
          "text": [
            "100%|██████████| 201/201 [00:28<00:00,  7.05it/s]\n"
          ]
        },
        {
          "output_type": "stream",
          "name": "stdout",
          "text": [
            "Epoch 37: Train Loss = 1.0839, Train Accuracy = 78.42% | Test Loss = 1.2362, Test Accuracy = 75.39%\n"
          ]
        },
        {
          "output_type": "stream",
          "name": "stderr",
          "text": [
            "100%|██████████| 201/201 [00:28<00:00,  7.06it/s]\n"
          ]
        },
        {
          "output_type": "stream",
          "name": "stdout",
          "text": [
            "Epoch 38: Train Loss = 1.0172, Train Accuracy = 79.90% | Test Loss = 1.1714, Test Accuracy = 76.90%\n"
          ]
        },
        {
          "output_type": "stream",
          "name": "stderr",
          "text": [
            "100%|██████████| 201/201 [00:28<00:00,  7.05it/s]\n"
          ]
        },
        {
          "output_type": "stream",
          "name": "stdout",
          "text": [
            "Epoch 39: Train Loss = 0.9579, Train Accuracy = 81.16% | Test Loss = 1.1098, Test Accuracy = 78.14%\n"
          ]
        },
        {
          "output_type": "stream",
          "name": "stderr",
          "text": [
            "100%|██████████| 201/201 [00:28<00:00,  7.07it/s]\n"
          ]
        },
        {
          "output_type": "stream",
          "name": "stdout",
          "text": [
            "Epoch 40: Train Loss = 0.9004, Train Accuracy = 82.42% | Test Loss = 1.0549, Test Accuracy = 79.24%\n"
          ]
        },
        {
          "output_type": "stream",
          "name": "stderr",
          "text": [
            "100%|██████████| 201/201 [00:28<00:00,  7.06it/s]\n"
          ]
        },
        {
          "output_type": "stream",
          "name": "stdout",
          "text": [
            "Epoch 41: Train Loss = 0.8458, Train Accuracy = 83.58% | Test Loss = 1.0087, Test Accuracy = 80.25%\n"
          ]
        },
        {
          "output_type": "stream",
          "name": "stderr",
          "text": [
            "100%|██████████| 201/201 [00:28<00:00,  7.07it/s]\n"
          ]
        },
        {
          "output_type": "stream",
          "name": "stdout",
          "text": [
            "Epoch 42: Train Loss = 0.7973, Train Accuracy = 84.61% | Test Loss = 0.9627, Test Accuracy = 81.45%\n"
          ]
        },
        {
          "output_type": "stream",
          "name": "stderr",
          "text": [
            "100%|██████████| 201/201 [00:28<00:00,  7.05it/s]\n"
          ]
        },
        {
          "output_type": "stream",
          "name": "stdout",
          "text": [
            "Epoch 43: Train Loss = 0.7492, Train Accuracy = 85.64% | Test Loss = 0.9145, Test Accuracy = 82.45%\n"
          ]
        },
        {
          "output_type": "stream",
          "name": "stderr",
          "text": [
            "100%|██████████| 201/201 [00:28<00:00,  7.03it/s]\n"
          ]
        },
        {
          "output_type": "stream",
          "name": "stdout",
          "text": [
            "Epoch 44: Train Loss = 0.7086, Train Accuracy = 86.49% | Test Loss = 0.8748, Test Accuracy = 83.32%\n"
          ]
        },
        {
          "output_type": "stream",
          "name": "stderr",
          "text": [
            "100%|██████████| 201/201 [00:28<00:00,  7.04it/s]\n"
          ]
        },
        {
          "output_type": "stream",
          "name": "stdout",
          "text": [
            "Epoch 45: Train Loss = 0.6667, Train Accuracy = 87.33% | Test Loss = 0.8356, Test Accuracy = 84.09%\n"
          ]
        },
        {
          "output_type": "stream",
          "name": "stderr",
          "text": [
            "100%|██████████| 201/201 [00:28<00:00,  7.08it/s]\n"
          ]
        },
        {
          "output_type": "stream",
          "name": "stdout",
          "text": [
            "Epoch 46: Train Loss = 0.6314, Train Accuracy = 88.05% | Test Loss = 0.8039, Test Accuracy = 84.77%\n"
          ]
        },
        {
          "output_type": "stream",
          "name": "stderr",
          "text": [
            "100%|██████████| 201/201 [00:28<00:00,  7.06it/s]\n"
          ]
        },
        {
          "output_type": "stream",
          "name": "stdout",
          "text": [
            "Epoch 47: Train Loss = 0.5960, Train Accuracy = 88.73% | Test Loss = 0.7676, Test Accuracy = 85.43%\n"
          ]
        },
        {
          "output_type": "stream",
          "name": "stderr",
          "text": [
            "100%|██████████| 201/201 [00:28<00:00,  7.03it/s]\n"
          ]
        },
        {
          "output_type": "stream",
          "name": "stdout",
          "text": [
            "Epoch 48: Train Loss = 0.5645, Train Accuracy = 89.35% | Test Loss = 0.7389, Test Accuracy = 86.08%\n"
          ]
        },
        {
          "output_type": "stream",
          "name": "stderr",
          "text": [
            "100%|██████████| 201/201 [00:28<00:00,  7.07it/s]\n"
          ]
        },
        {
          "output_type": "stream",
          "name": "stdout",
          "text": [
            "Epoch 49: Train Loss = 0.5359, Train Accuracy = 89.86% | Test Loss = 0.7095, Test Accuracy = 86.66%\n"
          ]
        },
        {
          "output_type": "stream",
          "name": "stderr",
          "text": [
            "100%|██████████| 201/201 [00:28<00:00,  7.05it/s]\n"
          ]
        },
        {
          "output_type": "stream",
          "name": "stdout",
          "text": [
            "Epoch 50: Train Loss = 0.5102, Train Accuracy = 90.34% | Test Loss = 0.6861, Test Accuracy = 87.09%\n"
          ]
        },
        {
          "output_type": "stream",
          "name": "stderr",
          "text": [
            "100%|██████████| 201/201 [00:28<00:00,  7.07it/s]\n"
          ]
        },
        {
          "output_type": "stream",
          "name": "stdout",
          "text": [
            "Epoch 51: Train Loss = 0.4846, Train Accuracy = 90.82% | Test Loss = 0.6615, Test Accuracy = 87.61%\n"
          ]
        },
        {
          "output_type": "stream",
          "name": "stderr",
          "text": [
            "100%|██████████| 201/201 [00:28<00:00,  7.07it/s]\n"
          ]
        },
        {
          "output_type": "stream",
          "name": "stdout",
          "text": [
            "Epoch 52: Train Loss = 0.4610, Train Accuracy = 91.25% | Test Loss = 0.6413, Test Accuracy = 87.90%\n"
          ]
        },
        {
          "output_type": "stream",
          "name": "stderr",
          "text": [
            "100%|██████████| 201/201 [00:28<00:00,  7.06it/s]\n"
          ]
        },
        {
          "output_type": "stream",
          "name": "stdout",
          "text": [
            "Epoch 53: Train Loss = 0.4409, Train Accuracy = 91.61% | Test Loss = 0.6328, Test Accuracy = 88.23%\n"
          ]
        },
        {
          "output_type": "stream",
          "name": "stderr",
          "text": [
            "100%|██████████| 201/201 [00:28<00:00,  7.04it/s]\n"
          ]
        },
        {
          "output_type": "stream",
          "name": "stdout",
          "text": [
            "Epoch 54: Train Loss = 0.4215, Train Accuracy = 91.95% | Test Loss = 0.6076, Test Accuracy = 88.68%\n"
          ]
        },
        {
          "output_type": "stream",
          "name": "stderr",
          "text": [
            "100%|██████████| 201/201 [00:28<00:00,  7.04it/s]\n"
          ]
        },
        {
          "output_type": "stream",
          "name": "stdout",
          "text": [
            "Epoch 55: Train Loss = 0.4030, Train Accuracy = 92.28% | Test Loss = 0.5855, Test Accuracy = 88.99%\n"
          ]
        },
        {
          "output_type": "stream",
          "name": "stderr",
          "text": [
            "100%|██████████| 201/201 [00:28<00:00,  7.04it/s]\n"
          ]
        },
        {
          "output_type": "stream",
          "name": "stdout",
          "text": [
            "Epoch 56: Train Loss = 0.3865, Train Accuracy = 92.57% | Test Loss = 0.5854, Test Accuracy = 89.06%\n"
          ]
        },
        {
          "output_type": "stream",
          "name": "stderr",
          "text": [
            "100%|██████████| 201/201 [00:28<00:00,  7.04it/s]\n"
          ]
        },
        {
          "output_type": "stream",
          "name": "stdout",
          "text": [
            "Epoch 57: Train Loss = 0.3717, Train Accuracy = 92.82% | Test Loss = 0.5655, Test Accuracy = 89.35%\n"
          ]
        },
        {
          "output_type": "stream",
          "name": "stderr",
          "text": [
            "100%|██████████| 201/201 [00:28<00:00,  7.04it/s]\n"
          ]
        },
        {
          "output_type": "stream",
          "name": "stdout",
          "text": [
            "Epoch 58: Train Loss = 0.3547, Train Accuracy = 93.14% | Test Loss = 0.5535, Test Accuracy = 89.72%\n"
          ]
        },
        {
          "output_type": "stream",
          "name": "stderr",
          "text": [
            "100%|██████████| 201/201 [00:28<00:00,  7.05it/s]\n"
          ]
        },
        {
          "output_type": "stream",
          "name": "stdout",
          "text": [
            "Epoch 59: Train Loss = 0.3427, Train Accuracy = 93.32% | Test Loss = 0.5414, Test Accuracy = 89.88%\n"
          ]
        },
        {
          "output_type": "stream",
          "name": "stderr",
          "text": [
            "100%|██████████| 201/201 [00:28<00:00,  7.06it/s]\n"
          ]
        },
        {
          "output_type": "stream",
          "name": "stdout",
          "text": [
            "Epoch 60: Train Loss = 0.3308, Train Accuracy = 93.52% | Test Loss = 0.5326, Test Accuracy = 90.07%\n"
          ]
        },
        {
          "output_type": "stream",
          "name": "stderr",
          "text": [
            "100%|██████████| 201/201 [00:28<00:00,  7.04it/s]\n"
          ]
        },
        {
          "output_type": "stream",
          "name": "stdout",
          "text": [
            "Epoch 61: Train Loss = 0.3187, Train Accuracy = 93.73% | Test Loss = 0.5207, Test Accuracy = 90.26%\n"
          ]
        },
        {
          "output_type": "stream",
          "name": "stderr",
          "text": [
            "100%|██████████| 201/201 [00:28<00:00,  7.04it/s]\n"
          ]
        },
        {
          "output_type": "stream",
          "name": "stdout",
          "text": [
            "Epoch 62: Train Loss = 0.3075, Train Accuracy = 93.92% | Test Loss = 0.5180, Test Accuracy = 90.33%\n"
          ]
        },
        {
          "output_type": "stream",
          "name": "stderr",
          "text": [
            "100%|██████████| 201/201 [00:28<00:00,  7.04it/s]\n"
          ]
        },
        {
          "output_type": "stream",
          "name": "stdout",
          "text": [
            "Epoch 63: Train Loss = 0.2996, Train Accuracy = 94.05% | Test Loss = 0.5080, Test Accuracy = 90.49%\n"
          ]
        },
        {
          "output_type": "stream",
          "name": "stderr",
          "text": [
            "100%|██████████| 201/201 [00:28<00:00,  7.04it/s]\n"
          ]
        },
        {
          "output_type": "stream",
          "name": "stdout",
          "text": [
            "Epoch 64: Train Loss = 0.2872, Train Accuracy = 94.28% | Test Loss = 0.5012, Test Accuracy = 90.70%\n"
          ]
        },
        {
          "output_type": "stream",
          "name": "stderr",
          "text": [
            "100%|██████████| 201/201 [00:28<00:00,  7.03it/s]\n"
          ]
        },
        {
          "output_type": "stream",
          "name": "stdout",
          "text": [
            "Epoch 65: Train Loss = 0.2789, Train Accuracy = 94.41% | Test Loss = 0.4961, Test Accuracy = 90.77%\n"
          ]
        },
        {
          "output_type": "stream",
          "name": "stderr",
          "text": [
            "100%|██████████| 201/201 [00:28<00:00,  7.04it/s]\n"
          ]
        },
        {
          "output_type": "stream",
          "name": "stdout",
          "text": [
            "Epoch 66: Train Loss = 0.2729, Train Accuracy = 94.50% | Test Loss = 0.4898, Test Accuracy = 90.89%\n"
          ]
        },
        {
          "output_type": "stream",
          "name": "stderr",
          "text": [
            "100%|██████████| 201/201 [00:28<00:00,  7.03it/s]\n"
          ]
        },
        {
          "output_type": "stream",
          "name": "stdout",
          "text": [
            "Epoch 67: Train Loss = 0.2637, Train Accuracy = 94.67% | Test Loss = 0.4859, Test Accuracy = 90.97%\n"
          ]
        },
        {
          "output_type": "stream",
          "name": "stderr",
          "text": [
            "100%|██████████| 201/201 [00:28<00:00,  7.04it/s]\n"
          ]
        },
        {
          "output_type": "stream",
          "name": "stdout",
          "text": [
            "Epoch 68: Train Loss = 0.2565, Train Accuracy = 94.79% | Test Loss = 0.4825, Test Accuracy = 91.06%\n"
          ]
        },
        {
          "output_type": "stream",
          "name": "stderr",
          "text": [
            "100%|██████████| 201/201 [00:28<00:00,  7.04it/s]\n"
          ]
        },
        {
          "output_type": "stream",
          "name": "stdout",
          "text": [
            "Epoch 69: Train Loss = 0.2486, Train Accuracy = 94.93% | Test Loss = 0.4785, Test Accuracy = 91.12%\n"
          ]
        },
        {
          "output_type": "stream",
          "name": "stderr",
          "text": [
            "100%|██████████| 201/201 [00:28<00:00,  7.04it/s]\n"
          ]
        },
        {
          "output_type": "stream",
          "name": "stdout",
          "text": [
            "Epoch 70: Train Loss = 0.2434, Train Accuracy = 95.01% | Test Loss = 0.4751, Test Accuracy = 91.25%\n"
          ]
        },
        {
          "output_type": "stream",
          "name": "stderr",
          "text": [
            "100%|██████████| 201/201 [00:28<00:00,  7.05it/s]\n"
          ]
        },
        {
          "output_type": "stream",
          "name": "stdout",
          "text": [
            "Epoch 71: Train Loss = 0.2368, Train Accuracy = 95.14% | Test Loss = 0.4648, Test Accuracy = 91.34%\n"
          ]
        },
        {
          "output_type": "stream",
          "name": "stderr",
          "text": [
            "100%|██████████| 201/201 [00:28<00:00,  7.06it/s]\n"
          ]
        },
        {
          "output_type": "stream",
          "name": "stdout",
          "text": [
            "Epoch 72: Train Loss = 0.2327, Train Accuracy = 95.20% | Test Loss = 0.4598, Test Accuracy = 91.43%\n"
          ]
        },
        {
          "output_type": "stream",
          "name": "stderr",
          "text": [
            "100%|██████████| 201/201 [00:28<00:00,  7.07it/s]\n"
          ]
        },
        {
          "output_type": "stream",
          "name": "stdout",
          "text": [
            "Epoch 73: Train Loss = 0.2247, Train Accuracy = 95.36% | Test Loss = 0.4608, Test Accuracy = 91.56%\n"
          ]
        },
        {
          "output_type": "stream",
          "name": "stderr",
          "text": [
            "100%|██████████| 201/201 [00:28<00:00,  7.03it/s]\n"
          ]
        },
        {
          "output_type": "stream",
          "name": "stdout",
          "text": [
            "Epoch 74: Train Loss = 0.2164, Train Accuracy = 95.53% | Test Loss = 0.4556, Test Accuracy = 91.66%\n"
          ]
        },
        {
          "output_type": "stream",
          "name": "stderr",
          "text": [
            "100%|██████████| 201/201 [00:28<00:00,  7.07it/s]\n"
          ]
        },
        {
          "output_type": "stream",
          "name": "stdout",
          "text": [
            "Epoch 75: Train Loss = 0.2133, Train Accuracy = 95.57% | Test Loss = 0.4609, Test Accuracy = 91.62%\n"
          ]
        },
        {
          "output_type": "stream",
          "name": "stderr",
          "text": [
            "100%|██████████| 201/201 [00:28<00:00,  7.08it/s]\n"
          ]
        },
        {
          "output_type": "stream",
          "name": "stdout",
          "text": [
            "Epoch 76: Train Loss = 0.2099, Train Accuracy = 95.63% | Test Loss = 0.4510, Test Accuracy = 91.75%\n"
          ]
        },
        {
          "output_type": "stream",
          "name": "stderr",
          "text": [
            "100%|██████████| 201/201 [00:28<00:00,  7.04it/s]\n"
          ]
        },
        {
          "output_type": "stream",
          "name": "stdout",
          "text": [
            "Epoch 77: Train Loss = 0.2030, Train Accuracy = 95.78% | Test Loss = 0.4531, Test Accuracy = 91.81%\n"
          ]
        },
        {
          "output_type": "stream",
          "name": "stderr",
          "text": [
            "100%|██████████| 201/201 [00:28<00:00,  7.03it/s]\n"
          ]
        },
        {
          "output_type": "stream",
          "name": "stdout",
          "text": [
            "Epoch 78: Train Loss = 0.1986, Train Accuracy = 95.85% | Test Loss = 0.4466, Test Accuracy = 91.83%\n"
          ]
        },
        {
          "output_type": "stream",
          "name": "stderr",
          "text": [
            "100%|██████████| 201/201 [00:28<00:00,  7.05it/s]\n"
          ]
        },
        {
          "output_type": "stream",
          "name": "stdout",
          "text": [
            "Epoch 79: Train Loss = 0.1965, Train Accuracy = 95.88% | Test Loss = 0.4497, Test Accuracy = 91.80%\n"
          ]
        },
        {
          "output_type": "stream",
          "name": "stderr",
          "text": [
            "100%|██████████| 201/201 [00:28<00:00,  7.04it/s]\n"
          ]
        },
        {
          "output_type": "stream",
          "name": "stdout",
          "text": [
            "Epoch 80: Train Loss = 0.1919, Train Accuracy = 95.97% | Test Loss = 0.4440, Test Accuracy = 92.00%\n"
          ]
        },
        {
          "output_type": "stream",
          "name": "stderr",
          "text": [
            "100%|██████████| 201/201 [00:28<00:00,  7.05it/s]\n"
          ]
        },
        {
          "output_type": "stream",
          "name": "stdout",
          "text": [
            "Epoch 81: Train Loss = 0.1872, Train Accuracy = 96.07% | Test Loss = 0.4460, Test Accuracy = 91.93%\n"
          ]
        },
        {
          "output_type": "stream",
          "name": "stderr",
          "text": [
            "100%|██████████| 201/201 [00:28<00:00,  7.06it/s]\n"
          ]
        },
        {
          "output_type": "stream",
          "name": "stdout",
          "text": [
            "Epoch 82: Train Loss = 0.1845, Train Accuracy = 96.11% | Test Loss = 0.4455, Test Accuracy = 92.02%\n"
          ]
        },
        {
          "output_type": "stream",
          "name": "stderr",
          "text": [
            "100%|██████████| 201/201 [00:28<00:00,  7.08it/s]\n"
          ]
        },
        {
          "output_type": "stream",
          "name": "stdout",
          "text": [
            "Epoch 83: Train Loss = 0.1787, Train Accuracy = 96.23% | Test Loss = 0.4402, Test Accuracy = 92.14%\n"
          ]
        },
        {
          "output_type": "stream",
          "name": "stderr",
          "text": [
            "100%|██████████| 201/201 [00:28<00:00,  7.08it/s]\n"
          ]
        },
        {
          "output_type": "stream",
          "name": "stdout",
          "text": [
            "Epoch 84: Train Loss = 0.1745, Train Accuracy = 96.31% | Test Loss = 0.4462, Test Accuracy = 92.01%\n"
          ]
        },
        {
          "output_type": "stream",
          "name": "stderr",
          "text": [
            "100%|██████████| 201/201 [00:28<00:00,  7.08it/s]\n"
          ]
        },
        {
          "output_type": "stream",
          "name": "stdout",
          "text": [
            "Epoch 85: Train Loss = 0.1728, Train Accuracy = 96.34% | Test Loss = 0.4503, Test Accuracy = 92.11%\n"
          ]
        },
        {
          "output_type": "stream",
          "name": "stderr",
          "text": [
            "100%|██████████| 201/201 [00:28<00:00,  7.08it/s]\n"
          ]
        },
        {
          "output_type": "stream",
          "name": "stdout",
          "text": [
            "Epoch 86: Train Loss = 0.1710, Train Accuracy = 96.36% | Test Loss = 0.4363, Test Accuracy = 92.24%\n"
          ]
        },
        {
          "output_type": "stream",
          "name": "stderr",
          "text": [
            "100%|██████████| 201/201 [00:28<00:00,  7.08it/s]\n"
          ]
        },
        {
          "output_type": "stream",
          "name": "stdout",
          "text": [
            "Epoch 87: Train Loss = 0.1646, Train Accuracy = 96.51% | Test Loss = 0.4399, Test Accuracy = 92.32%\n"
          ]
        },
        {
          "output_type": "stream",
          "name": "stderr",
          "text": [
            "100%|██████████| 201/201 [00:28<00:00,  7.04it/s]\n"
          ]
        },
        {
          "output_type": "stream",
          "name": "stdout",
          "text": [
            "Epoch 88: Train Loss = 0.1601, Train Accuracy = 96.60% | Test Loss = 0.4371, Test Accuracy = 92.28%\n"
          ]
        },
        {
          "output_type": "stream",
          "name": "stderr",
          "text": [
            "100%|██████████| 201/201 [00:28<00:00,  7.04it/s]\n"
          ]
        },
        {
          "output_type": "stream",
          "name": "stdout",
          "text": [
            "Epoch 89: Train Loss = 0.1587, Train Accuracy = 96.62% | Test Loss = 0.4492, Test Accuracy = 92.26%\n"
          ]
        },
        {
          "output_type": "stream",
          "name": "stderr",
          "text": [
            "100%|██████████| 201/201 [00:28<00:00,  7.05it/s]\n"
          ]
        },
        {
          "output_type": "stream",
          "name": "stdout",
          "text": [
            "Epoch 90: Train Loss = 0.1583, Train Accuracy = 96.62% | Test Loss = 0.4437, Test Accuracy = 92.31%\n"
          ]
        },
        {
          "output_type": "stream",
          "name": "stderr",
          "text": [
            "100%|██████████| 201/201 [00:28<00:00,  7.04it/s]\n"
          ]
        },
        {
          "output_type": "stream",
          "name": "stdout",
          "text": [
            "Epoch 91: Train Loss = 0.1559, Train Accuracy = 96.66% | Test Loss = 0.4395, Test Accuracy = 92.44%\n"
          ]
        },
        {
          "output_type": "stream",
          "name": "stderr",
          "text": [
            "100%|██████████| 201/201 [00:28<00:00,  7.06it/s]\n"
          ]
        },
        {
          "output_type": "stream",
          "name": "stdout",
          "text": [
            "Epoch 92: Train Loss = 0.1515, Train Accuracy = 96.77% | Test Loss = 0.4400, Test Accuracy = 92.44%\n"
          ]
        },
        {
          "output_type": "stream",
          "name": "stderr",
          "text": [
            "100%|██████████| 201/201 [00:28<00:00,  7.04it/s]\n"
          ]
        },
        {
          "output_type": "stream",
          "name": "stdout",
          "text": [
            "Epoch 93: Train Loss = 0.1474, Train Accuracy = 96.86% | Test Loss = 0.4340, Test Accuracy = 92.53%\n"
          ]
        },
        {
          "output_type": "stream",
          "name": "stderr",
          "text": [
            "100%|██████████| 201/201 [00:28<00:00,  7.06it/s]\n"
          ]
        },
        {
          "output_type": "stream",
          "name": "stdout",
          "text": [
            "Epoch 94: Train Loss = 0.1448, Train Accuracy = 96.91% | Test Loss = 0.4344, Test Accuracy = 92.54%\n"
          ]
        },
        {
          "output_type": "stream",
          "name": "stderr",
          "text": [
            "100%|██████████| 201/201 [00:28<00:00,  7.03it/s]\n"
          ]
        },
        {
          "output_type": "stream",
          "name": "stdout",
          "text": [
            "Epoch 95: Train Loss = 0.1410, Train Accuracy = 96.99% | Test Loss = 0.4336, Test Accuracy = 92.58%\n"
          ]
        },
        {
          "output_type": "stream",
          "name": "stderr",
          "text": [
            "100%|██████████| 201/201 [00:28<00:00,  7.04it/s]\n"
          ]
        },
        {
          "output_type": "stream",
          "name": "stdout",
          "text": [
            "Epoch 96: Train Loss = 0.1396, Train Accuracy = 97.02% | Test Loss = 0.4388, Test Accuracy = 92.54%\n"
          ]
        },
        {
          "output_type": "stream",
          "name": "stderr",
          "text": [
            "100%|██████████| 201/201 [00:28<00:00,  7.03it/s]\n"
          ]
        },
        {
          "output_type": "stream",
          "name": "stdout",
          "text": [
            "Epoch 97: Train Loss = 0.1379, Train Accuracy = 97.05% | Test Loss = 0.4414, Test Accuracy = 92.59%\n"
          ]
        },
        {
          "output_type": "stream",
          "name": "stderr",
          "text": [
            "100%|██████████| 201/201 [00:28<00:00,  7.05it/s]\n"
          ]
        },
        {
          "output_type": "stream",
          "name": "stdout",
          "text": [
            "Epoch 98: Train Loss = 0.1368, Train Accuracy = 97.07% | Test Loss = 0.4389, Test Accuracy = 92.62%\n"
          ]
        },
        {
          "output_type": "stream",
          "name": "stderr",
          "text": [
            "100%|██████████| 201/201 [00:28<00:00,  7.05it/s]\n"
          ]
        },
        {
          "output_type": "stream",
          "name": "stdout",
          "text": [
            "Epoch 99: Train Loss = 0.1352, Train Accuracy = 97.09% | Test Loss = 0.4410, Test Accuracy = 92.64%\n"
          ]
        },
        {
          "output_type": "stream",
          "name": "stderr",
          "text": [
            "100%|██████████| 201/201 [00:28<00:00,  7.04it/s]\n"
          ]
        },
        {
          "output_type": "stream",
          "name": "stdout",
          "text": [
            "Epoch 100: Train Loss = 0.1331, Train Accuracy = 97.14% | Test Loss = 0.4460, Test Accuracy = 92.64%\n"
          ]
        },
        {
          "output_type": "stream",
          "name": "stderr",
          "text": [
            "100%|██████████| 201/201 [00:28<00:00,  7.05it/s]\n"
          ]
        },
        {
          "output_type": "stream",
          "name": "stdout",
          "text": [
            "Epoch 101: Train Loss = 0.1296, Train Accuracy = 97.22% | Test Loss = 0.4437, Test Accuracy = 92.73%\n"
          ]
        },
        {
          "output_type": "stream",
          "name": "stderr",
          "text": [
            "100%|██████████| 201/201 [00:28<00:00,  7.04it/s]\n"
          ]
        },
        {
          "output_type": "stream",
          "name": "stdout",
          "text": [
            "Epoch 102: Train Loss = 0.1258, Train Accuracy = 97.31% | Test Loss = 0.4316, Test Accuracy = 92.76%\n"
          ]
        },
        {
          "output_type": "stream",
          "name": "stderr",
          "text": [
            "100%|██████████| 201/201 [00:28<00:00,  7.03it/s]\n"
          ]
        },
        {
          "output_type": "stream",
          "name": "stdout",
          "text": [
            "Epoch 103: Train Loss = 0.1253, Train Accuracy = 97.31% | Test Loss = 0.4446, Test Accuracy = 92.71%\n"
          ]
        },
        {
          "output_type": "stream",
          "name": "stderr",
          "text": [
            "100%|██████████| 201/201 [00:28<00:00,  7.05it/s]\n"
          ]
        },
        {
          "output_type": "stream",
          "name": "stdout",
          "text": [
            "Epoch 104: Train Loss = 0.1263, Train Accuracy = 97.27% | Test Loss = 0.4512, Test Accuracy = 92.66%\n"
          ]
        },
        {
          "output_type": "stream",
          "name": "stderr",
          "text": [
            "100%|██████████| 201/201 [00:28<00:00,  7.07it/s]\n"
          ]
        },
        {
          "output_type": "stream",
          "name": "stdout",
          "text": [
            "Epoch 105: Train Loss = 0.1270, Train Accuracy = 97.25% | Test Loss = 0.4425, Test Accuracy = 92.83%\n"
          ]
        },
        {
          "output_type": "stream",
          "name": "stderr",
          "text": [
            "100%|██████████| 201/201 [00:28<00:00,  7.06it/s]\n"
          ]
        },
        {
          "output_type": "stream",
          "name": "stdout",
          "text": [
            "Epoch 106: Train Loss = 0.1166, Train Accuracy = 97.50% | Test Loss = 0.4365, Test Accuracy = 93.00%\n"
          ]
        },
        {
          "output_type": "stream",
          "name": "stderr",
          "text": [
            "100%|██████████| 201/201 [00:28<00:00,  7.04it/s]\n"
          ]
        },
        {
          "output_type": "stream",
          "name": "stdout",
          "text": [
            "Epoch 107: Train Loss = 0.1127, Train Accuracy = 97.60% | Test Loss = 0.4353, Test Accuracy = 92.97%\n"
          ]
        },
        {
          "output_type": "stream",
          "name": "stderr",
          "text": [
            "100%|██████████| 201/201 [00:28<00:00,  7.05it/s]\n"
          ]
        },
        {
          "output_type": "stream",
          "name": "stdout",
          "text": [
            "Epoch 108: Train Loss = 0.1123, Train Accuracy = 97.60% | Test Loss = 0.4370, Test Accuracy = 92.94%\n"
          ]
        },
        {
          "output_type": "stream",
          "name": "stderr",
          "text": [
            "100%|██████████| 201/201 [00:28<00:00,  7.05it/s]\n"
          ]
        },
        {
          "output_type": "stream",
          "name": "stdout",
          "text": [
            "Epoch 109: Train Loss = 0.1151, Train Accuracy = 97.52% | Test Loss = 0.4479, Test Accuracy = 92.79%\n"
          ]
        },
        {
          "output_type": "stream",
          "name": "stderr",
          "text": [
            "100%|██████████| 201/201 [00:28<00:00,  7.05it/s]\n"
          ]
        },
        {
          "output_type": "stream",
          "name": "stdout",
          "text": [
            "Epoch 110: Train Loss = 0.1240, Train Accuracy = 97.26% | Test Loss = 0.4428, Test Accuracy = 92.73%\n"
          ]
        },
        {
          "output_type": "stream",
          "name": "stderr",
          "text": [
            "100%|██████████| 201/201 [00:28<00:00,  7.04it/s]\n"
          ]
        },
        {
          "output_type": "stream",
          "name": "stdout",
          "text": [
            "Epoch 111: Train Loss = 0.1137, Train Accuracy = 97.52% | Test Loss = 0.4398, Test Accuracy = 93.00%\n"
          ]
        },
        {
          "output_type": "stream",
          "name": "stderr",
          "text": [
            "100%|██████████| 201/201 [00:28<00:00,  7.05it/s]\n"
          ]
        },
        {
          "output_type": "stream",
          "name": "stdout",
          "text": [
            "Epoch 112: Train Loss = 0.1054, Train Accuracy = 97.74% | Test Loss = 0.4355, Test Accuracy = 93.16%\n"
          ]
        },
        {
          "output_type": "stream",
          "name": "stderr",
          "text": [
            "100%|██████████| 201/201 [00:28<00:00,  7.04it/s]\n"
          ]
        },
        {
          "output_type": "stream",
          "name": "stdout",
          "text": [
            "Epoch 113: Train Loss = 0.1010, Train Accuracy = 97.86% | Test Loss = 0.4400, Test Accuracy = 93.16%\n"
          ]
        },
        {
          "output_type": "stream",
          "name": "stderr",
          "text": [
            "100%|██████████| 201/201 [00:28<00:00,  7.03it/s]\n"
          ]
        },
        {
          "output_type": "stream",
          "name": "stdout",
          "text": [
            "Epoch 114: Train Loss = 0.1028, Train Accuracy = 97.80% | Test Loss = 0.4559, Test Accuracy = 92.98%\n"
          ]
        },
        {
          "output_type": "stream",
          "name": "stderr",
          "text": [
            "100%|██████████| 201/201 [00:28<00:00,  7.04it/s]\n"
          ]
        },
        {
          "output_type": "stream",
          "name": "stdout",
          "text": [
            "Epoch 115: Train Loss = 0.1102, Train Accuracy = 97.60% | Test Loss = 0.4563, Test Accuracy = 92.82%\n"
          ]
        },
        {
          "output_type": "stream",
          "name": "stderr",
          "text": [
            "100%|██████████| 201/201 [00:28<00:00,  7.05it/s]\n"
          ]
        },
        {
          "output_type": "stream",
          "name": "stdout",
          "text": [
            "Epoch 116: Train Loss = 0.1122, Train Accuracy = 97.54% | Test Loss = 0.4438, Test Accuracy = 93.05%\n"
          ]
        },
        {
          "output_type": "stream",
          "name": "stderr",
          "text": [
            "100%|██████████| 201/201 [00:28<00:00,  7.04it/s]\n"
          ]
        },
        {
          "output_type": "stream",
          "name": "stdout",
          "text": [
            "Epoch 117: Train Loss = 0.1021, Train Accuracy = 97.79% | Test Loss = 0.4369, Test Accuracy = 93.17%\n"
          ]
        },
        {
          "output_type": "stream",
          "name": "stderr",
          "text": [
            "100%|██████████| 201/201 [00:28<00:00,  7.04it/s]\n"
          ]
        },
        {
          "output_type": "stream",
          "name": "stdout",
          "text": [
            "Epoch 118: Train Loss = 0.0971, Train Accuracy = 97.92% | Test Loss = 0.4437, Test Accuracy = 93.20%\n"
          ]
        },
        {
          "output_type": "stream",
          "name": "stderr",
          "text": [
            "100%|██████████| 201/201 [00:28<00:00,  7.04it/s]\n"
          ]
        },
        {
          "output_type": "stream",
          "name": "stdout",
          "text": [
            "Epoch 119: Train Loss = 0.0957, Train Accuracy = 97.95% | Test Loss = 0.4503, Test Accuracy = 93.15%\n"
          ]
        },
        {
          "output_type": "stream",
          "name": "stderr",
          "text": [
            "100%|██████████| 201/201 [00:28<00:00,  7.03it/s]\n"
          ]
        },
        {
          "output_type": "stream",
          "name": "stdout",
          "text": [
            "Epoch 120: Train Loss = 0.0960, Train Accuracy = 97.95% | Test Loss = 0.4508, Test Accuracy = 93.15%\n"
          ]
        },
        {
          "output_type": "stream",
          "name": "stderr",
          "text": [
            "100%|██████████| 201/201 [00:28<00:00,  7.04it/s]\n"
          ]
        },
        {
          "output_type": "stream",
          "name": "stdout",
          "text": [
            "Epoch 121: Train Loss = 0.0975, Train Accuracy = 97.90% | Test Loss = 0.4485, Test Accuracy = 93.14%\n"
          ]
        },
        {
          "output_type": "stream",
          "name": "stderr",
          "text": [
            "100%|██████████| 201/201 [00:28<00:00,  7.04it/s]\n"
          ]
        },
        {
          "output_type": "stream",
          "name": "stdout",
          "text": [
            "Epoch 122: Train Loss = 0.0998, Train Accuracy = 97.82% | Test Loss = 0.4471, Test Accuracy = 93.11%\n"
          ]
        },
        {
          "output_type": "stream",
          "name": "stderr",
          "text": [
            "100%|██████████| 201/201 [00:28<00:00,  7.03it/s]\n"
          ]
        },
        {
          "output_type": "stream",
          "name": "stdout",
          "text": [
            "Epoch 123: Train Loss = 0.0978, Train Accuracy = 97.87% | Test Loss = 0.4507, Test Accuracy = 93.22%\n"
          ]
        },
        {
          "output_type": "stream",
          "name": "stderr",
          "text": [
            "100%|██████████| 201/201 [00:28<00:00,  7.05it/s]\n"
          ]
        },
        {
          "output_type": "stream",
          "name": "stdout",
          "text": [
            "Epoch 124: Train Loss = 0.0925, Train Accuracy = 98.01% | Test Loss = 0.4491, Test Accuracy = 93.28%\n"
          ]
        },
        {
          "output_type": "stream",
          "name": "stderr",
          "text": [
            "100%|██████████| 201/201 [00:28<00:00,  7.04it/s]\n"
          ]
        },
        {
          "output_type": "stream",
          "name": "stdout",
          "text": [
            "Epoch 125: Train Loss = 0.0890, Train Accuracy = 98.09% | Test Loss = 0.4528, Test Accuracy = 93.27%\n"
          ]
        },
        {
          "output_type": "stream",
          "name": "stderr",
          "text": [
            "100%|██████████| 201/201 [00:28<00:00,  7.05it/s]\n"
          ]
        },
        {
          "output_type": "stream",
          "name": "stdout",
          "text": [
            "Epoch 126: Train Loss = 0.0889, Train Accuracy = 98.10% | Test Loss = 0.4447, Test Accuracy = 93.27%\n"
          ]
        },
        {
          "output_type": "stream",
          "name": "stderr",
          "text": [
            "100%|██████████| 201/201 [00:28<00:00,  7.05it/s]\n"
          ]
        },
        {
          "output_type": "stream",
          "name": "stdout",
          "text": [
            "Epoch 127: Train Loss = 0.0895, Train Accuracy = 98.07% | Test Loss = 0.4539, Test Accuracy = 93.25%\n"
          ]
        },
        {
          "output_type": "stream",
          "name": "stderr",
          "text": [
            "100%|██████████| 201/201 [00:28<00:00,  7.04it/s]\n"
          ]
        },
        {
          "output_type": "stream",
          "name": "stdout",
          "text": [
            "Epoch 128: Train Loss = 0.0886, Train Accuracy = 98.09% | Test Loss = 0.4545, Test Accuracy = 93.29%\n"
          ]
        },
        {
          "output_type": "stream",
          "name": "stderr",
          "text": [
            "100%|██████████| 201/201 [00:28<00:00,  7.06it/s]\n"
          ]
        },
        {
          "output_type": "stream",
          "name": "stdout",
          "text": [
            "Epoch 129: Train Loss = 0.0904, Train Accuracy = 98.03% | Test Loss = 0.4595, Test Accuracy = 93.13%\n"
          ]
        },
        {
          "output_type": "stream",
          "name": "stderr",
          "text": [
            "100%|██████████| 201/201 [00:28<00:00,  7.06it/s]\n"
          ]
        },
        {
          "output_type": "stream",
          "name": "stdout",
          "text": [
            "Epoch 130: Train Loss = 0.0913, Train Accuracy = 98.00% | Test Loss = 0.4565, Test Accuracy = 93.29%\n"
          ]
        },
        {
          "output_type": "stream",
          "name": "stderr",
          "text": [
            "100%|██████████| 201/201 [00:28<00:00,  7.07it/s]\n"
          ]
        },
        {
          "output_type": "stream",
          "name": "stdout",
          "text": [
            "Epoch 131: Train Loss = 0.0852, Train Accuracy = 98.16% | Test Loss = 0.4496, Test Accuracy = 93.43%\n"
          ]
        },
        {
          "output_type": "stream",
          "name": "stderr",
          "text": [
            "100%|██████████| 201/201 [00:28<00:00,  7.05it/s]\n"
          ]
        },
        {
          "output_type": "stream",
          "name": "stdout",
          "text": [
            "Epoch 132: Train Loss = 0.0814, Train Accuracy = 98.26% | Test Loss = 0.4537, Test Accuracy = 93.43%\n"
          ]
        },
        {
          "output_type": "stream",
          "name": "stderr",
          "text": [
            "100%|██████████| 201/201 [00:28<00:00,  7.04it/s]\n"
          ]
        },
        {
          "output_type": "stream",
          "name": "stdout",
          "text": [
            "Epoch 133: Train Loss = 0.0798, Train Accuracy = 98.29% | Test Loss = 0.4554, Test Accuracy = 93.43%\n"
          ]
        },
        {
          "output_type": "stream",
          "name": "stderr",
          "text": [
            "100%|██████████| 201/201 [00:28<00:00,  7.08it/s]\n"
          ]
        },
        {
          "output_type": "stream",
          "name": "stdout",
          "text": [
            "Epoch 134: Train Loss = 0.0792, Train Accuracy = 98.30% | Test Loss = 0.4653, Test Accuracy = 93.35%\n"
          ]
        },
        {
          "output_type": "stream",
          "name": "stderr",
          "text": [
            "100%|██████████| 201/201 [00:28<00:00,  7.08it/s]\n"
          ]
        },
        {
          "output_type": "stream",
          "name": "stdout",
          "text": [
            "Epoch 135: Train Loss = 0.0836, Train Accuracy = 98.19% | Test Loss = 0.4647, Test Accuracy = 93.26%\n"
          ]
        },
        {
          "output_type": "stream",
          "name": "stderr",
          "text": [
            "100%|██████████| 201/201 [00:28<00:00,  7.06it/s]\n"
          ]
        },
        {
          "output_type": "stream",
          "name": "stdout",
          "text": [
            "Epoch 136: Train Loss = 0.0884, Train Accuracy = 98.05% | Test Loss = 0.4590, Test Accuracy = 93.25%\n"
          ]
        },
        {
          "output_type": "stream",
          "name": "stderr",
          "text": [
            "100%|██████████| 201/201 [00:28<00:00,  7.08it/s]\n"
          ]
        },
        {
          "output_type": "stream",
          "name": "stdout",
          "text": [
            "Epoch 137: Train Loss = 0.0840, Train Accuracy = 98.16% | Test Loss = 0.4621, Test Accuracy = 93.44%\n"
          ]
        },
        {
          "output_type": "stream",
          "name": "stderr",
          "text": [
            "100%|██████████| 201/201 [00:28<00:00,  7.07it/s]\n"
          ]
        },
        {
          "output_type": "stream",
          "name": "stdout",
          "text": [
            "Epoch 138: Train Loss = 0.0766, Train Accuracy = 98.35% | Test Loss = 0.4522, Test Accuracy = 93.56%\n"
          ]
        },
        {
          "output_type": "stream",
          "name": "stderr",
          "text": [
            "100%|██████████| 201/201 [00:28<00:00,  7.08it/s]\n"
          ]
        },
        {
          "output_type": "stream",
          "name": "stdout",
          "text": [
            "Epoch 139: Train Loss = 0.0732, Train Accuracy = 98.44% | Test Loss = 0.4670, Test Accuracy = 93.55%\n"
          ]
        },
        {
          "output_type": "stream",
          "name": "stderr",
          "text": [
            "100%|██████████| 201/201 [00:28<00:00,  7.08it/s]\n"
          ]
        },
        {
          "output_type": "stream",
          "name": "stdout",
          "text": [
            "Epoch 140: Train Loss = 0.0729, Train Accuracy = 98.44% | Test Loss = 0.4602, Test Accuracy = 93.50%\n"
          ]
        },
        {
          "output_type": "stream",
          "name": "stderr",
          "text": [
            "100%|██████████| 201/201 [00:28<00:00,  7.08it/s]\n"
          ]
        },
        {
          "output_type": "stream",
          "name": "stdout",
          "text": [
            "Epoch 141: Train Loss = 0.0755, Train Accuracy = 98.37% | Test Loss = 0.4720, Test Accuracy = 93.35%\n"
          ]
        },
        {
          "output_type": "stream",
          "name": "stderr",
          "text": [
            "100%|██████████| 201/201 [00:28<00:00,  7.07it/s]\n"
          ]
        },
        {
          "output_type": "stream",
          "name": "stdout",
          "text": [
            "Epoch 142: Train Loss = 0.0825, Train Accuracy = 98.17% | Test Loss = 0.4703, Test Accuracy = 93.31%\n"
          ]
        },
        {
          "output_type": "stream",
          "name": "stderr",
          "text": [
            "100%|██████████| 201/201 [00:28<00:00,  7.06it/s]\n"
          ]
        },
        {
          "output_type": "stream",
          "name": "stdout",
          "text": [
            "Epoch 143: Train Loss = 0.0805, Train Accuracy = 98.22% | Test Loss = 0.4639, Test Accuracy = 93.47%\n"
          ]
        },
        {
          "output_type": "stream",
          "name": "stderr",
          "text": [
            "100%|██████████| 201/201 [00:28<00:00,  7.07it/s]\n"
          ]
        },
        {
          "output_type": "stream",
          "name": "stdout",
          "text": [
            "Epoch 144: Train Loss = 0.0738, Train Accuracy = 98.40% | Test Loss = 0.4642, Test Accuracy = 93.62%\n"
          ]
        },
        {
          "output_type": "stream",
          "name": "stderr",
          "text": [
            "100%|██████████| 201/201 [00:28<00:00,  7.05it/s]\n"
          ]
        },
        {
          "output_type": "stream",
          "name": "stdout",
          "text": [
            "Epoch 145: Train Loss = 0.0684, Train Accuracy = 98.53% | Test Loss = 0.4650, Test Accuracy = 93.65%\n"
          ]
        },
        {
          "output_type": "stream",
          "name": "stderr",
          "text": [
            "100%|██████████| 201/201 [00:28<00:00,  7.05it/s]\n"
          ]
        },
        {
          "output_type": "stream",
          "name": "stdout",
          "text": [
            "Epoch 146: Train Loss = 0.0660, Train Accuracy = 98.60% | Test Loss = 0.4660, Test Accuracy = 93.64%\n"
          ]
        },
        {
          "output_type": "stream",
          "name": "stderr",
          "text": [
            "100%|██████████| 201/201 [00:28<00:00,  7.04it/s]\n"
          ]
        },
        {
          "output_type": "stream",
          "name": "stdout",
          "text": [
            "Epoch 147: Train Loss = 0.0668, Train Accuracy = 98.58% | Test Loss = 0.4760, Test Accuracy = 93.50%\n"
          ]
        },
        {
          "output_type": "stream",
          "name": "stderr",
          "text": [
            "100%|██████████| 201/201 [00:28<00:00,  7.03it/s]\n"
          ]
        },
        {
          "output_type": "stream",
          "name": "stdout",
          "text": [
            "Epoch 148: Train Loss = 0.0736, Train Accuracy = 98.40% | Test Loss = 0.4866, Test Accuracy = 93.22%\n"
          ]
        },
        {
          "output_type": "stream",
          "name": "stderr",
          "text": [
            "100%|██████████| 201/201 [00:28<00:00,  7.02it/s]\n"
          ]
        },
        {
          "output_type": "stream",
          "name": "stdout",
          "text": [
            "Epoch 149: Train Loss = 0.0894, Train Accuracy = 97.94% | Test Loss = 0.4801, Test Accuracy = 93.18%\n"
          ]
        },
        {
          "output_type": "stream",
          "name": "stderr",
          "text": [
            "100%|██████████| 201/201 [00:28<00:00,  7.01it/s]\n"
          ]
        },
        {
          "output_type": "stream",
          "name": "stdout",
          "text": [
            "Epoch 150: Train Loss = 0.0754, Train Accuracy = 98.32% | Test Loss = 0.4591, Test Accuracy = 93.70%\n"
          ]
        }
      ]
    },
    {
      "cell_type": "code",
      "source": [
        "os.makedirs('model_weights', exist_ok=True)\n",
        "torch.save(model.state_dict(), 'model_weights/model_with_tokenizer.pth')"
      ],
      "metadata": {
        "id": "TAr3hzaDcftp"
      },
      "execution_count": 49,
      "outputs": []
    },
    {
      "cell_type": "code",
      "source": [
        "#Évolution de la Loss au fil des Epochs\n",
        "plot_loss(train_losses, test_losses)"
      ],
      "metadata": {
        "colab": {
          "base_uri": "https://localhost:8080/",
          "height": 567
        },
        "id": "7IsqbNqsXMn2",
        "outputId": "eb2c2cd6-e0dd-4e78-8322-03f62afe3cc9"
      },
      "execution_count": 50,
      "outputs": [
        {
          "output_type": "display_data",
          "data": {
            "text/plain": [
              "<Figure size 800x600 with 1 Axes>"
            ],
            "image/png": "[encoded data removed]"
          },
          "metadata": {}
        }
      ]
    },
    {
      "cell_type": "code",
      "source": [
        "def generate(model, idx, max_new_tokens, temperature=1.0):\n",
        "\n",
        "  idx_next = -1\n",
        "  i = 0\n",
        "  while idx_next != sp.piece_to_id(\"</s>\") and i < max_new_tokens :\n",
        "\n",
        "    last_index = idx.shape[1] -1\n",
        "\n",
        "    idx_cond = torch.cat((idx , torch.zeros(1,(context_size - idx.shape[1]),device=device,dtype=torch.long) ), dim=1)\n",
        "\n",
        "    logits = model(idx_cond)\n",
        "    logits = logits[:,last_index,:]\n",
        "    probs = F.softmax(logits , dim = -1)\n",
        "    idx_next = torch.multinomial(probs, num_samples=1)\n",
        "\n",
        "    idx = torch.cat((idx,idx_next) , dim = 1)\n",
        "\n",
        "    text = sp.decode(idx.tolist())[0].split(\" \") [-1]\n",
        "    yield text\n",
        "\n",
        "    i+=1\n",
        "  #return idx"
      ],
      "metadata": {
        "id": "3MM0qLRcNkGU"
      },
      "execution_count": 51,
      "outputs": []
    },
    {
      "cell_type": "code",
      "source": [
        "def clean_output(text):\n",
        "    return text.replace('▁', ' ')"
      ],
      "metadata": {
        "id": "XWWkc6y_i-VD"
      },
      "execution_count": 52,
      "outputs": []
    },
    {
      "cell_type": "code",
      "source": [
        "from time import sleep\n",
        "def tester_le_model3(test):\n",
        "  model.eval()\n",
        "\n",
        "  s_id =[sp.piece_to_id(\"<s>\")] + sp.encode(test)\n",
        "  s_id = torch.tensor(s_id , dtype=torch.long , device=device)\n",
        "  s_id = s_id.unsqueeze(0)\n",
        "  print(test,end='')\n",
        "  #generated_chars = decode(generate(m,s_id, max_new_tokens= context_size - s_id.shape[1] )[0].tolist())\n",
        "  Prediction = test\n",
        "  for char in generate(model,s_id, max_new_tokens= context_size - s_id.shape[1] ):\n",
        "    print(char, end=' ')\n",
        "    Prediction = Prediction + char[:-2] + \" \"\n",
        "  return Prediction"
      ],
      "metadata": {
        "id": "HmqxGaBXN1H2"
      },
      "execution_count": 92,
      "outputs": []
    },
    {
      "cell_type": "code",
      "source": [
        "tester_le_model3(\"I am happy to announce that the original Apprentice is coming back \")"
      ],
      "metadata": {
        "colab": {
          "base_uri": "https://localhost:8080/",
          "height": 53
        },
        "id": "q8j6UkZPeXCo",
        "outputId": "c7dff552-2396-47b8-bfef-f37b8384f0a3"
      },
      "execution_count": 138,
      "outputs": [
        {
          "output_type": "stream",
          "name": "stdout",
          "text": [
            "I am happy to announce that the original Apprentice is coming back back... back... "
          ]
        },
        {
          "output_type": "execute_result",
          "data": {
            "text/plain": [
              "'I am happy to announce that the original Apprentice is coming back back. back. '"
            ],
            "application/vnd.google.colaboratory.intrinsic+json": {
              "type": "string"
            }
          },
          "metadata": {},
          "execution_count": 138
        }
      ]
    },
    {
      "cell_type": "code",
      "source": [
        "predictions = [\n",
        "    tester_le_model3(R[:len(R)//2]) for R in tweets[:10]\n",
        "]\n",
        "print(\"\\n\\n\")\n",
        "for p in predictions:\n",
        "  print(p)\n",
        "\n",
        "# Calcul des scores\n",
        "bleu_score = compute_bleu(tweets[:10], predictions)\n",
        "\n",
        "print(f\"Score BLEU : {bleu_score:.4f}\")"
      ],
      "metadata": {
        "colab": {
          "base_uri": "https://localhost:8080/"
        },
        "id": "u827al1Rogle",
        "outputId": "e05f20b6-62aa-4bb9-97a1-67e763013344"
      },
      "execution_count": 131,
      "outputs": [
        {
          "output_type": "stream",
          "name": "stdout",
          "text": [
            "Be sure to tune in and watch Donald Trump on Late Night wiwi. The only to see 12 people doing well and congrats course course, but for two great state state. state. Donald Trump will be appearing on The View tomorrow morning to didij dijun L Les Les. I I. It It' It's been wasted billions billions. billions. Miss USA Tara Conner will not be fired - \"I've alwaysliked Ell Ell5 10 p p. p.m p.m. This is a chance - \" \"I just in n nic nic.\" -- Winston Churchill Churchill Here's to a safe and happy Independence Day Day. Does anyone think anger and all out of our president president. president. Wishing you and yours a very HaHaven people people. people. Superbowl Sunday is a great American tradition. The Colts aLas Vegas Vegas, Obamacare should cancel it it' it's it's' it's's ratings 10 p pess working with Miss USA A TOTAL magazine magazine.... magazine.... The Celebrity Apprentice has a two-hour premiere this Sunday, March 1sw swapp and all of the great start start. We Wear meeting meeting. The great achieve the American sold sold. We Wear meeting meeting. A Ah Ahoric and energy and get his his! his! The new season of the Celebrity Apprentice is off to a great starstar. -- or no price for ch chants the hell again again, I I' I'm on Fox Fox Olympic Gold Medalist Evan Lysacek just left my office. He is in ttural easier than after 12 12th Circuit did two weeks weeksERS weeksERS! weeksERS! I am happy to announce that theoriginal Apprentice --which ww. You know what do some win win. -- Henry Ford Ford \n",
            "\n",
            "\n",
            "Be sure to tune in and watch Donald Trump on Late Night wiw T on  s  peop doi we a congra cour cours b f t gre sta stat stat \n",
            "Donald Trump will be appearing on The View tomorrow morning to did dij  L Le    I It be wast billio billion billion \n",
            "Miss USA Tara Conner will not be fired - \"I've alwayslik E El    p p. Th   chan    ju   n nic  Winst Churchi Churchi \n",
            "Here's to a safe and happy Independence Day Da Do anyo thi ang a a o  o preside presiden presiden \n",
            "Wishing you and yours a very HaHav peop peopl peopl \n",
            "Superbowl Sunday is a great American tradition. The Colts aL Veg Vega Obamaca shou canc  i it it' it's ratin   pe worki wi Mi U  TOT magazi magazine.. magazine.. \n",
            "The Celebrity Apprentice has a two-hour premiere this Sunday, March 1 swa a a  t gre sta star  We meeti meetin T gre achie t Americ so sol  We meeti meetin   Ahor a ener a g h hi hi \n",
            "The new season of the Celebrity Apprentice is off to a great starsta    pri f  chan t he aga agai   I  F F \n",
            "Olympic Gold Medalist Evan Lysacek just left my office. He is in ttur easi th aft  12 Circu d t wee weeksE weeksER weeksER \n",
            "I am happy to announce that theoriginal Apprentice --which w Y kn wh  so w wi  Hen Fo Fo \n",
            "Score BLEU : 0.5196\n"
          ]
        }
      ]
    },
    {
      "cell_type": "code",
      "source": [
        "for tweet in tweets[:10]:\n",
        "  print(tweet[:len(tweet)//2] + \"        \"+tweet[len(tweet)//2:])"
      ],
      "metadata": {
        "colab": {
          "base_uri": "https://localhost:8080/"
        },
        "id": "l14B9cIMpEBP",
        "outputId": "28e31572-2ec2-4e59-cd00-c689271c0330"
      },
      "execution_count": 132,
      "outputs": [
        {
          "output_type": "stream",
          "name": "stdout",
          "text": [
            "Be sure to tune in and watch Donald Trump on Late Night wi        th David Letterman as he presents the Top Ten List tonight!\n",
            "Donald Trump will be appearing on The View tomorrow morning to di        scuss Celebrity Apprentice and his new book Think Like A Champion!\n",
            "Miss USA Tara Conner will not be fired - \"I've always         been a believer in second chances.\" says Donald Trump\n",
            "Here's to a safe and happy Independence Day         for one and all - Enjoy it! --Donald J. Trump\n",
            "Wishing you and yours a very Ha        ppy and Bountiful Thanksgiving!\n",
            "Superbowl Sunday is a great American tradition. The Colts a        nd Saints are already champions, but may the best team win!\n",
            "The Celebrity Apprentice has a two-hour premiere this Sunday, March 1        4th, at 9 p.m. on NBC. This will be the best season yet, see you then!\n",
            "The new season of the Celebrity Apprentice is off to a great star        t-- last night it swept the 10 p.m. hour in every key demographic.\n",
            "Olympic Gold Medalist Evan Lysacek just left my office. He is in t        own and wanted to meet me--he's a fanastic guy and a true champion.\n",
            "I am happy to announce that theoriginal Apprentice --which w        ill offer job opportunities to those in need--is coming back.\n"
          ]
        }
      ]
    }
  ]
}