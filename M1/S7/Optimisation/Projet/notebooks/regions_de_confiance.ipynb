{
 "cells": [
  {
   "cell_type": "markdown",
   "metadata": {},
   "source": [
    "<center>\n",
    "<h1> TP-Projet d'optimisation numérique </h1>\n",
    "<h1> Algorithme des régions de confiance </h1>\n",
    "</center>"
   ]
  },
  {
   "cell_type": "markdown",
   "metadata": {},
   "source": [
    "# Régions de confiance avec Pas de Cauchy \n",
    "\n",
    "## Implémentation \n",
    "\n",
    "1. Coder l'algorithme du pas de Cauchy dans le fichier `src/cauchy.jl`). La spécification de cet algorithme est donnée dans le fichier.\n",
    "2. Ecrire des tests exhaustifs (qui testent tous les cas de figure possibles) pour votre algorithme du pas de Cauchy. Vous remplirez pour cela le fichier `test/tester_cauchy.jl` sur le modèle des autres fichiers de tests et vous exécuterez dans la cellule de code ci-après ces tests."
   ]
  },
  {
   "cell_type": "code",
   "execution_count": 2,
   "metadata": {},
   "outputs": [
    {
     "name": "stdout",
     "output_type": "stream",
     "text": [
      "\u001b[0m\u001b[1mTest Summary: | \u001b[22m\u001b[32m\u001b[1mPass  \u001b[22m\u001b[39m\u001b[36m\u001b[1mTotal  \u001b[22m\u001b[39m\u001b[0m\u001b[1mTime\u001b[22m\n",
      "Pas de Cauchy | \u001b[32m   5  \u001b[39m\u001b[36m    5  \u001b[39m\u001b[0m0.2s\n"
     ]
    }
   ],
   "source": [
    "include(\"../src/cauchy.jl\")         # votre algorithme\n",
    "include(\"../test/tester_cauchy.jl\") # la fonction pour tester votre algorithme\n",
    "\n",
    "#\n",
    "tester_cauchy(cauchy); # tester l'algorithme"
   ]
  },
  {
   "cell_type": "markdown",
   "metadata": {},
   "source": [
    "3. Coder l'algorithme des régions de confiance (fichier `src/regions_de_confiance.jl`). Sa spécification est donnée dans le fichier.\n",
    "4. Vérifier que les tests ci-dessous passent."
   ]
  },
  {
   "cell_type": "code",
   "execution_count": 3,
   "metadata": {},
   "outputs": [
    {
     "name": "stdout",
     "output_type": "stream",
     "text": [
      "Affichage des résultats des algorithmes : true\n",
      "\n",
      "-------------------------------------------------------------------------\n",
      "\u001b[34m\u001b[1mRésultats de : RC et cauchy appliqué à f1:\u001b[22m\u001b[39m\n",
      "  * x0       = [1, 0, 0]\n",
      "  * x_sol    = [1.0000065049853921, 1.000000873235793, 0.9999952414861938]\n",
      "  * f(x_sol) = 7.71589405988668e-11\n",
      "  * nb_iters = 33\n",
      "  * flag     = 2\n",
      "  * solution = [1, 1, 1]\n",
      "-------------------------------------------------------------------------\n",
      "\u001b[34m\u001b[1mRésultats de : RC et cauchy appliqué à f1:\u001b[22m\u001b[39m\n",
      "  * x0       = [10.0, 3.0, -2.2]\n",
      "  * x_sol    = [1.000003643199092, 0.9999997146801121, 0.9999957861612833]\n",
      "  * f(x_sol) = 3.233185493810428e-11\n",
      "  * nb_iters = 34\n",
      "  * flag     = 2\n",
      "  * solution = [1, 1, 1]\n",
      "-------------------------------------------------------------------------\n",
      "\u001b[34m\u001b[1mRésultats de : RC et cauchy appliqué à f2:\u001b[22m\u001b[39m\n",
      "  * x0       = [-1.2, 1.0]\n",
      "  * x_sol    = [0.999352919780472, 0.9987042941117394]\n",
      "  * f(x_sol) = 4.19098603746544e-7\n",
      "  * nb_iters = 5000\n",
      "  * flag     = 3\n",
      "  * solution = [1, 1]\n",
      "-------------------------------------------------------------------------\n",
      "\u001b[34m\u001b[1mRésultats de : RC et cauchy appliqué à f2:\u001b[22m\u001b[39m\n",
      "  * x0       = [10, 0]\n",
      "  * x_sol    = [0.9961677295959247, 0.9923393628794702]\n",
      "  * f(x_sol) = 1.4697922915267688e-5\n",
      "  * nb_iters = 864\n",
      "  * flag     = 0\n",
      "  * solution = [1, 1]\n",
      "-------------------------------------------------------------------------\n",
      "\u001b[34m\u001b[1mRésultats de : RC et cauchy appliqué à f2:\u001b[22m\u001b[39m\n",
      "  * x0       = [0.0, 0.0050000000010000005]\n",
      "  * x_sol    = [0.999839644866284, 0.9996777928390083]\n",
      "  * f(x_sol) = 2.5945602216784932e-8\n",
      "  * nb_iters = 4512\n",
      "  * flag     = 2\n",
      "  * solution = [1, 1]\n",
      "\u001b[0m\u001b[1mTest Summary:        | \u001b[22m\u001b[32m\u001b[1mPass  \u001b[22m\u001b[39m\u001b[36m\u001b[1mTotal  \u001b[22m\u001b[39m\u001b[0m\u001b[1mTime\u001b[22m\n",
      "RC et pas de Cauchy  | \u001b[32m  15  \u001b[39m\u001b[36m   15  \u001b[39m\u001b[0m1.5s\n"
     ]
    }
   ],
   "source": [
    "include(\"../src/regions_de_confiance.jl\")\n",
    "include(\"../test/tester_rc_cauchy.jl\")\n",
    "\n",
    "#\n",
    "afficher = true# si true, alors affiche les résultats des algorithmes\n",
    "\n",
    "#\n",
    "tester_rc_cauchy(regions_de_confiance, afficher);"
   ]
  },
  {
   "cell_type": "markdown",
   "metadata": {},
   "source": [
    "## Interprétation \n",
    "\n",
    "<!-- Pour ces questions, des représentations graphiques sont attendues pour corroborer vos réponses. -->\n",
    "\n",
    "1. Soit la fonction $f_1 \\colon \\mathbb{R}^3 \\to \\mathbb{R}$ définie par\n",
    "$$ \n",
    "    f_1(x_1,x_2, x_3) = 2 (x_1 +x_2 + x_3 -3)^2 + (x_1-x_2)^2 + (x_2 - x_3)^2\n",
    "$$ \n",
    "Quelle relation lie la fonction $f_1$ et son modèle de Taylor à l’ordre 2 ? Comparer alors les performances de l'algorithme de Newton et celui des régions de confiance avec le pas de Cauchy sur cette fonction.\n",
    "\n",
    "2. Le rayon initial de la région de confiance est un paramètre important dans l’analyse\n",
    "de la performance de l’algorithme. Sur quel(s) autre(s) paramètre(s) peut-on jouer\n",
    "pour essayer d’améliorer cette performance ? Étudier l’influence d’au moins deux de\n",
    "ces paramètres. Pour cela vous ferez des tests numériques et donnerez les résultats sous forme de tableaux et de graphiques."
   ]
  },
  {
   "cell_type": "markdown",
   "metadata": {},
   "source": [
    "1. Relation entre 𝑓₁ et son modèle de Taylor à l’ordre 2\n",
    "\n",
    "La relation entre la fonction 𝑓₁ et son modèle de Taylor à l’ordre 2 est donnée par l'expression :\n",
    "\n",
    "$$ 𝑓₁(𝑥) \\approx 𝑓₁(𝑥₀) + ∇𝑓₁(𝑥₀) \\cdot (𝑥 - 𝑥₀) + \\frac{1}{2} (𝑥 - 𝑥₀)^\\top 𝐻𝑓₁(𝑥₀) (𝑥 - 𝑥₀)\n",
    "$$\n",
    "\n",
    "où \\( ∇𝑓₁ \\) est le gradient de 𝑓₁, \\( 𝐻𝑓₁ \\) est la hessienne de 𝑓₁, et \\( 𝑥₀ \\) est le point autour duquel le modèle est construit.\n",
    "\n",
    "\n",
    "Algorithme de Newton\n",
    "\n",
    "- **Avantages :** Converge rapidement pour les fonctions quadratiques comme 𝑓₁.\n",
    "- **Inconvénients :** Sensible aux points de départ et à la non-convexité.\n",
    "\n",
    "Régions de confiance avec le pas de Cauchy\n",
    "\n",
    "- **Avantages :** Plus robuste pour des fonctions non-quadratiques, peut mieux gérer les problèmes non convexes.\n",
    "- **Inconvénients :** Peut nécessiter plus d'itérations que l'algorithme de Newton sur des fonctions quadratiques simples.\n",
    "\n",
    "2. Paramètres influents\n",
    "\n",
    "Le rayon initial de la région de confiance est un paramètre critique. Pour améliorer la performance, on peut jouer avec les paramètres suivants :\n",
    "\n",
    "- **Critères d'agrandissement et de réduction de la région de confiance (η₁ et η₂) :** Ils déterminent quand agrandir ou réduire la région de confiance en fonction de la performance de l'itération précédente.\n",
    "- **Facteur d'agrandissement de la région de confiance (γ₂) :** Il influence la taille de la région de confiance lorsqu'elle est agrandie.\n",
    "\n",
    "\n"
   ]
  },
  {
   "cell_type": "code",
   "execution_count": 32,
   "metadata": {},
   "outputs": [
    {
     "data": {},
     "execution_count": 32,
     "metadata": {},
     "output_type": "execute_result"
    },
    {
     "name": "stderr",
     "output_type": "stream",
     "text": [
      "attempt to save state beyond implementation limit\n",
      "attempt to save state beyond implementation limit\n"
     ]
    }
   ],
   "source": [
    "using Plots\n",
    "\n",
    "# Expérimentation 1: Influence du rayon initial\n",
    "rayons_initiaux = [0.1, 0.5, 1.0, 2.0, 5.0]\n",
    "performances_rayons = []\n",
    "\n",
    "for r in rayons_initiaux\n",
    "    _, _, _, nb_iters = regions_de_confiance(fct1, grad_fct1, hess_fct1, pts1.x011, algo_pas=\"cauchy\", Δ0=r)\n",
    "    push!(performances_rayons, nb_iters)\n",
    "end\n",
    "\n",
    "plot(rayons_initiaux, performances_rayons, xlabel=\"Rayon Initial\", ylabel=\"Nombre d'itérations\", legend=false, title=\"Influence du Rayon Initial\")\n",
    "\n",
    "# Expérimentation 2: Influence du η2\n",
    "η_initiaux = [0.3, 0.5, 1.0, 2.0, 5.0]\n",
    "performances_η = []\n",
    "\n",
    "for η in η_initiaux\n",
    "    _, _, _, nb_iters = regions_de_confiance(fct1, grad_fct1, hess_fct1, pts1.x011, algo_pas=\"cauchy\", η2=η)\n",
    "    push!(performances_rayons, nb_iters)\n",
    "end\n",
    "\n",
    "plot(η_initiaux, performances_η, xlabel=\"η2 Initial\", ylabel=\"Nombre d'itérations\", legend=false, title=\"Influence du η2\")\n",
    "\n",
    "\n"
   ]
  },
  {
   "cell_type": "markdown",
   "metadata": {},
   "source": [
    "# Régions de confiance avec gradient conjugué tronqué\n",
    "\n",
    "## Implémentation \n",
    "\n",
    "1. Implémenter l’algorithme du gradient conjugué tronqué (fichier `src/gct.jl`). Sa spécification est dans le fichier.\n",
    "2. Vérifier que les tests ci-dessous passent."
   ]
  },
  {
   "cell_type": "code",
   "execution_count": 19,
   "metadata": {},
   "outputs": [
    {
     "name": "stdout",
     "output_type": "stream",
     "text": [
      "\u001b[0m\u001b[1mTest Summary:             | \u001b[22m\u001b[32m\u001b[1mPass  \u001b[22m\u001b[39m\u001b[36m\u001b[1mTotal  \u001b[22m\u001b[39m\u001b[0m\u001b[1mTime\u001b[22m\n",
      "Gradient conjugué tronqué | \u001b[32m   9  \u001b[39m\u001b[36m    9  \u001b[39m\u001b[0m0.0s\n"
     ]
    }
   ],
   "source": [
    "include(\"../src/gct.jl\")\n",
    "include(\"../test/tester_gct.jl\")\n",
    "\n",
    "#\n",
    "tester_gct(gct);"
   ]
  },
  {
   "cell_type": "markdown",
   "metadata": {},
   "source": [
    "3. Intégrer l’algorithme du gradient conjugué tronqué dans le code des régions de confiance.\n",
    "4. Vérifier que les tests ci-dessous passent."
   ]
  },
  {
   "cell_type": "code",
   "execution_count": 21,
   "metadata": {},
   "outputs": [
    {
     "name": "stdout",
     "output_type": "stream",
     "text": [
      "Affichage des résultats des algorithmes : true\n",
      "\n",
      "-------------------------------------------------------------------------\n",
      "\u001b[34m\u001b[1mRésultats de : RC et gct appliqué à f1:\u001b[22m\u001b[39m\n",
      "  * x0       = [1, 0, 0]\n",
      "  * x_sol    = [1.0000000000000004, 1.0000000000000002, 1.0000000000000002]\n",
      "  * f(x_sol) = 1.627025617018337e-30\n",
      "  * nb_iters = 1\n",
      "  * flag     = 0\n",
      "  * solution = [1, 1, 1]\n",
      "-------------------------------------------------------------------------\n",
      "\u001b[34m\u001b[1mRésultats de : RC et gct appliqué à f1:\u001b[22m\u001b[39m\n",
      "  * x0       = [10.0, 3.0, -2.2]\n",
      "  * x_sol    = [0.9999999999999996, 1.0000000000000004, 1.0]\n",
      "  * f(x_sol) = 9.860761315262648e-31\n",
      "  * nb_iters = 3\n",
      "  * flag     = 0\n",
      "  * solution = [1, 1, 1]\n",
      "-------------------------------------------------------------------------\n",
      "\u001b[34m\u001b[1mRésultats de : RC et gct appliqué à f2:\u001b[22m\u001b[39m\n",
      "  * x0       = [-1.2, 1.0]\n",
      "  * x_sol    = [0.999999674378009, 0.999999347837161]\n",
      "  * f(x_sol) = 1.0611413032942621e-13\n",
      "  * nb_iters = 31\n",
      "  * flag     = 0\n",
      "  * solution = [1, 1]\n",
      "-------------------------------------------------------------------------\n",
      "\u001b[34m\u001b[1mRésultats de : RC et gct appliqué à f2:\u001b[22m\u001b[39m\n",
      "  * x0       = [10, 0]\n",
      "  * x_sol    = [1.000003518300986, 1.0000066949336195]\n",
      "  * f(x_sol) = 2.4053014040534547e-11\n",
      "  * nb_iters = 44\n",
      "  * flag     = 0\n",
      "  * solution = [1, 1]\n",
      "-------------------------------------------------------------------------\n",
      "\u001b[34m\u001b[1mRésultats de : RC et gct appliqué à f2:\u001b[22m\u001b[39m\n",
      "  * x0       = [0.0, 0.0050000000010000005]\n",
      "  * x_sol    = [0.9999999999998994, 0.9999999999996207]\n",
      "  * f(x_sol) = 3.1813581453548166e-24\n",
      "  * nb_iters = 19\n",
      "  * flag     = 0\n",
      "  * solution = [1, 1]\n",
      "\u001b[0m\u001b[1mTest Summary: | \u001b[22m\u001b[32m\u001b[1mPass  \u001b[22m\u001b[39m\u001b[36m\u001b[1mTotal  \u001b[22m\u001b[39m\u001b[0m\u001b[1mTime\u001b[22m\n",
      "RC et gct     | \u001b[32m  15  \u001b[39m\u001b[36m   15  \u001b[39m\u001b[0m0.7s\n"
     ]
    }
   ],
   "source": [
    "include(\"../src/regions_de_confiance.jl\")\n",
    "include(\"../test/tester_rc_gct.jl\")\n",
    "\n",
    "#\n",
    "afficher = true # si true, alors affiche les résultats des algorithmes\n",
    "\n",
    "#\n",
    "tester_rc_gct(regions_de_confiance, afficher);"
   ]
  },
  {
   "cell_type": "markdown",
   "metadata": {},
   "source": [
    "## Interprétation  \n",
    "\n",
    "Nous proposons de comparer l'utilisation du pas de Cauchy avec celle du gradient conjugué tronqué dans l'algorithme des régions de confiance.\n",
    "\n",
    "**Remarques.**\n",
    "* Nous vous demandons de réaliser des expérimentations numériques pour les comparaisons demandées ci-après.\n",
    "* Vous devez utiliser l'argument optionnel `max_iter_gct` et la sortie `xs` de l'algorithme des régions de confiance.\n",
    "* Vous pouvez comparer l'écart en norme entre les itérés de l'algorithme et la solution du problème.\n",
    "* Vous trouverez des choses utiles dans le fichier `test/fonctions_de_tests.jl`.\n",
    "\n",
    "1. Comparer dans le cas où l'on force le gradient conjugué tronqué à ne faire qu'une seule itération. Que remarquez vous ?\n",
    "2. Comparer dans le cas général. Que remarquez vous ?\n",
    "3. Quels sont les avantages et inconvénients des deux approches ?"
   ]
  },
  {
   "cell_type": "markdown",
   "metadata": {},
   "source": [
    "1. Une seule itération forcée :\n",
    "- Avantage : Convergence plus rapide.\n",
    "- Inconvénient : Précision moindre.\n",
    "\n",
    "2. Cas général avec plusieurs itérations du GCT :\n",
    "- Avantage : Convergence plus précise.\n",
    "- Inconvénient : Peut être plus coûteux en termes de calcul.\n",
    "\n",
    "3. Avantages et inconvénients des deux approches :\n",
    "- Une seule itération forcée : Utile pour des problèmes où la rapidité de convergence est prioritaire, mais la précision peut être sacrifiée.\n",
    "- Cas général avec plusieurs itérations : Adapté aux problèmes nécessitant une haute précision malgré un coût supplémentaire en calcul.\n",
    "\n"
   ]
  },
  {
   "cell_type": "code",
   "execution_count": null,
   "metadata": {},
   "outputs": [],
   "source": []
  },
  {
   "cell_type": "code",
   "execution_count": null,
   "metadata": {},
   "outputs": [],
   "source": []
  }
 ],
 "metadata": {
  "kernelspec": {
   "display_name": "Julia 1.9.4",
   "language": "julia",
   "name": "julia-1.9"
  },
  "language_info": {
   "file_extension": ".jl",
   "mimetype": "application/julia",
   "name": "julia",
   "version": "1.9.4"
  }
 },
 "nbformat": 4,
 "nbformat_minor": 4
}
